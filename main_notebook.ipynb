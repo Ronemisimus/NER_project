{
 "cells": [
  {
   "cell_type": "code",
   "execution_count": 15,
   "metadata": {},
   "outputs": [
    {
     "name": "stdout",
     "output_type": "stream",
     "text": [
      "huggingface/tokenizers: The current process just got forked, after parallelism has already been used. Disabling parallelism to avoid deadlocks...\n",
      "To disable this warning, you can either:\n",
      "\t- Avoid using `tokenizers` before the fork if possible\n",
      "\t- Explicitly set the environment variable TOKENIZERS_PARALLELISM=(true | false)\n",
      "Requirement already satisfied: torch in /home/ronen/Documents/college/NNForNLP/workshop_1/.conda/lib/python3.10/site-packages (2.0.1)\n",
      "Requirement already satisfied: numpy in /home/ronen/Documents/college/NNForNLP/workshop_1/.conda/lib/python3.10/site-packages (1.24.2)\n",
      "Requirement already satisfied: transformers in /home/ronen/Documents/college/NNForNLP/workshop_1/.conda/lib/python3.10/site-packages (4.30.2)\n",
      "Requirement already satisfied: datasets in /home/ronen/Documents/college/NNForNLP/workshop_1/.conda/lib/python3.10/site-packages (2.13.1)\n",
      "Requirement already satisfied: gensim in /home/ronen/Documents/college/NNForNLP/workshop_1/.conda/lib/python3.10/site-packages (4.3.1)\n",
      "Requirement already satisfied: scikit-learn in /home/ronen/Documents/college/NNForNLP/workshop_1/.conda/lib/python3.10/site-packages (1.3.0)\n",
      "Requirement already satisfied: seqeval in /home/ronen/Documents/college/NNForNLP/workshop_1/.conda/lib/python3.10/site-packages (1.2.2)\n",
      "Requirement already satisfied: nvidia-cuda-runtime-cu11==11.7.99 in /home/ronen/Documents/college/NNForNLP/workshop_1/.conda/lib/python3.10/site-packages (from torch) (11.7.99)\n",
      "Requirement already satisfied: jinja2 in /home/ronen/Documents/college/NNForNLP/workshop_1/.conda/lib/python3.10/site-packages (from torch) (3.1.2)\n",
      "Requirement already satisfied: nvidia-cuda-cupti-cu11==11.7.101 in /home/ronen/Documents/college/NNForNLP/workshop_1/.conda/lib/python3.10/site-packages (from torch) (11.7.101)\n",
      "Requirement already satisfied: nvidia-cusparse-cu11==11.7.4.91 in /home/ronen/Documents/college/NNForNLP/workshop_1/.conda/lib/python3.10/site-packages (from torch) (11.7.4.91)\n",
      "Requirement already satisfied: nvidia-cublas-cu11==11.10.3.66 in /home/ronen/Documents/college/NNForNLP/workshop_1/.conda/lib/python3.10/site-packages (from torch) (11.10.3.66)\n",
      "Requirement already satisfied: typing-extensions in /home/ronen/Documents/college/NNForNLP/workshop_1/.conda/lib/python3.10/site-packages (from torch) (4.5.0)\n",
      "Requirement already satisfied: nvidia-cuda-nvrtc-cu11==11.7.99 in /home/ronen/Documents/college/NNForNLP/workshop_1/.conda/lib/python3.10/site-packages (from torch) (11.7.99)\n",
      "Requirement already satisfied: nvidia-curand-cu11==10.2.10.91 in /home/ronen/Documents/college/NNForNLP/workshop_1/.conda/lib/python3.10/site-packages (from torch) (10.2.10.91)\n",
      "Requirement already satisfied: triton==2.0.0 in /home/ronen/Documents/college/NNForNLP/workshop_1/.conda/lib/python3.10/site-packages (from torch) (2.0.0)\n",
      "Requirement already satisfied: filelock in /home/ronen/Documents/college/NNForNLP/workshop_1/.conda/lib/python3.10/site-packages (from torch) (3.12.2)\n",
      "Requirement already satisfied: nvidia-nvtx-cu11==11.7.91 in /home/ronen/Documents/college/NNForNLP/workshop_1/.conda/lib/python3.10/site-packages (from torch) (11.7.91)\n",
      "Requirement already satisfied: sympy in /home/ronen/Documents/college/NNForNLP/workshop_1/.conda/lib/python3.10/site-packages (from torch) (1.12)\n",
      "Requirement already satisfied: nvidia-cusolver-cu11==11.4.0.1 in /home/ronen/Documents/college/NNForNLP/workshop_1/.conda/lib/python3.10/site-packages (from torch) (11.4.0.1)\n",
      "Requirement already satisfied: nvidia-nccl-cu11==2.14.3 in /home/ronen/Documents/college/NNForNLP/workshop_1/.conda/lib/python3.10/site-packages (from torch) (2.14.3)\n",
      "Requirement already satisfied: networkx in /home/ronen/Documents/college/NNForNLP/workshop_1/.conda/lib/python3.10/site-packages (from torch) (3.1)\n",
      "Requirement already satisfied: nvidia-cufft-cu11==10.9.0.58 in /home/ronen/Documents/college/NNForNLP/workshop_1/.conda/lib/python3.10/site-packages (from torch) (10.9.0.58)\n",
      "Requirement already satisfied: nvidia-cudnn-cu11==8.5.0.96 in /home/ronen/Documents/college/NNForNLP/workshop_1/.conda/lib/python3.10/site-packages (from torch) (8.5.0.96)\n",
      "Requirement already satisfied: wheel in /home/ronen/Documents/college/NNForNLP/workshop_1/.conda/lib/python3.10/site-packages (from nvidia-cublas-cu11==11.10.3.66->torch) (0.38.4)\n",
      "Requirement already satisfied: setuptools in /home/ronen/Documents/college/NNForNLP/workshop_1/.conda/lib/python3.10/site-packages (from nvidia-cublas-cu11==11.10.3.66->torch) (65.6.3)\n",
      "Requirement already satisfied: lit in /home/ronen/Documents/college/NNForNLP/workshop_1/.conda/lib/python3.10/site-packages (from triton==2.0.0->torch) (16.0.6)\n",
      "Requirement already satisfied: cmake in /home/ronen/Documents/college/NNForNLP/workshop_1/.conda/lib/python3.10/site-packages (from triton==2.0.0->torch) (3.26.4)\n",
      "Requirement already satisfied: packaging>=20.0 in /home/ronen/Documents/college/NNForNLP/workshop_1/.conda/lib/python3.10/site-packages (from transformers) (23.1)\n",
      "Requirement already satisfied: safetensors>=0.3.1 in /home/ronen/Documents/college/NNForNLP/workshop_1/.conda/lib/python3.10/site-packages (from transformers) (0.3.1)\n",
      "Requirement already satisfied: huggingface-hub<1.0,>=0.14.1 in /home/ronen/Documents/college/NNForNLP/workshop_1/.conda/lib/python3.10/site-packages (from transformers) (0.16.4)\n",
      "Requirement already satisfied: pyyaml>=5.1 in /home/ronen/Documents/college/NNForNLP/workshop_1/.conda/lib/python3.10/site-packages (from transformers) (6.0)\n",
      "Requirement already satisfied: tqdm>=4.27 in /home/ronen/Documents/college/NNForNLP/workshop_1/.conda/lib/python3.10/site-packages (from transformers) (4.65.0)\n",
      "Requirement already satisfied: tokenizers!=0.11.3,<0.14,>=0.11.1 in /home/ronen/Documents/college/NNForNLP/workshop_1/.conda/lib/python3.10/site-packages (from transformers) (0.13.3)\n",
      "Requirement already satisfied: regex!=2019.12.17 in /home/ronen/Documents/college/NNForNLP/workshop_1/.conda/lib/python3.10/site-packages (from transformers) (2023.6.3)\n",
      "Requirement already satisfied: requests in /home/ronen/Documents/college/NNForNLP/workshop_1/.conda/lib/python3.10/site-packages (from transformers) (2.31.0)\n",
      "Requirement already satisfied: pyarrow>=8.0.0 in /home/ronen/Documents/college/NNForNLP/workshop_1/.conda/lib/python3.10/site-packages (from datasets) (12.0.1)\n",
      "Requirement already satisfied: fsspec[http]>=2021.11.1 in /home/ronen/Documents/college/NNForNLP/workshop_1/.conda/lib/python3.10/site-packages (from datasets) (2023.6.0)\n",
      "Requirement already satisfied: xxhash in /home/ronen/Documents/college/NNForNLP/workshop_1/.conda/lib/python3.10/site-packages (from datasets) (3.2.0)\n",
      "Requirement already satisfied: aiohttp in /home/ronen/Documents/college/NNForNLP/workshop_1/.conda/lib/python3.10/site-packages (from datasets) (3.8.4)\n",
      "Requirement already satisfied: multiprocess in /home/ronen/Documents/college/NNForNLP/workshop_1/.conda/lib/python3.10/site-packages (from datasets) (0.70.14)\n",
      "Requirement already satisfied: dill<0.3.7,>=0.3.0 in /home/ronen/Documents/college/NNForNLP/workshop_1/.conda/lib/python3.10/site-packages (from datasets) (0.3.6)\n",
      "Requirement already satisfied: pandas in /home/ronen/Documents/college/NNForNLP/workshop_1/.conda/lib/python3.10/site-packages (from datasets) (2.0.0)\n",
      "Requirement already satisfied: scipy>=1.7.0 in /home/ronen/Documents/college/NNForNLP/workshop_1/.conda/lib/python3.10/site-packages (from gensim) (1.11.1)\n",
      "Requirement already satisfied: smart-open>=1.8.1 in /home/ronen/Documents/college/NNForNLP/workshop_1/.conda/lib/python3.10/site-packages (from gensim) (6.3.0)\n",
      "Requirement already satisfied: threadpoolctl>=2.0.0 in /home/ronen/Documents/college/NNForNLP/workshop_1/.conda/lib/python3.10/site-packages (from scikit-learn) (3.2.0)\n",
      "Requirement already satisfied: joblib>=1.1.1 in /home/ronen/Documents/college/NNForNLP/workshop_1/.conda/lib/python3.10/site-packages (from scikit-learn) (1.3.1)\n",
      "Requirement already satisfied: async-timeout<5.0,>=4.0.0a3 in /home/ronen/Documents/college/NNForNLP/workshop_1/.conda/lib/python3.10/site-packages (from aiohttp->datasets) (4.0.2)\n",
      "Requirement already satisfied: frozenlist>=1.1.1 in /home/ronen/Documents/college/NNForNLP/workshop_1/.conda/lib/python3.10/site-packages (from aiohttp->datasets) (1.4.0)\n",
      "Requirement already satisfied: aiosignal>=1.1.2 in /home/ronen/Documents/college/NNForNLP/workshop_1/.conda/lib/python3.10/site-packages (from aiohttp->datasets) (1.3.1)\n",
      "Requirement already satisfied: charset-normalizer<4.0,>=2.0 in /home/ronen/Documents/college/NNForNLP/workshop_1/.conda/lib/python3.10/site-packages (from aiohttp->datasets) (3.2.0)\n",
      "Requirement already satisfied: attrs>=17.3.0 in /home/ronen/Documents/college/NNForNLP/workshop_1/.conda/lib/python3.10/site-packages (from aiohttp->datasets) (23.1.0)\n",
      "Requirement already satisfied: multidict<7.0,>=4.5 in /home/ronen/Documents/college/NNForNLP/workshop_1/.conda/lib/python3.10/site-packages (from aiohttp->datasets) (6.0.4)\n",
      "Requirement already satisfied: yarl<2.0,>=1.0 in /home/ronen/Documents/college/NNForNLP/workshop_1/.conda/lib/python3.10/site-packages (from aiohttp->datasets) (1.9.2)\n",
      "Requirement already satisfied: urllib3<3,>=1.21.1 in /home/ronen/Documents/college/NNForNLP/workshop_1/.conda/lib/python3.10/site-packages (from requests->transformers) (2.0.3)\n",
      "Requirement already satisfied: certifi>=2017.4.17 in /home/ronen/Documents/college/NNForNLP/workshop_1/.conda/lib/python3.10/site-packages (from requests->transformers) (2022.12.7)\n",
      "Requirement already satisfied: idna<4,>=2.5 in /home/ronen/.local/lib/python3.10/site-packages (from requests->transformers) (2.10)\n",
      "Requirement already satisfied: MarkupSafe>=2.0 in /home/ronen/Documents/college/NNForNLP/workshop_1/.conda/lib/python3.10/site-packages (from jinja2->torch) (2.1.3)\n",
      "Requirement already satisfied: python-dateutil>=2.8.2 in /home/ronen/Documents/college/NNForNLP/workshop_1/.conda/lib/python3.10/site-packages (from pandas->datasets) (2.8.2)\n",
      "Requirement already satisfied: pytz>=2020.1 in /home/ronen/Documents/college/NNForNLP/workshop_1/.conda/lib/python3.10/site-packages (from pandas->datasets) (2023.3)\n",
      "Requirement already satisfied: tzdata>=2022.1 in /home/ronen/Documents/college/NNForNLP/workshop_1/.conda/lib/python3.10/site-packages (from pandas->datasets) (2023.3)\n",
      "Requirement already satisfied: mpmath>=0.19 in /home/ronen/Documents/college/NNForNLP/workshop_1/.conda/lib/python3.10/site-packages (from sympy->torch) (1.3.0)\n",
      "Requirement already satisfied: six>=1.5 in /home/ronen/Documents/college/NNForNLP/workshop_1/.conda/lib/python3.10/site-packages (from python-dateutil>=2.8.2->pandas->datasets) (1.16.0)\n",
      "Note: you may need to restart the kernel to use updated packages.\n",
      "huggingface/tokenizers: The current process just got forked, after parallelism has already been used. Disabling parallelism to avoid deadlocks...\n",
      "To disable this warning, you can either:\n",
      "\t- Avoid using `tokenizers` before the fork if possible\n",
      "\t- Explicitly set the environment variable TOKENIZERS_PARALLELISM=(true | false)\n",
      "Collecting accelerate\n",
      "  Downloading accelerate-0.21.0-py3-none-any.whl (244 kB)\n",
      "\u001b[2K     \u001b[90m━━━━━━━━━━━━━━━━━━━━━━━━━━━━━━━━━━━━━━━\u001b[0m \u001b[32m244.2/244.2 kB\u001b[0m \u001b[31m1.3 MB/s\u001b[0m eta \u001b[36m0:00:00\u001b[0ma \u001b[36m0:00:01\u001b[0m\n",
      "\u001b[?25hRequirement already satisfied: packaging>=20.0 in /home/ronen/Documents/college/NNForNLP/workshop_1/.conda/lib/python3.10/site-packages (from accelerate) (23.1)\n",
      "Requirement already satisfied: pyyaml in /home/ronen/Documents/college/NNForNLP/workshop_1/.conda/lib/python3.10/site-packages (from accelerate) (6.0)\n",
      "Requirement already satisfied: numpy>=1.17 in /home/ronen/Documents/college/NNForNLP/workshop_1/.conda/lib/python3.10/site-packages (from accelerate) (1.24.2)\n",
      "Requirement already satisfied: torch>=1.10.0 in /home/ronen/Documents/college/NNForNLP/workshop_1/.conda/lib/python3.10/site-packages (from accelerate) (2.0.1)\n",
      "Requirement already satisfied: psutil in /home/ronen/Documents/college/NNForNLP/workshop_1/.conda/lib/python3.10/site-packages (from accelerate) (5.9.0)\n",
      "Requirement already satisfied: networkx in /home/ronen/Documents/college/NNForNLP/workshop_1/.conda/lib/python3.10/site-packages (from torch>=1.10.0->accelerate) (3.1)\n",
      "Requirement already satisfied: nvidia-cufft-cu11==10.9.0.58 in /home/ronen/Documents/college/NNForNLP/workshop_1/.conda/lib/python3.10/site-packages (from torch>=1.10.0->accelerate) (10.9.0.58)\n",
      "Requirement already satisfied: nvidia-cudnn-cu11==8.5.0.96 in /home/ronen/Documents/college/NNForNLP/workshop_1/.conda/lib/python3.10/site-packages (from torch>=1.10.0->accelerate) (8.5.0.96)\n",
      "Requirement already satisfied: triton==2.0.0 in /home/ronen/Documents/college/NNForNLP/workshop_1/.conda/lib/python3.10/site-packages (from torch>=1.10.0->accelerate) (2.0.0)\n",
      "Requirement already satisfied: nvidia-cusolver-cu11==11.4.0.1 in /home/ronen/Documents/college/NNForNLP/workshop_1/.conda/lib/python3.10/site-packages (from torch>=1.10.0->accelerate) (11.4.0.1)\n",
      "Requirement already satisfied: typing-extensions in /home/ronen/Documents/college/NNForNLP/workshop_1/.conda/lib/python3.10/site-packages (from torch>=1.10.0->accelerate) (4.5.0)\n",
      "Requirement already satisfied: nvidia-cublas-cu11==11.10.3.66 in /home/ronen/Documents/college/NNForNLP/workshop_1/.conda/lib/python3.10/site-packages (from torch>=1.10.0->accelerate) (11.10.3.66)\n",
      "Requirement already satisfied: jinja2 in /home/ronen/Documents/college/NNForNLP/workshop_1/.conda/lib/python3.10/site-packages (from torch>=1.10.0->accelerate) (3.1.2)\n",
      "Requirement already satisfied: nvidia-cuda-runtime-cu11==11.7.99 in /home/ronen/Documents/college/NNForNLP/workshop_1/.conda/lib/python3.10/site-packages (from torch>=1.10.0->accelerate) (11.7.99)\n",
      "Requirement already satisfied: nvidia-cusparse-cu11==11.7.4.91 in /home/ronen/Documents/college/NNForNLP/workshop_1/.conda/lib/python3.10/site-packages (from torch>=1.10.0->accelerate) (11.7.4.91)\n",
      "Requirement already satisfied: filelock in /home/ronen/Documents/college/NNForNLP/workshop_1/.conda/lib/python3.10/site-packages (from torch>=1.10.0->accelerate) (3.12.2)\n",
      "Requirement already satisfied: nvidia-cuda-cupti-cu11==11.7.101 in /home/ronen/Documents/college/NNForNLP/workshop_1/.conda/lib/python3.10/site-packages (from torch>=1.10.0->accelerate) (11.7.101)\n",
      "Requirement already satisfied: nvidia-cuda-nvrtc-cu11==11.7.99 in /home/ronen/Documents/college/NNForNLP/workshop_1/.conda/lib/python3.10/site-packages (from torch>=1.10.0->accelerate) (11.7.99)\n",
      "Requirement already satisfied: nvidia-curand-cu11==10.2.10.91 in /home/ronen/Documents/college/NNForNLP/workshop_1/.conda/lib/python3.10/site-packages (from torch>=1.10.0->accelerate) (10.2.10.91)\n",
      "Requirement already satisfied: sympy in /home/ronen/Documents/college/NNForNLP/workshop_1/.conda/lib/python3.10/site-packages (from torch>=1.10.0->accelerate) (1.12)\n",
      "Requirement already satisfied: nvidia-nvtx-cu11==11.7.91 in /home/ronen/Documents/college/NNForNLP/workshop_1/.conda/lib/python3.10/site-packages (from torch>=1.10.0->accelerate) (11.7.91)\n",
      "Requirement already satisfied: nvidia-nccl-cu11==2.14.3 in /home/ronen/Documents/college/NNForNLP/workshop_1/.conda/lib/python3.10/site-packages (from torch>=1.10.0->accelerate) (2.14.3)\n",
      "Requirement already satisfied: setuptools in /home/ronen/Documents/college/NNForNLP/workshop_1/.conda/lib/python3.10/site-packages (from nvidia-cublas-cu11==11.10.3.66->torch>=1.10.0->accelerate) (65.6.3)\n",
      "Requirement already satisfied: wheel in /home/ronen/Documents/college/NNForNLP/workshop_1/.conda/lib/python3.10/site-packages (from nvidia-cublas-cu11==11.10.3.66->torch>=1.10.0->accelerate) (0.38.4)\n",
      "Requirement already satisfied: cmake in /home/ronen/Documents/college/NNForNLP/workshop_1/.conda/lib/python3.10/site-packages (from triton==2.0.0->torch>=1.10.0->accelerate) (3.26.4)\n",
      "Requirement already satisfied: lit in /home/ronen/Documents/college/NNForNLP/workshop_1/.conda/lib/python3.10/site-packages (from triton==2.0.0->torch>=1.10.0->accelerate) (16.0.6)\n",
      "Requirement already satisfied: MarkupSafe>=2.0 in /home/ronen/Documents/college/NNForNLP/workshop_1/.conda/lib/python3.10/site-packages (from jinja2->torch>=1.10.0->accelerate) (2.1.3)\n",
      "Requirement already satisfied: mpmath>=0.19 in /home/ronen/Documents/college/NNForNLP/workshop_1/.conda/lib/python3.10/site-packages (from sympy->torch>=1.10.0->accelerate) (1.3.0)\n",
      "Installing collected packages: accelerate\n",
      "Successfully installed accelerate-0.21.0\n",
      "Note: you may need to restart the kernel to use updated packages.\n"
     ]
    }
   ],
   "source": [
    "%pip install torch numpy transformers datasets gensim scikit-learn seqeval\n",
    "%pip install accelerate -U"
   ]
  },
  {
   "cell_type": "markdown",
   "metadata": {},
   "source": [
    "## Part I"
   ]
  },
  {
   "cell_type": "markdown",
   "metadata": {},
   "source": [
    "Download the dataset from HuggingFace"
   ]
  },
  {
   "cell_type": "code",
   "execution_count": 2,
   "metadata": {},
   "outputs": [
    {
     "name": "stderr",
     "output_type": "stream",
     "text": [
      "/home/ronen/Documents/college/NNForNLP/workshop_1/.conda/lib/python3.10/site-packages/tqdm/auto.py:21: TqdmWarning: IProgress not found. Please update jupyter and ipywidgets. See https://ipywidgets.readthedocs.io/en/stable/user_install.html\n",
      "  from .autonotebook import tqdm as notebook_tqdm\n",
      "Found cached dataset conll2003 (/home/ronen/.cache/huggingface/datasets/conll2003/conll2003/1.0.0/9a4d16a94f8674ba3466315300359b0acd891b68b6c8743ddf60b9c702adce98)\n",
      "100%|██████████| 3/3 [00:00<00:00, 609.58it/s]\n"
     ]
    }
   ],
   "source": [
    "from datasets import load_dataset\n",
    "\n",
    "dataset = load_dataset(\"conll2003\")"
   ]
  },
  {
   "cell_type": "code",
   "execution_count": 3,
   "metadata": {},
   "outputs": [
    {
     "data": {
      "text/plain": [
       "{'train': ['id', 'tokens', 'pos_tags', 'chunk_tags', 'ner_tags'],\n",
       " 'validation': ['id', 'tokens', 'pos_tags', 'chunk_tags', 'ner_tags'],\n",
       " 'test': ['id', 'tokens', 'pos_tags', 'chunk_tags', 'ner_tags']}"
      ]
     },
     "execution_count": 3,
     "metadata": {},
     "output_type": "execute_result"
    }
   ],
   "source": [
    "dataset.set_format(\"torch\")\n",
    "dataset.column_names"
   ]
  },
  {
   "cell_type": "code",
   "execution_count": 4,
   "metadata": {},
   "outputs": [
    {
     "data": {
      "text/plain": [
       "{'id': '0',\n",
       " 'tokens': ['EU',\n",
       "  'rejects',\n",
       "  'German',\n",
       "  'call',\n",
       "  'to',\n",
       "  'boycott',\n",
       "  'British',\n",
       "  'lamb',\n",
       "  '.'],\n",
       " 'pos_tags': tensor([22, 42, 16, 21, 35, 37, 16, 21,  7]),\n",
       " 'chunk_tags': tensor([11, 21, 11, 12, 21, 22, 11, 12,  0]),\n",
       " 'ner_tags': tensor([3, 0, 7, 0, 0, 0, 7, 0, 0])}"
      ]
     },
     "execution_count": 4,
     "metadata": {},
     "output_type": "execute_result"
    }
   ],
   "source": [
    "import torch\n",
    "dataset['train'][0]"
   ]
  },
  {
   "cell_type": "code",
   "execution_count": 1,
   "metadata": {},
   "outputs": [
    {
     "name": "stderr",
     "output_type": "stream",
     "text": [
      "/home/ronen/Documents/college/NNForNLP/workshop_1/.conda/lib/python3.10/site-packages/tqdm/auto.py:21: TqdmWarning: IProgress not found. Please update jupyter and ipywidgets. See https://ipywidgets.readthedocs.io/en/stable/user_install.html\n",
      "  from .autonotebook import tqdm as notebook_tqdm\n",
      "Found cached dataset conll2003 (/home/ronen/.cache/huggingface/datasets/conll2003/conll2003/1.0.0/9a4d16a94f8674ba3466315300359b0acd891b68b6c8743ddf60b9c702adce98)\n",
      "100%|██████████| 3/3 [00:00<00:00, 622.98it/s]\n"
     ]
    },
    {
     "data": {
      "text/plain": [
       "{'train': ['id', 'tokens', 'pos_tags', 'chunk_tags', 'ner_tags'],\n",
       " 'validation': ['id', 'tokens', 'pos_tags', 'chunk_tags', 'ner_tags'],\n",
       " 'test': ['id', 'tokens', 'pos_tags', 'chunk_tags', 'ner_tags']}"
      ]
     },
     "execution_count": 1,
     "metadata": {},
     "output_type": "execute_result"
    }
   ],
   "source": [
    "from datasets import load_dataset\n",
    "\n",
    "dataset = load_dataset(\"conll2003\")\n",
    "dataset.set_format(\"torch\", columns=[\"tokens\", \"ner_tags\"])\n",
    "dataset.column_names"
   ]
  },
  {
   "cell_type": "code",
   "execution_count": 2,
   "metadata": {},
   "outputs": [
    {
     "data": {
      "text/plain": [
       "{'tokens': ['EU',\n",
       "  'rejects',\n",
       "  'German',\n",
       "  'call',\n",
       "  'to',\n",
       "  'boycott',\n",
       "  'British',\n",
       "  'lamb',\n",
       "  '.'],\n",
       " 'ner_tags': tensor([3, 0, 7, 0, 0, 0, 7, 0, 0])}"
      ]
     },
     "execution_count": 2,
     "metadata": {},
     "output_type": "execute_result"
    }
   ],
   "source": [
    "dataset['train'][0]"
   ]
  },
  {
   "cell_type": "markdown",
   "metadata": {},
   "source": [
    "### EDA"
   ]
  },
  {
   "cell_type": "code",
   "execution_count": 2,
   "metadata": {},
   "outputs": [
    {
     "data": {
      "text/plain": [
       "Counter({'EU': 24,\n",
       "         'rejects': 1,\n",
       "         'German': 85,\n",
       "         'call': 30,\n",
       "         'to': 3382,\n",
       "         'boycott': 5,\n",
       "         'British': 93,\n",
       "         'lamb': 3,\n",
       "         '.': 7374,\n",
       "         'Peter': 31,\n",
       "         'Blackburn': 11,\n",
       "         'BRUSSELS': 17,\n",
       "         '1996-08-22': 125,\n",
       "         'The': 1127,\n",
       "         'European': 86,\n",
       "         'Commission': 49,\n",
       "         'said': 1846,\n",
       "         'on': 2040,\n",
       "         'Thursday': 285,\n",
       "         'it': 553,\n",
       "         'disagreed': 2,\n",
       "         'with': 840,\n",
       "         'advice': 5,\n",
       "         'consumers': 9,\n",
       "         'shun': 1,\n",
       "         'until': 53,\n",
       "         'scientists': 6,\n",
       "         'determine': 11,\n",
       "         'whether': 45,\n",
       "         'mad': 13,\n",
       "         'cow': 12,\n",
       "         'disease': 35,\n",
       "         'can': 71,\n",
       "         'be': 525,\n",
       "         'transmitted': 2,\n",
       "         'sheep': 12,\n",
       "         'Germany': 143,\n",
       "         \"'s\": 1536,\n",
       "         'representative': 7,\n",
       "         'the': 7243,\n",
       "         'Union': 46,\n",
       "         'veterinary': 8,\n",
       "         'committee': 22,\n",
       "         'Werner': 2,\n",
       "         'Zwingmann': 2,\n",
       "         'Wednesday': 261,\n",
       "         'should': 78,\n",
       "         'buy': 26,\n",
       "         'sheepmeat': 2,\n",
       "         'from': 757,\n",
       "         'countries': 42,\n",
       "         'other': 132,\n",
       "         'than': 144,\n",
       "         'Britain': 133,\n",
       "         'scientific': 9,\n",
       "         'was': 1095,\n",
       "         'clearer': 1,\n",
       "         '\"': 2178,\n",
       "         'We': 137,\n",
       "         'do': 107,\n",
       "         \"n't\": 98,\n",
       "         'support': 61,\n",
       "         'any': 92,\n",
       "         'such': 40,\n",
       "         'recommendation': 3,\n",
       "         'because': 114,\n",
       "         'we': 163,\n",
       "         'see': 28,\n",
       "         'grounds': 6,\n",
       "         'for': 1421,\n",
       "         ',': 7290,\n",
       "         'chief': 50,\n",
       "         'spokesman': 106,\n",
       "         'Nikolaus': 1,\n",
       "         'van': 18,\n",
       "         'der': 9,\n",
       "         'Pas': 1,\n",
       "         'told': 199,\n",
       "         'a': 2994,\n",
       "         'news': 85,\n",
       "         'briefing': 6,\n",
       "         'He': 209,\n",
       "         'further': 32,\n",
       "         'study': 10,\n",
       "         'required': 8,\n",
       "         'and': 2838,\n",
       "         'if': 98,\n",
       "         'found': 62,\n",
       "         'that': 767,\n",
       "         'action': 29,\n",
       "         'needed': 24,\n",
       "         'taken': 41,\n",
       "         'by': 716,\n",
       "         'proposal': 10,\n",
       "         'last': 282,\n",
       "         'month': 89,\n",
       "         'Farm': 3,\n",
       "         'Commissioner': 7,\n",
       "         'Franz': 4,\n",
       "         'Fischler': 6,\n",
       "         'ban': 36,\n",
       "         'brains': 2,\n",
       "         'spleens': 2,\n",
       "         'spinal': 5,\n",
       "         'cords': 2,\n",
       "         'human': 29,\n",
       "         'animal': 8,\n",
       "         'food': 21,\n",
       "         'chains': 6,\n",
       "         'highly': 6,\n",
       "         'specific': 7,\n",
       "         'precautionary': 1,\n",
       "         'move': 18,\n",
       "         'protect': 4,\n",
       "         'health': 25,\n",
       "         'proposed': 15,\n",
       "         'EU-wide': 1,\n",
       "         'measures': 16,\n",
       "         'after': 471,\n",
       "         'reports': 32,\n",
       "         'France': 127,\n",
       "         'under': 159,\n",
       "         'laboratory': 3,\n",
       "         'conditions': 25,\n",
       "         'could': 143,\n",
       "         'contract': 29,\n",
       "         'Bovine': 2,\n",
       "         'Spongiform': 2,\n",
       "         'Encephalopathy': 2,\n",
       "         '(': 2861,\n",
       "         'BSE': 11,\n",
       "         ')': 2861,\n",
       "         '--': 356,\n",
       "         'But': 155,\n",
       "         'agreed': 53,\n",
       "         'review': 7,\n",
       "         'his': 538,\n",
       "         'standing': 9,\n",
       "         'mational': 1,\n",
       "         'officials': 124,\n",
       "         'questioned': 12,\n",
       "         'justified': 4,\n",
       "         'as': 602,\n",
       "         'there': 122,\n",
       "         'only': 125,\n",
       "         'slight': 6,\n",
       "         'risk': 19,\n",
       "         'Spanish': 13,\n",
       "         'Minister': 121,\n",
       "         'Loyola': 1,\n",
       "         'de': 47,\n",
       "         'Palacio': 1,\n",
       "         'had': 561,\n",
       "         'earlier': 83,\n",
       "         'accused': 38,\n",
       "         'at': 931,\n",
       "         'an': 507,\n",
       "         'farm': 17,\n",
       "         'ministers': 14,\n",
       "         \"'\": 146,\n",
       "         'meeting': 86,\n",
       "         'of': 3751,\n",
       "         'causing': 4,\n",
       "         'unjustified': 1,\n",
       "         'alarm': 3,\n",
       "         'through': 105,\n",
       "         'dangerous': 13,\n",
       "         'generalisation': 1,\n",
       "         'Only': 5,\n",
       "         'backed': 7,\n",
       "         'multidisciplinary': 1,\n",
       "         'committees': 2,\n",
       "         'are': 346,\n",
       "         'due': 74,\n",
       "         're-examine': 2,\n",
       "         'issue': 56,\n",
       "         'early': 75,\n",
       "         'next': 110,\n",
       "         'make': 57,\n",
       "         'recommendations': 2,\n",
       "         'senior': 26,\n",
       "         'Sheep': 2,\n",
       "         'have': 501,\n",
       "         'long': 35,\n",
       "         'been': 368,\n",
       "         'known': 31,\n",
       "         'scrapie': 2,\n",
       "         'brain-wasting': 3,\n",
       "         'similar': 23,\n",
       "         'which': 330,\n",
       "         'is': 691,\n",
       "         'believed': 28,\n",
       "         'transferred': 3,\n",
       "         'cattle': 12,\n",
       "         'feed': 18,\n",
       "         'containing': 5,\n",
       "         'waste': 7,\n",
       "         'farmers': 19,\n",
       "         'denied': 24,\n",
       "         'danger': 10,\n",
       "         'their': 346,\n",
       "         'but': 389,\n",
       "         'expressed': 11,\n",
       "         'concern': 17,\n",
       "         'government': 258,\n",
       "         'avoid': 15,\n",
       "         'might': 36,\n",
       "         'influence': 4,\n",
       "         'across': 34,\n",
       "         'Europe': 39,\n",
       "         'What': 12,\n",
       "         'extremely': 8,\n",
       "         'careful': 1,\n",
       "         'how': 28,\n",
       "         'going': 52,\n",
       "         'take': 80,\n",
       "         'lead': 75,\n",
       "         'Welsh': 2,\n",
       "         'National': 77,\n",
       "         'Farmers': 2,\n",
       "         'NFU': 1,\n",
       "         'chairman': 27,\n",
       "         'John': 50,\n",
       "         'Lloyd': 21,\n",
       "         'Jones': 17,\n",
       "         'BBC': 2,\n",
       "         'radio': 24,\n",
       "         'Bonn': 8,\n",
       "         'has': 557,\n",
       "         'led': 37,\n",
       "         'efforts': 15,\n",
       "         'public': 33,\n",
       "         'consumer': 15,\n",
       "         'confidence': 10,\n",
       "         'collapsed': 3,\n",
       "         'in': 3398,\n",
       "         'March': 36,\n",
       "         'report': 54,\n",
       "         'suggested': 4,\n",
       "         'humans': 3,\n",
       "         'illness': 7,\n",
       "         'eating': 8,\n",
       "         'contaminated': 2,\n",
       "         'beef': 10,\n",
       "         'imported': 5,\n",
       "         '47,600': 2,\n",
       "         'year': 293,\n",
       "         'nearly': 27,\n",
       "         'half': 84,\n",
       "         'total': 38,\n",
       "         'imports': 13,\n",
       "         'It': 207,\n",
       "         'brought': 31,\n",
       "         '4,275': 2,\n",
       "         'tonnes': 82,\n",
       "         'mutton': 3,\n",
       "         'some': 157,\n",
       "         '10': 197,\n",
       "         'percent': 303,\n",
       "         'overall': 20,\n",
       "         'Rare': 1,\n",
       "         'Hendrix': 5,\n",
       "         'song': 2,\n",
       "         'draft': 11,\n",
       "         'sells': 4,\n",
       "         'almost': 14,\n",
       "         '$': 362,\n",
       "         '17,000': 2,\n",
       "         'LONDON': 93,\n",
       "         'A': 205,\n",
       "         'rare': 8,\n",
       "         'handwritten': 1,\n",
       "         'U.S.': 377,\n",
       "         'guitar': 2,\n",
       "         'legend': 1,\n",
       "         'Jimi': 1,\n",
       "         'sold': 28,\n",
       "         'auction': 14,\n",
       "         'late': 53,\n",
       "         'musician': 1,\n",
       "         'favourite': 3,\n",
       "         'possessions': 1,\n",
       "         'Florida': 18,\n",
       "         'restaurant': 7,\n",
       "         'paid': 18,\n",
       "         '10,925': 1,\n",
       "         'pounds': 23,\n",
       "         '16,935': 1,\n",
       "         'Ai': 4,\n",
       "         'no': 165,\n",
       "         'telling': 6,\n",
       "         'penned': 1,\n",
       "         'piece': 5,\n",
       "         'London': 86,\n",
       "         'hotel': 10,\n",
       "         'stationery': 2,\n",
       "         '1966': 3,\n",
       "         'At': 84,\n",
       "         'end': 74,\n",
       "         'January': 20,\n",
       "         '1967': 4,\n",
       "         'concert': 3,\n",
       "         'English': 42,\n",
       "         'city': 55,\n",
       "         'Nottingham': 6,\n",
       "         'he': 582,\n",
       "         'threw': 10,\n",
       "         'sheet': 5,\n",
       "         'paper': 24,\n",
       "         'into': 160,\n",
       "         'audience': 5,\n",
       "         'where': 100,\n",
       "         'retrieved': 1,\n",
       "         'fan': 3,\n",
       "         'Buyers': 2,\n",
       "         'also': 214,\n",
       "         'snapped': 14,\n",
       "         'up': 314,\n",
       "         '16': 57,\n",
       "         'items': 7,\n",
       "         'were': 531,\n",
       "         'put': 58,\n",
       "         'former': 109,\n",
       "         'girlfriend': 3,\n",
       "         'Kathy': 2,\n",
       "         'Etchingham': 1,\n",
       "         'who': 439,\n",
       "         'lived': 8,\n",
       "         'him': 111,\n",
       "         '1969': 2,\n",
       "         'They': 86,\n",
       "         'included': 20,\n",
       "         'black': 21,\n",
       "         'lacquer': 1,\n",
       "         'mother': 11,\n",
       "         'pearl': 1,\n",
       "         'inlaid': 1,\n",
       "         'box': 6,\n",
       "         'used': 31,\n",
       "         'store': 7,\n",
       "         'drugs': 21,\n",
       "         'anonymous': 3,\n",
       "         'Australian': 53,\n",
       "         'purchaser': 1,\n",
       "         'bought': 19,\n",
       "         '5,060': 1,\n",
       "         '7,845': 1,\n",
       "         'guitarist': 1,\n",
       "         'died': 37,\n",
       "         'overdose': 1,\n",
       "         '1970': 2,\n",
       "         'aged': 8,\n",
       "         '27': 37,\n",
       "         'China': 97,\n",
       "         'says': 66,\n",
       "         'Taiwan': 31,\n",
       "         'spoils': 1,\n",
       "         'atmosphere': 6,\n",
       "         'talks': 83,\n",
       "         'BEIJING': 9,\n",
       "         'Taipei': 6,\n",
       "         'spoiling': 2,\n",
       "         'resumption': 2,\n",
       "         'Strait': 2,\n",
       "         'visit': 68,\n",
       "         'Ukraine': 39,\n",
       "         'Taiwanese': 3,\n",
       "         'Vice': 3,\n",
       "         'President': 110,\n",
       "         'Lien': 2,\n",
       "         'Chan': 2,\n",
       "         'this': 284,\n",
       "         'week': 147,\n",
       "         'infuriated': 3,\n",
       "         'Beijing': 15,\n",
       "         'Speaking': 2,\n",
       "         'hours': 45,\n",
       "         'Chinese': 25,\n",
       "         'state': 127,\n",
       "         'media': 16,\n",
       "         'time': 144,\n",
       "         'right': 36,\n",
       "         'engage': 2,\n",
       "         'political': 71,\n",
       "         'Foreign': 48,\n",
       "         'Ministry': 33,\n",
       "         'Shen': 2,\n",
       "         'Guofang': 1,\n",
       "         'Reuters': 79,\n",
       "         ':': 691,\n",
       "         'necessary': 10,\n",
       "         'opening': 31,\n",
       "         'disrupted': 4,\n",
       "         'authorities': 46,\n",
       "         'State': 32,\n",
       "         'quoted': 49,\n",
       "         'top': 52,\n",
       "         'negotiator': 5,\n",
       "         'Tang': 5,\n",
       "         'Shubei': 2,\n",
       "         'visiting': 9,\n",
       "         'group': 124,\n",
       "         'rivals': 8,\n",
       "         'hold': 37,\n",
       "         'Now': 8,\n",
       "         'two': 349,\n",
       "         'sides': 19,\n",
       "         '...': 44,\n",
       "         'hostility': 3,\n",
       "         'overseas': 7,\n",
       "         'edition': 5,\n",
       "         'People': 17,\n",
       "         'Daily': 8,\n",
       "         'saying': 74,\n",
       "         'foreign': 72,\n",
       "         'ministry': 42,\n",
       "         'Television': 2,\n",
       "         'interview': 13,\n",
       "         'read': 10,\n",
       "         'comments': 8,\n",
       "         'gave': 56,\n",
       "         'details': 30,\n",
       "         'why': 10,\n",
       "         'considered': 11,\n",
       "         'considers': 1,\n",
       "         'renegade': 6,\n",
       "         'province': 22,\n",
       "         'opposed': 11,\n",
       "         'all': 128,\n",
       "         'gain': 6,\n",
       "         'greater': 4,\n",
       "         'international': 71,\n",
       "         'recognition': 3,\n",
       "         'rival': 18,\n",
       "         'island': 25,\n",
       "         'practical': 3,\n",
       "         'steps': 3,\n",
       "         'towards': 15,\n",
       "         'goal': 24,\n",
       "         'Consultations': 1,\n",
       "         'held': 80,\n",
       "         'set': 83,\n",
       "         'format': 1,\n",
       "         'official': 109,\n",
       "         'Xinhua': 4,\n",
       "         'agency': 52,\n",
       "         'executive': 23,\n",
       "         'vice': 10,\n",
       "         'Association': 25,\n",
       "         'Relations': 4,\n",
       "         'Across': 1,\n",
       "         'Straits': 2,\n",
       "         'July': 99,\n",
       "         'car': 19,\n",
       "         'registrations': 9,\n",
       "         '14.2': 2,\n",
       "         'pct': 56,\n",
       "         'yr': 13,\n",
       "         '/': 235,\n",
       "         'FRANKFURT': 5,\n",
       "         'first-time': 1,\n",
       "         'motor': 8,\n",
       "         'vehicles': 10,\n",
       "         'jumped': 3,\n",
       "         'year-earlier': 2,\n",
       "         'period': 35,\n",
       "         'Federal': 10,\n",
       "         'office': 50,\n",
       "         '356,725': 1,\n",
       "         'new': 199,\n",
       "         'cars': 10,\n",
       "         'registered': 9,\n",
       "         '1996': 122,\n",
       "         '304,850': 1,\n",
       "         'passenger': 16,\n",
       "         '15,613': 1,\n",
       "         'trucks': 4,\n",
       "         'figures': 29,\n",
       "         'represent': 4,\n",
       "         '13.6': 1,\n",
       "         'increase': 22,\n",
       "         '2.2': 3,\n",
       "         'decline': 6,\n",
       "         '1995': 63,\n",
       "         'Motor-bike': 1,\n",
       "         'registration': 11,\n",
       "         'rose': 33,\n",
       "         '32.7': 1,\n",
       "         'growth': 39,\n",
       "         'partly': 5,\n",
       "         'increased': 19,\n",
       "         'number': 75,\n",
       "         'Germans': 2,\n",
       "         'buying': 13,\n",
       "         'abroad': 14,\n",
       "         'while': 92,\n",
       "         'manufacturers': 6,\n",
       "         'domestic': 20,\n",
       "         'demand': 49,\n",
       "         'weak': 9,\n",
       "         'federal': 21,\n",
       "         'Almost': 3,\n",
       "         'posted': 11,\n",
       "         'gains': 17,\n",
       "         'numbers': 13,\n",
       "         'Volkswagen': 4,\n",
       "         'AG': 14,\n",
       "         'won': 163,\n",
       "         '77,719': 1,\n",
       "         'slightly': 15,\n",
       "         'more': 154,\n",
       "         'quarter': 42,\n",
       "         'Opel': 1,\n",
       "         'together': 9,\n",
       "         'General': 22,\n",
       "         'Motors': 3,\n",
       "         'came': 45,\n",
       "         'second': 216,\n",
       "         'place': 50,\n",
       "         '49,269': 1,\n",
       "         '16.4': 1,\n",
       "         'figure': 15,\n",
       "         'Third': 8,\n",
       "         'Ford': 12,\n",
       "         '35,563': 1,\n",
       "         'or': 186,\n",
       "         '11.7': 2,\n",
       "         'Seat': 2,\n",
       "         'Porsche': 4,\n",
       "         'fewer': 5,\n",
       "         'compared': 23,\n",
       "         '3,420': 1,\n",
       "         '5522': 1,\n",
       "         'fell': 46,\n",
       "         '554': 1,\n",
       "         '643': 1,\n",
       "         'GREEK': 1,\n",
       "         'SOCIALISTS': 1,\n",
       "         'GIVE': 1,\n",
       "         'GREEN': 1,\n",
       "         'LIGHT': 1,\n",
       "         'TO': 27,\n",
       "         'PM': 7,\n",
       "         'FOR': 25,\n",
       "         'ELECTIONS': 1,\n",
       "         'ATHENS': 10,\n",
       "         'Greek': 13,\n",
       "         'socialist': 3,\n",
       "         'party': 77,\n",
       "         'bureau': 6,\n",
       "         'green': 5,\n",
       "         'light': 15,\n",
       "         'Prime': 56,\n",
       "         'Costas': 9,\n",
       "         'Simitis': 8,\n",
       "         'snap': 8,\n",
       "         'elections': 77,\n",
       "         'its': 306,\n",
       "         'general': 44,\n",
       "         'secretary': 18,\n",
       "         'Skandalidis': 4,\n",
       "         'reporters': 45,\n",
       "         'announcement': 14,\n",
       "         'cabinet': 17,\n",
       "         'later': 46,\n",
       "         'Dimitris': 6,\n",
       "         'Kontogiannis': 5,\n",
       "         'Athens': 12,\n",
       "         'Newsroom': 70,\n",
       "         '+301': 7,\n",
       "         '3311812-4': 7,\n",
       "         'BayerVB': 1,\n",
       "         'sets': 19,\n",
       "         'C$': 21,\n",
       "         '100': 73,\n",
       "         'million': 280,\n",
       "         'six-year': 2,\n",
       "         'bond': 24,\n",
       "         'following': 47,\n",
       "         'announced': 45,\n",
       "         'manager': 35,\n",
       "         'Toronto': 18,\n",
       "         'Dominion': 2,\n",
       "         'BORROWER': 3,\n",
       "         'BAYERISCHE': 2,\n",
       "         'VEREINSBANK': 2,\n",
       "         'AMT': 4,\n",
       "         'MLN': 4,\n",
       "         'COUPON': 3,\n",
       "         '6.625': 1,\n",
       "         'MATURITY': 4,\n",
       "         '24.SEP.02': 1,\n",
       "         'TYPE': 3,\n",
       "         'STRAIGHT': 3,\n",
       "         'ISS': 19,\n",
       "         'PRICE': 6,\n",
       "         '100.92': 1,\n",
       "         'PAY': 6,\n",
       "         'DATE': 6,\n",
       "         '24.SEP.96': 1,\n",
       "         'FULL': 2,\n",
       "         'FEES': 2,\n",
       "         '1.875': 1,\n",
       "         'REOFFER': 2,\n",
       "         '99.32': 1,\n",
       "         'SPREAD': 2,\n",
       "         '+20': 1,\n",
       "         'BP': 6,\n",
       "         'MOODY': 6,\n",
       "         'AA1': 1,\n",
       "         'LISTING': 4,\n",
       "         'LUX': 1,\n",
       "         'FREQ': 1,\n",
       "         '=': 11,\n",
       "         'S&P': 8,\n",
       "         'DENOMS': 2,\n",
       "         'K': 2,\n",
       "         '1-10-100': 2,\n",
       "         'SALE': 4,\n",
       "         'LIMITS': 2,\n",
       "         'US': 6,\n",
       "         'UK': 11,\n",
       "         'CA': 1,\n",
       "         'NEG': 2,\n",
       "         'PLG': 2,\n",
       "         'NO': 4,\n",
       "         'CRS': 2,\n",
       "         'DEFLT': 2,\n",
       "         'FORCE': 3,\n",
       "         'MAJ': 2,\n",
       "         'GOV': 2,\n",
       "         'LAW': 2,\n",
       "         'GERMAN': 16,\n",
       "         'HOME': 3,\n",
       "         'CTRY': 2,\n",
       "         'TAX': 3,\n",
       "         'PROVS': 2,\n",
       "         'STANDARD': 2,\n",
       "         'MGT': 2,\n",
       "         'UND': 2,\n",
       "         '0.275': 1,\n",
       "         'SELL': 2,\n",
       "         'CONC': 2,\n",
       "         '1.60': 1,\n",
       "         'PRAECIP': 2,\n",
       "         'UNDERLYING': 1,\n",
       "         'GOVT': 3,\n",
       "         'BOND': 3,\n",
       "         '7.0': 6,\n",
       "         'PCT': 37,\n",
       "         'SEPT': 1,\n",
       "         '2001': 7,\n",
       "         'NOTES': 7,\n",
       "         'IS': 2,\n",
       "         'JOINT': 1,\n",
       "         'LEAD': 3,\n",
       "         'MANAGER': 4,\n",
       "         '+44': 14,\n",
       "         '171': 21,\n",
       "         '542': 20,\n",
       "         '7658': 3,\n",
       "         'Venantius': 1,\n",
       "         '300': 24,\n",
       "         '1999': 5,\n",
       "         'FRN': 2,\n",
       "         'floating-rate': 1,\n",
       "         'Lehman': 7,\n",
       "         'Brothers': 3,\n",
       "         'International': 27,\n",
       "         'VENANTIUS': 1,\n",
       "         'AB': 4,\n",
       "         'SWEDISH': 2,\n",
       "         'NATIONAL': 9,\n",
       "         'MORTGAGE': 1,\n",
       "         'AGENCY': 1,\n",
       "         '-': 1243,\n",
       "         '12.5': 2,\n",
       "         '21.JAN.99': 1,\n",
       "         'BASE': 1,\n",
       "         '3M': 1,\n",
       "         'LIBOR': 2,\n",
       "         'S23.SEP.96': 1,\n",
       "         'LAST': 8,\n",
       "         'AA3': 1,\n",
       "         '99.956': 1,\n",
       "         'AA+': 2,\n",
       "         'S': 2,\n",
       "         'SHORT': 2,\n",
       "         'FIRST': 55,\n",
       "         'JP': 1,\n",
       "         'FR': 1,\n",
       "         'YES': 1,\n",
       "         'IPMA': 1,\n",
       "         '2': 973,\n",
       "         'ENGLISH': 19,\n",
       "         'SWEDEN': 1,\n",
       "         '5': 392,\n",
       "         'ISSUED': 1,\n",
       "         'OFF': 2,\n",
       "         'EMTN': 1,\n",
       "         'PROGRAMME': 1,\n",
       "         '8863': 1,\n",
       "         'Port': 11,\n",
       "         'update': 2,\n",
       "         'Syria': 14,\n",
       "         'Lloyds': 2,\n",
       "         'Shipping': 2,\n",
       "         'Intelligence': 4,\n",
       "         'Service': 18,\n",
       "         'LATTAKIA': 1,\n",
       "         'Aug': 34,\n",
       "         'waiting': 10,\n",
       "         'Lattakia': 1,\n",
       "         'Tartous': 1,\n",
       "         'presently': 1,\n",
       "         '24': 63,\n",
       "         'Israel': 67,\n",
       "         'plays': 8,\n",
       "         'down': 117,\n",
       "         'fears': 10,\n",
       "         'war': 62,\n",
       "         'Colleen': 1,\n",
       "         'Siegel': 1,\n",
       "         'JERUSALEM': 13,\n",
       "         'outgoing': 2,\n",
       "         'peace': 84,\n",
       "         'current': 40,\n",
       "         'tensions': 2,\n",
       "         'between': 136,\n",
       "         'appeared': 18,\n",
       "         'storm': 9,\n",
       "         'teacup': 2,\n",
       "         'Itamar': 2,\n",
       "         'Rabinovich': 3,\n",
       "         'ambassador': 12,\n",
       "         'Washington': 42,\n",
       "         'conducted': 8,\n",
       "         'unfruitful': 1,\n",
       "         'negotiations': 21,\n",
       "         'Radio': 6,\n",
       "         'looked': 17,\n",
       "         'like': 42,\n",
       "         'Damascus': 5,\n",
       "         'wanted': 19,\n",
       "         'talk': 23,\n",
       "         'rather': 12,\n",
       "         'fight': 15,\n",
       "         'appears': 6,\n",
       "         'me': 35,\n",
       "         'Syrian': 4,\n",
       "         'priority': 3,\n",
       "         'still': 84,\n",
       "         'negotiate': 2,\n",
       "         'Syrians': 2,\n",
       "         'confused': 2,\n",
       "         'they': 306,\n",
       "         'definitely': 8,\n",
       "         'tense': 5,\n",
       "         'assessment': 7,\n",
       "         'here': 25,\n",
       "         'essentially': 1,\n",
       "         'winding': 2,\n",
       "         'term': 31,\n",
       "         'will': 416,\n",
       "         'replaced': 5,\n",
       "         'Eliahu': 1,\n",
       "         'Ben-Elissar': 1,\n",
       "         'Israeli': 49,\n",
       "         'envoy': 8,\n",
       "         'Egypt': 29,\n",
       "         'right-wing': 9,\n",
       "         'Likud': 3,\n",
       "         'politician': 6,\n",
       "         'sent': 36,\n",
       "         'message': 26,\n",
       "         'via': 7,\n",
       "         'committed': 10,\n",
       "         'open': 21,\n",
       "         'without': 37,\n",
       "         'preconditions': 2,\n",
       "         'slammed': 2,\n",
       "         'creating': 3,\n",
       "         'what': 59,\n",
       "         'called': 60,\n",
       "         'launching': 4,\n",
       "         'hysterical': 1,\n",
       "         'campaign': 38,\n",
       "         'against': 237,\n",
       "         'television': 47,\n",
       "         'reported': 91,\n",
       "         'recently': 16,\n",
       "         'test': 43,\n",
       "         'fired': 13,\n",
       "         'missile': 2,\n",
       "         'arms': 19,\n",
       "         'purchases': 3,\n",
       "         'defensive': 3,\n",
       "         'purposes': 3,\n",
       "         'Hafez': 1,\n",
       "         'al-': 1,\n",
       "         'Assad': 1,\n",
       "         'ready': 9,\n",
       "         'enter': 9,\n",
       "         'David': 50,\n",
       "         'Levy': 12,\n",
       "         'Tension': 2,\n",
       "         'mounted': 4,\n",
       "         'since': 133,\n",
       "         'Benjamin': 10,\n",
       "         'Netanyahu': 25,\n",
       "         'took': 76,\n",
       "         'June': 86,\n",
       "         'vowing': 1,\n",
       "         'retain': 6,\n",
       "         'Golan': 3,\n",
       "         'Heights': 1,\n",
       "         'captured': 9,\n",
       "         'Middle': 14,\n",
       "         'East': 39,\n",
       "         'Israeli-Syrian': 1,\n",
       "         'deadlocked': 2,\n",
       "         'over': 271,\n",
       "         '1991': 23,\n",
       "         'despite': 30,\n",
       "         'previous': 38,\n",
       "         'willingness': 1,\n",
       "         'concessions': 2,\n",
       "         'Peace': 10,\n",
       "         'February': 20,\n",
       "         'voices': 3,\n",
       "         'coming': 27,\n",
       "         'out': 291,\n",
       "         'bad': 19,\n",
       "         'not': 536,\n",
       "         'good': 55,\n",
       "         'full': 25,\n",
       "         'expressions': 1,\n",
       "         'declarations': 1,\n",
       "         'must': 32,\n",
       "         'worrying': 2,\n",
       "         'artificial': 1,\n",
       "         'very': 63,\n",
       "         'those': 49,\n",
       "         'spread': 2,\n",
       "         'become': 20,\n",
       "         'prisoners': 5,\n",
       "         'expect': 20,\n",
       "         'face': 31,\n",
       "         'answer': 8,\n",
       "         'our': 67,\n",
       "         'want': 51,\n",
       "         'God': 5,\n",
       "         'forbid': 1,\n",
       "         'No': 35,\n",
       "         'one': 260,\n",
       "         'benefits': 3,\n",
       "         'wars': 3,\n",
       "         'Channel': 2,\n",
       "         'Two': 38,\n",
       "         'calming': 1,\n",
       "         'signal': 6,\n",
       "         'source': 24,\n",
       "         'spokesmen': 2,\n",
       "         'confirm': 7,\n",
       "         'messages': 2,\n",
       "         'reassure': 1,\n",
       "         'Cairo': 5,\n",
       "         'United': 108,\n",
       "         'States': 60,\n",
       "         'Moscow': 58,\n",
       "         'Polish': 23,\n",
       "         'diplomat': 18,\n",
       "         'denies': 2,\n",
       "         'nurses': 5,\n",
       "         'stranded': 4,\n",
       "         'Libya': 5,\n",
       "         'TUNIS': 3,\n",
       "         'tabloid': 3,\n",
       "         'refusing': 4,\n",
       "         'exit': 4,\n",
       "         'visas': 3,\n",
       "         'trying': 32,\n",
       "         'return': 44,\n",
       "         'home': 108,\n",
       "         'working': 37,\n",
       "         'North': 29,\n",
       "         'African': 52,\n",
       "         'country': 68,\n",
       "         'This': 43,\n",
       "         'true': 7,\n",
       "         'Up': 5,\n",
       "         'today': 27,\n",
       "         'knowledge': 3,\n",
       "         'nurse': 4,\n",
       "         'kept': 25,\n",
       "         'her': 169,\n",
       "         'received': 31,\n",
       "         'complaint': 4,\n",
       "         'embassy': 35,\n",
       "         'charge': 19,\n",
       "         \"d'affaires\": 1,\n",
       "         'Tripoli': 2,\n",
       "         'Tadeusz': 1,\n",
       "         'Awdankiewicz': 2,\n",
       "         'telephone': 17,\n",
       "         'Poland': 31,\n",
       "         'labour': 7,\n",
       "         'would': 330,\n",
       "         'send': 11,\n",
       "         'team': 89,\n",
       "         'investigate': 3,\n",
       "         'probe': 6,\n",
       "         'prompted': 9,\n",
       "         'complaining': 3,\n",
       "         'about': 180,\n",
       "         'work': 45,\n",
       "         'non-payment': 1,\n",
       "         'salaries': 2,\n",
       "         'estimated': 30,\n",
       "         '800': 13,\n",
       "         'Iranian': 23,\n",
       "         'opposition': 55,\n",
       "         'leaders': 54,\n",
       "         'meet': 60,\n",
       "         'Baghdad': 21,\n",
       "         'Hassan': 5,\n",
       "         'Hafidh': 1,\n",
       "         'BAGHDAD': 6,\n",
       "         'An': 35,\n",
       "         'exile': 6,\n",
       "         'based': 25,\n",
       "         'Iraq': 68,\n",
       "         'vowed': 6,\n",
       "         'extend': 3,\n",
       "         'Iran': 29,\n",
       "         'Kurdish': 34,\n",
       "         'rebels': 54,\n",
       "         'attacked': 7,\n",
       "         'troops': 45,\n",
       "         'deep': 2,\n",
       "         'inside': 12,\n",
       "         'Mujahideen': 3,\n",
       "         'Khalq': 3,\n",
       "         'statement': 105,\n",
       "         'leader': 63,\n",
       "         'Massoud': 3,\n",
       "         'Rajavi': 2,\n",
       "         'met': 26,\n",
       "         'Secretary-General': 4,\n",
       "         'Kurdistan': 18,\n",
       "         'Democratic': 50,\n",
       "         'Party': 49,\n",
       "         'KDPI': 2,\n",
       "         'Rastegar': 1,\n",
       "         'voiced': 3,\n",
       "         'rebel': 25,\n",
       "         'Kurds': 7,\n",
       "         'emphasised': 1,\n",
       "         'Resistance': 1,\n",
       "         'continue': 25,\n",
       "         'stand': 6,\n",
       "         'side': 40,\n",
       "         'compatriots': 1,\n",
       "         'resistance': 4,\n",
       "         'movement': 20,\n",
       "         'signals': 2,\n",
       "         'level': 29,\n",
       "         'cooperation': 16,\n",
       "         'oppositions': 1,\n",
       "         'heavily': 5,\n",
       "         'bombarded': 2,\n",
       "         'targets': 6,\n",
       "         'northern': 53,\n",
       "         'pursuit': 6,\n",
       "         'guerrillas': 31,\n",
       "         'Iraqi': 54,\n",
       "         'areas': 25,\n",
       "         'outside': 25,\n",
       "         'control': 37,\n",
       "         'bordering': 2,\n",
       "         'Patriotic': 7,\n",
       "         'PUK': 25,\n",
       "         'KDP': 17,\n",
       "         'main': 41,\n",
       "         'factions': 14,\n",
       "         'forces': 46,\n",
       "         'ousted': 8,\n",
       "         'Kuwait': 6,\n",
       "         'Gulf': 15,\n",
       "         'War': 18,\n",
       "         'Clashes': 1,\n",
       "         'parties': 25,\n",
       "         'broke': 23,\n",
       "         'weekend': 53,\n",
       "         'most': 70,\n",
       "         'serious': 15,\n",
       "         'fighting': 41,\n",
       "         'U.S.-sponsored': 1,\n",
       "         'ceasefire': 36,\n",
       "         'shelling': 5,\n",
       "         ...})"
      ]
     },
     "execution_count": 2,
     "metadata": {},
     "output_type": "execute_result"
    }
   ],
   "source": [
    "# create a word count dictionary from training data\n",
    "word_list = []\n",
    "for row in dataset['train']:\n",
    "    word_list.extend(row['tokens'])\n",
    "from collections import Counter\n",
    "import numpy as np\n",
    "counter = Counter(np.array(word_list))\n",
    "counter"
   ]
  },
  {
   "cell_type": "code",
   "execution_count": 8,
   "metadata": {},
   "outputs": [
    {
     "data": {
      "image/png": "[encoded data removed]",
      "text/plain": [
       "<Figure size 640x480 with 1 Axes>"
      ]
     },
     "metadata": {},
     "output_type": "display_data"
    }
   ],
   "source": [
    "# sort counts by descending order and create a histogram of word covrege\n",
    "counts = np.array(list(counter.values()))\n",
    "counts = np.sort(counts)[::-1]\n",
    "total_words = counts.sum()\n",
    "counts = np.cumsum(counts)/total_words\n",
    "from matplotlib import pyplot as plt\n",
    "plt.plot(counts)\n",
    "plt.show()"
   ]
  },
  {
   "cell_type": "markdown",
   "metadata": {},
   "source": [
    "### Dataset"
   ]
  },
  {
   "cell_type": "code",
   "execution_count": 4,
   "metadata": {},
   "outputs": [],
   "source": [
    "# choose 20000 most common words and create two way dictionaries\n",
    "elements = counter.most_common(20000)\n",
    "words_to_ids = {e[0]:i for e, i in zip(elements, range(len(elements)))}\n",
    "words_to_ids['<UNK>'] = len(words_to_ids)\n",
    "ids_to_words = {v:k for k, v in words_to_ids.items()}"
   ]
  },
  {
   "cell_type": "code",
   "execution_count": 5,
   "metadata": {},
   "outputs": [
    {
     "data": {
      "text/plain": [
       "{'tokens': [956, 11982, 232, 761, 5, 4146, 208, 6181, 0]}"
      ]
     },
     "execution_count": 5,
     "metadata": {},
     "output_type": "execute_result"
    }
   ],
   "source": [
    "import torch\n",
    "convert_item = lambda x: { 'tokens': [words_to_ids.get(w, words_to_ids['<UNK>']) for w in x['tokens']] }\n",
    "convert_item(dataset['train'][0])"
   ]
  },
  {
   "cell_type": "code",
   "execution_count": 6,
   "metadata": {},
   "outputs": [
    {
     "name": "stderr",
     "output_type": "stream",
     "text": [
      "Loading cached processed dataset at /home/ronen/.cache/huggingface/datasets/conll2003/conll2003/1.0.0/9a4d16a94f8674ba3466315300359b0acd891b68b6c8743ddf60b9c702adce98/cache-dd796fdc36945aad.arrow\n",
      "Loading cached processed dataset at /home/ronen/.cache/huggingface/datasets/conll2003/conll2003/1.0.0/9a4d16a94f8674ba3466315300359b0acd891b68b6c8743ddf60b9c702adce98/cache-40cb9ee1eec1d9d0.arrow\n",
      "Loading cached processed dataset at /home/ronen/.cache/huggingface/datasets/conll2003/conll2003/1.0.0/9a4d16a94f8674ba3466315300359b0acd891b68b6c8743ddf60b9c702adce98/cache-8d8b0dcd70f1d28d.arrow\n"
     ]
    }
   ],
   "source": [
    "# convert dataset to ids\n",
    "for name in ['train', 'validation', 'test']:\n",
    "    dataset[name] = dataset[name].map(convert_item, batched=False)"
   ]
  },
  {
   "cell_type": "code",
   "execution_count": 7,
   "metadata": {},
   "outputs": [
    {
     "data": {
      "text/plain": [
       "{'tokens': tensor([  956, 11982,   232,   761,     5,  4146,   208,  6181,     0]),\n",
       " 'ner_tags': tensor([3, 0, 7, 0, 0, 0, 7, 0, 0])}"
      ]
     },
     "execution_count": 7,
     "metadata": {},
     "output_type": "execute_result"
    }
   ],
   "source": [
    "dataset['train'][0]"
   ]
  },
  {
   "cell_type": "code",
   "execution_count": 7,
   "metadata": {},
   "outputs": [],
   "source": [
    "from torch.nn.utils.rnn import pack_sequence\n",
    "def collate_fn(batch):\n",
    "    tokens = pack_sequence([ exmp['tokens'] for exmp in batch ], enforce_sorted=False)\n",
    "    ner_tags = pack_sequence([ exmp['ner_tags'] for exmp in batch ], enforce_sorted=False)\n",
    "    return tokens, ner_tags"
   ]
  },
  {
   "cell_type": "markdown",
   "metadata": {},
   "source": [
    "#### build embedding matrix"
   ]
  },
  {
   "cell_type": "code",
   "execution_count": 8,
   "metadata": {},
   "outputs": [
    {
     "name": "stdout",
     "output_type": "stream",
     "text": [
      "glove model loaded\n"
     ]
    },
    {
     "name": "stderr",
     "output_type": "stream",
     "text": [
      "/tmp/ipykernel_196952/3854162063.py:16: UserWarning: Creating a tensor from a list of numpy.ndarrays is extremely slow. Please consider converting the list to a single numpy.ndarray with numpy.array() before converting to a tensor. (Triggered internally at ../torch/csrc/utils/tensor_new.cpp:245.)\n",
      "  vectors = torch.tensor(vectors, dtype=torch.float)\n"
     ]
    },
    {
     "data": {
      "text/plain": [
       "torch.Size([20001, 300])"
      ]
     },
     "execution_count": 8,
     "metadata": {},
     "output_type": "execute_result"
    }
   ],
   "source": [
    "# load glove\n",
    "import gensim.downloader as api\n",
    "\n",
    "model = api.load(\"glove-wiki-gigaword-300\")\n",
    "\n",
    "print(\"glove model loaded\")\n",
    "\n",
    "vectors = []\n",
    "for id in range(len(words_to_ids)-1):\n",
    "    try:\n",
    "        vectors.append(model.get_vector(ids_to_words[id]))\n",
    "    except KeyError:\n",
    "        vectors.append(torch.zeros((300,)))\n",
    "vectors.append(torch.zeros((300,)))\n",
    "\n",
    "vectors = torch.tensor(vectors, dtype=torch.float)\n",
    "vectors.shape"
   ]
  },
  {
   "cell_type": "markdown",
   "metadata": {},
   "source": [
    "### Model"
   ]
  },
  {
   "cell_type": "code",
   "execution_count": 9,
   "metadata": {},
   "outputs": [],
   "source": [
    "import torch.nn as nn\n",
    "from torch.nn.utils.rnn import PackedSequence, pack_sequence, unpack_sequence\n",
    "from collections import OrderedDict\n",
    "\n",
    "class IMDBLangModel(nn.Module):\n",
    "    def __init__(self, **kwargs) -> None:\n",
    "        super().__init__()\n",
    "        # dimentions of activation layers\n",
    "        self.word_id_dict = kwargs['word_id_dict']\n",
    "        self.id_word_dict = kwargs['id_word_dict']\n",
    "        self.embeddings = kwargs['embeddings']\n",
    "        self.token_count = len(self.word_id_dict)\n",
    "        self.input_size = kwargs['embedding_dim']\n",
    "        self.hidden_size = 2*kwargs['embedding_dim']\n",
    "        self.num_layers = kwargs['num_layers']\n",
    "        self.class_count = kwargs['class_count']\n",
    "\n",
    "        # model layers\n",
    "        embeddings = nn.Embedding.from_pretrained(self.embeddings, freeze=False)\n",
    "        gru = nn.GRU(input_size=self.input_size,\n",
    "                      hidden_size=self.hidden_size,\n",
    "                      num_layers=self.num_layers,\n",
    "                      bidirectional=True)\n",
    "        \n",
    "        ff = nn.Sequential(OrderedDict([\n",
    "            (f\"ff_1_{2*self.num_layers*self.hidden_size}_to_{2*self.hidden_size*self.num_layers}\", \n",
    "            nn.Linear(in_features=2*self.num_layers*self.hidden_size,\n",
    "                      out_features=2*self.hidden_size*self.num_layers)),\n",
    "            (f\"ff_relu_1\",nn.ReLU6()),\n",
    "            (f\"ff_2_{2*self.num_layers*self.hidden_size}_to_{self.class_count}\",\n",
    "            nn.Linear(in_features=2*self.hidden_size*self.num_layers,\n",
    "                      out_features=self.class_count))\n",
    "        ]))\n",
    "\n",
    "        # full model\n",
    "        self.model = nn.ModuleDict({\n",
    "            \"embeddings\":embeddings,\n",
    "            \"gru\":gru,\n",
    "            \"ff\":ff\n",
    "        })\n",
    "\n",
    "    def forward(self,x:PackedSequence):\n",
    "        # apply embeddings\n",
    "        x = unpack_sequence(x)\n",
    "        embeddings = [self.model[\"embeddings\"](xi) for xi in x]\n",
    "        x = pack_sequence(embeddings,enforce_sorted=False)\n",
    "\n",
    "        # feed gru with sequence\n",
    "        output, c_n = self.model[\"gru\"](x)\n",
    "        \n",
    "        # run a fully connected layer on prompt-layer embedding\n",
    "        y_pred = [self.model[\"ff\"](out) for out in unpack_sequence(output)] \n",
    "        \n",
    "        return y_pred"
   ]
  },
  {
   "cell_type": "markdown",
   "metadata": {},
   "source": [
    "### Trainer"
   ]
  },
  {
   "cell_type": "code",
   "execution_count": 10,
   "metadata": {},
   "outputs": [],
   "source": [
    "output_path = 'logs_and_models'"
   ]
  },
  {
   "cell_type": "code",
   "execution_count": 11,
   "metadata": {},
   "outputs": [],
   "source": [
    "from torch.utils.data import dataloader\n",
    "from torch.optim import Adam\n",
    "import torch\n",
    "from torch.utils import tensorboard\n",
    "from os.path import isfile\n",
    "from torch import nn\n",
    "import tqdm\n",
    "import numpy as np\n",
    "from typing import Callable\n",
    "\n",
    "class Trainer():\n",
    "    def __init__(self,model:nn.Module,train_dataset,val_dataset,test_dataset,\n",
    "                train_sample_count: int, validation_sample_count: int, lr: float, \n",
    "                batch_size: int, test_batch_size: int, num_epochs: int, \n",
    "                model_file_name: str, loss_func: Callable, load_checkpoint: bool,\n",
    "                workers: int, collate_fn: Callable = None):\n",
    "      # save the model\n",
    "      self.model = model\n",
    "      \n",
    "      # create data loaders\n",
    "      self.train_loader = dataloader.DataLoader(\n",
    "          train_dataset,batch_size,\n",
    "          sampler=dataloader.RandomSampler(\n",
    "                  train_dataset,\n",
    "                  num_samples=train_sample_count\n",
    "          ), \n",
    "          collate_fn=collate_fn,\n",
    "          num_workers=workers\n",
    "      )\n",
    "\n",
    "      self.val_loader = dataloader.DataLoader(\n",
    "          val_dataset,batch_size,\n",
    "          sampler=dataloader.RandomSampler(\n",
    "              val_dataset,\n",
    "              num_samples=validation_sample_count\n",
    "          ),\n",
    "          collate_fn=collate_fn,\n",
    "          num_workers=workers\n",
    "      )\n",
    "\n",
    "      self.test_loader = dataloader.DataLoader(\n",
    "          test_dataset,\n",
    "          test_batch_size,\n",
    "          shuffle=False,\n",
    "          collate_fn=collate_fn,\n",
    "          num_workers=workers\n",
    "      )\n",
    "\n",
    "      # name to save logs and and model\n",
    "      self.model_file = output_path + \"/\" +model_file_name\n",
    "      \n",
    "      # hyper parameters\n",
    "      self.num_epochs = num_epochs\n",
    "      self.optimizer = Adam(self.model.parameters(), lr=lr)\n",
    "      self.device = torch.device(\"cuda\" if torch.cuda.is_available() else \"cpu\")\n",
    "      self.loss_func = loss_func\n",
    "      self.load_checkpoint = load_checkpoint\n",
    "      self.train_sample_count = train_sample_count\n",
    "      self.validation_sample_count = validation_sample_count\n",
    "      self.test_count = len(test_dataset)//test_batch_size + \\\n",
    "        int(len(test_dataset)%test_batch_size>0)\n",
    "      self.batch_size = batch_size\n",
    "\n",
    "      # create log\n",
    "      self.board = tensorboard.SummaryWriter(self.model_file)\n",
    "      self.model_file = self.model_file + \".pkl\"\n",
    "      \n",
    "      \n",
    "    def train_one_epoch(self,epoch,total_train, test_func) -> float:\n",
    "      train_loss_list =[]\n",
    "      metric_list = []\n",
    "      for idx, (x,y) in tqdm.tqdm(enumerate(self.train_loader),\n",
    "          desc=f\"epoch num {epoch+1}\",total=total_train):\n",
    "\n",
    "          # predict\n",
    "          x = x.to(self.device)\n",
    "          y = y.to(self.device)\n",
    "          y_pred = self.model(x)\n",
    "          \n",
    "          # backward pass\n",
    "          loss = self.loss_func(y_pred,y)\n",
    "          loss.backward()\n",
    "          self.optimizer.step()\n",
    "          self.optimizer.zero_grad()\n",
    "\n",
    "          # test metric on train\n",
    "          metric = test_func(y_pred,y)\n",
    "          metric_list.append(float(metric))\n",
    "          self.board.add_scalar(f\"train_metric\", float(metric), \n",
    "                                global_step=epoch*total_train+idx)\n",
    "          \n",
    "          # add batch loss to list\n",
    "          train_loss_list.append(float(loss))\n",
    "          self.board.add_scalar(f\"train_loss\",float(loss),\n",
    "                                global_step=epoch*total_train+idx)\n",
    "          del x,y,loss,y_pred\n",
    "          torch.cuda.empty_cache()\n",
    "      \n",
    "      return float(np.mean(train_loss_list)), float(np.mean(metric_list))        \n",
    "\n",
    "    \n",
    "    def val_one_epoch(self,epoch,total_val, test_func) -> float:\n",
    "      val_loss_list = []\n",
    "      metric_list = []\n",
    "      with torch.no_grad():\n",
    "          for idx, (x,y) in tqdm.tqdm(enumerate(self.val_loader),\n",
    "              desc=f\"epoch num {epoch+1}\",total=total_val):\n",
    "              \n",
    "              # predict\n",
    "              x = x.to(self.device)\n",
    "              y = y.to(self.device)\n",
    "              y_pred = self.model(x)\n",
    "              \n",
    "              # calc loss\n",
    "              val_loss = self.loss_func(y_pred,y)\n",
    "\n",
    "              # calc metric\n",
    "              metric = test_func(y_pred,y)\n",
    "              metric_list.append(float(metric))\n",
    "              self.board.add_scalar(f\"val_metric\", float(metric), \n",
    "                                global_step=epoch*total_val+idx)\n",
    "              \n",
    "              # log loss result\n",
    "              val_loss_list.append(float(val_loss))\n",
    "              self.board.add_scalar(f\"val_loss\",float(val_loss),\n",
    "                                    global_step=epoch*total_val+idx)\n",
    "              del x,y,val_loss,y_pred\n",
    "              torch.cuda.empty_cache()\n",
    "      return  float(np.mean(val_loss_list)), float(np.mean(metric_list))\n",
    "\n",
    "    \n",
    "    def test_epoch(self,total_test, func) -> list[tuple]:\n",
    "      self.model = self.model.eval()\n",
    "      prediction_dict = []\n",
    "      with torch.no_grad():\n",
    "        for idx, (x,y) in tqdm.tqdm(enumerate(self.test_loader),\n",
    "          desc=\"test\",total=total_test):\n",
    "\n",
    "          # predict\n",
    "          x:torch.Tensor = x.to(self.device)\n",
    "          y = y.to(self.device)\n",
    "          y_pred = self.model(x)\n",
    "          prediction_dict.append(func(y_pred,y))\n",
    "          del x,y,y_pred\n",
    "          torch.cuda.empty_cache()\n",
    "      return prediction_dict\n",
    "\n",
    "    \n",
    "    def full_train(self, test_func):\n",
    "        total_train = self.train_sample_count//self.batch_size + \\\n",
    "                    int(self.train_sample_count%self.batch_size!=0)\n",
    "        total_val = self.validation_sample_count//self.batch_size + \\\n",
    "                    int(self.validation_sample_count%self.batch_size!=0)\n",
    "\n",
    "        # save model initiallization/ load model from checkpoint\n",
    "        if not self.load_checkpoint or not isfile(self.model_file):\n",
    "            torch.save(\n",
    "                (\n",
    "                    self.model.state_dict(),\n",
    "                    self.model.word_id_dict,\n",
    "                    self.model.id_word_dict\n",
    "                ),\n",
    "                self.model_file\n",
    "            )\n",
    "        else:\n",
    "            state_dict, \\\n",
    "            self.model.word_id_dict, \\\n",
    "            self.model.id_word_dict = torch.load(self.model_file)\n",
    "            print(self.model.load_state_dict(state_dict))\n",
    "\n",
    "        # we save on minimum validation loss\n",
    "        min_val_loss = 100\n",
    "        self.model.train()\n",
    "        self.model = self.model.to(self.device)\n",
    "        for epoch in range(self.num_epochs):\n",
    "          epoch_train_loss, epoch_train_metric = self.train_one_epoch(epoch,total_train, test_func)\n",
    "          epoch_val_loss, epoch_val_metric = self.val_one_epoch(epoch,total_val, test_func)\n",
    "          if epoch_val_loss < min_val_loss:\n",
    "            min_val_loss = epoch_val_loss\n",
    "            torch.save(\n",
    "                (\n",
    "                    self.model.state_dict(),\n",
    "                    self.model.word_id_dict,\n",
    "                    self.model.id_word_dict\n",
    "                ),\n",
    "                self.model_file\n",
    "            )\n",
    "          print(f\"epoch {epoch+1}/{self.num_epochs} loss: {epoch_train_loss} metric: {epoch_train_metric} val_loss: {epoch_val_loss} val_metric: {epoch_val_metric}\")\n",
    "        return self.test_epoch(self.test_count, test_func)\n"
   ]
  },
  {
   "cell_type": "markdown",
   "metadata": {},
   "source": [
    "### Training"
   ]
  },
  {
   "cell_type": "code",
   "execution_count": 12,
   "metadata": {},
   "outputs": [],
   "source": [
    "def accuracy(y_pred, y):\n",
    "    y = unpack_sequence(y)\n",
    "    accuracy_list = []\n",
    "    for pred, label in zip(y_pred, y):\n",
    "        accuracy_list.append(torch.sum(pred.argmax(dim=-1) == label)/len(label))\n",
    "    return torch.mean(torch.stack(accuracy_list)).item()"
   ]
  },
  {
   "cell_type": "code",
   "execution_count": 13,
   "metadata": {},
   "outputs": [
    {
     "name": "stdout",
     "output_type": "stream",
     "text": [
      "train: 14041, val: 3250, test: 3453\n",
      "model created\n",
      "trainer created\n",
      "<All keys matched successfully>\n"
     ]
    },
    {
     "name": "stderr",
     "output_type": "stream",
     "text": [
      "test: 100%|██████████| 1727/1727 [00:07<00:00, 245.58it/s]"
     ]
    },
    {
     "name": "stdout",
     "output_type": "stream",
     "text": [
      "\n",
      "model accuracy is: 0.9282798616266278\n"
     ]
    },
    {
     "name": "stderr",
     "output_type": "stream",
     "text": [
      "\n"
     ]
    }
   ],
   "source": [
    "import numpy as np\n",
    "\n",
    "train_dataset, validation_dataset, test_dataset = dataset['train'], dataset['validation'], dataset['test']\n",
    "\n",
    "print(f\"train: {len(train_dataset)}, val: {len(validation_dataset)}, test: {len(test_dataset)}\")\n",
    "\n",
    "# create model\n",
    "model = IMDBLangModel(embeddings = vectors,\n",
    "                    word_id_dict=words_to_ids, \n",
    "                    id_word_dict=ids_to_words, \n",
    "                    embedding_dim=300, \n",
    "                    num_layers=1,\n",
    "                    class_count = 9)\n",
    "\n",
    "print(\"model created\")\n",
    "\n",
    "base_loss = nn.CrossEntropyLoss()\n",
    "def loss_func(y_pred, y):\n",
    "    y = unpack_sequence(y)\n",
    "    loss_list = []\n",
    "    for examp in range(len(y)):\n",
    "        sent_loss_list = []\n",
    "        for pred,label in zip(y_pred[examp],y[examp]):\n",
    "           sent_loss_list.append(base_loss(pred,label))\n",
    "        loss_list.append(torch.mean(torch.stack(sent_loss_list)))\n",
    "    return torch.mean(torch.stack(loss_list))\n",
    "\n",
    "# create trainer\n",
    "trainer = Trainer(model=model,\n",
    "                train_dataset=train_dataset, \n",
    "                val_dataset=validation_dataset, \n",
    "                test_dataset=test_dataset,\n",
    "                train_sample_count=len(train_dataset), \n",
    "                validation_sample_count=len(validation_dataset),\n",
    "                lr=1e-3, \n",
    "                batch_size=256,\n",
    "                test_batch_size=2, \n",
    "                num_epochs=0, \n",
    "                model_file_name=\"ner_300_scratch_training\", \n",
    "                loss_func=loss_func, \n",
    "                load_checkpoint=True,\n",
    "                workers=1,\n",
    "                collate_fn=collate_fn)\n",
    "\n",
    "print(\"trainer created\")\n",
    "\n",
    "prediction = trainer.full_train(accuracy)\n",
    "print()\n",
    "print(f\"model accuracy is: {np.mean(prediction)}\")"
   ]
  },
  {
   "cell_type": "markdown",
   "metadata": {},
   "source": [
    "### Evaluation"
   ]
  },
  {
   "cell_type": "code",
   "execution_count": 18,
   "metadata": {},
   "outputs": [
    {
     "data": {
      "image/png": "[encoded data removed]",
      "text/plain": [
       "<PIL.PngImagePlugin.PngImageFile image mode=RGBA size=1737x526>"
      ]
     },
     "execution_count": 18,
     "metadata": {},
     "output_type": "execute_result"
    }
   ],
   "source": [
    "from PIL import Image\n",
    "Image.open(\"logs_and_models/ner_300_scratch_training_train_loss.png\")"
   ]
  },
  {
   "cell_type": "code",
   "execution_count": 19,
   "metadata": {},
   "outputs": [
    {
     "data": {
      "image/png": "[encoded data removed]",
      "text/plain": [
       "<PIL.PngImagePlugin.PngImageFile image mode=RGBA size=1737x526>"
      ]
     },
     "execution_count": 19,
     "metadata": {},
     "output_type": "execute_result"
    }
   ],
   "source": [
    "from PIL import Image\n",
    "Image.open(\"logs_and_models/ner_300_scratch_training_train_accuracy.png\")"
   ]
  },
  {
   "cell_type": "code",
   "execution_count": 20,
   "metadata": {},
   "outputs": [
    {
     "data": {
      "image/png": "[encoded data removed]",
      "text/plain": [
       "<PIL.PngImagePlugin.PngImageFile image mode=RGBA size=1737x526>"
      ]
     },
     "execution_count": 20,
     "metadata": {},
     "output_type": "execute_result"
    }
   ],
   "source": [
    "from PIL import Image\n",
    "Image.open(\"logs_and_models/ner_300_scratch_training_val_loss.png\")"
   ]
  },
  {
   "cell_type": "code",
   "execution_count": 21,
   "metadata": {},
   "outputs": [
    {
     "data": {
      "image/png": "[encoded data removed]",
      "text/plain": [
       "<PIL.PngImagePlugin.PngImageFile image mode=RGBA size=1737x526>"
      ]
     },
     "execution_count": 21,
     "metadata": {},
     "output_type": "execute_result"
    }
   ],
   "source": [
    "from PIL import Image\n",
    "Image.open(\"logs_and_models/ner_300_scratch_training_val_accuracy.png\")"
   ]
  },
  {
   "cell_type": "markdown",
   "metadata": {},
   "source": [
    "### Metrics"
   ]
  },
  {
   "cell_type": "code",
   "execution_count": 14,
   "metadata": {},
   "outputs": [],
   "source": [
    "def test_func(y_pred,y):\n",
    "    y = unpack_sequence(y)\n",
    "    return y, y_pred"
   ]
  },
  {
   "cell_type": "code",
   "execution_count": 16,
   "metadata": {},
   "outputs": [
    {
     "name": "stderr",
     "output_type": "stream",
     "text": [
      "test:   0%|          | 0/1727 [00:00<?, ?it/s]"
     ]
    },
    {
     "name": "stderr",
     "output_type": "stream",
     "text": [
      "test: 100%|██████████| 1727/1727 [00:07<00:00, 224.30it/s]\n"
     ]
    },
    {
     "name": "stdout",
     "output_type": "stream",
     "text": [
      "tensor(0) tensor(0)\n"
     ]
    }
   ],
   "source": [
    "from sklearn.metrics import confusion_matrix\n",
    "results = trainer.test_epoch(trainer.test_count, test_func)\n",
    "\n",
    "y = [pred.cpu() for result in results for sentence in result[0] for pred in sentence]\n",
    "y_pred = [pred.argmax().cpu() for result in results for sentence in result[1] for pred in sentence]\n",
    "print(y[0], y_pred[0])"
   ]
  },
  {
   "cell_type": "code",
   "execution_count": 31,
   "metadata": {},
   "outputs": [
    {
     "data": {
      "text/plain": [
       "array([[37801,   111,    76,    86,    55,    75,    10,    52,    57],\n",
       "       [  271,  1255,    23,    30,     3,    24,     2,     9,     0],\n",
       "       [  241,    17,   882,     1,     9,     1,     3,     0,     2],\n",
       "       [  285,    66,     0,  1180,    28,    75,     0,    26,     1],\n",
       "       [  126,     4,    48,    30,   589,     4,    16,     3,    15],\n",
       "       [  145,    25,     3,    62,     1,  1415,     3,    13,     1],\n",
       "       [   44,     1,     9,     0,    32,     1,   167,     0,     3],\n",
       "       [  169,    23,     0,    30,     2,    16,     1,   455,     6],\n",
       "       [   51,     0,     7,     1,     4,     0,     2,    27,   124]])"
      ]
     },
     "execution_count": 31,
     "metadata": {},
     "output_type": "execute_result"
    }
   ],
   "source": [
    "import matplotlib.pyplot as plt\n",
    "cm = confusion_matrix(y, y_pred)\n",
    "cm"
   ]
  },
  {
   "cell_type": "code",
   "execution_count": 36,
   "metadata": {},
   "outputs": [],
   "source": [
    "cm = cm / cm.sum(axis=-1, keepdims=True)"
   ]
  },
  {
   "cell_type": "code",
   "execution_count": 37,
   "metadata": {},
   "outputs": [
    {
     "data": {
      "image/png": "[encoded data removed]",
      "text/plain": [
       "<Figure size 480x480 with 1 Axes>"
      ]
     },
     "metadata": {},
     "output_type": "display_data"
    }
   ],
   "source": [
    "# Print the confusion matrix\n",
    "plt.matshow(cm, cmap=\"Blues\")\n",
    "plt.title(\"Confusion Matrix\")\n",
    "plt.xlabel(\"Predicted\")\n",
    "plt.ylabel(\"True\")\n",
    "plt.show()"
   ]
  },
  {
   "cell_type": "markdown",
   "metadata": {},
   "source": [
    "Confusion matrix looks great, so no tuning is required."
   ]
  },
  {
   "cell_type": "markdown",
   "metadata": {},
   "source": [
    "## Part II"
   ]
  },
  {
   "cell_type": "markdown",
   "metadata": {},
   "source": [
    "### Dataset\n"
   ]
  },
  {
   "cell_type": "code",
   "execution_count": 1,
   "metadata": {},
   "outputs": [],
   "source": [
    "model_name = \"bert-base-cased\""
   ]
  },
  {
   "cell_type": "markdown",
   "metadata": {},
   "source": [
    "We chose this pretrained model because bert is a good base model for NER, even appearing in the original paper. \\\n",
    "the cased version is suitable for NER because many NERs are upper case"
   ]
  },
  {
   "cell_type": "code",
   "execution_count": 2,
   "metadata": {},
   "outputs": [],
   "source": [
    "def load_tokenizer():\n",
    "    from transformers import AutoTokenizer\n",
    "    tokenizer = AutoTokenizer.from_pretrained(model_name)\n",
    "    return tokenizer"
   ]
  },
  {
   "cell_type": "code",
   "execution_count": 3,
   "metadata": {},
   "outputs": [
    {
     "name": "stderr",
     "output_type": "stream",
     "text": [
      "/home/ronen/Documents/college/NNForNLP/workshop_1/.conda/lib/python3.10/site-packages/tqdm/auto.py:21: TqdmWarning: IProgress not found. Please update jupyter and ipywidgets. See https://ipywidgets.readthedocs.io/en/stable/user_install.html\n",
      "  from .autonotebook import tqdm as notebook_tqdm\n"
     ]
    }
   ],
   "source": [
    "tokenizer = load_tokenizer()\n",
    "def tokenize_and_align_labels(examples):\n",
    "    tokenized_inputs = tokenizer(examples[\"tokens\"], truncation=True, is_split_into_words=True)\n",
    "\n",
    "    labels = []\n",
    "    for i, label in enumerate(examples[f\"ner_tags\"]):\n",
    "        word_ids = tokenized_inputs.word_ids(batch_index=i)  # Map tokens to their respective word.\n",
    "        previous_word_idx = None\n",
    "        label_ids = []\n",
    "        for word_idx in word_ids:  # Set the special tokens to -100.\n",
    "            if word_idx is None:\n",
    "                label_ids.append(-100)\n",
    "            elif word_idx != previous_word_idx:  # Only label the first token of a given word.\n",
    "                label_ids.append(label[word_idx])\n",
    "            else:\n",
    "                label_ids.append(-100)\n",
    "            previous_word_idx = word_idx\n",
    "        labels.append(label_ids)\n",
    "\n",
    "    tokenized_inputs[\"labels\"] = labels\n",
    "    return tokenized_inputs"
   ]
  },
  {
   "cell_type": "code",
   "execution_count": 4,
   "metadata": {},
   "outputs": [],
   "source": [
    "import numpy as np\n",
    "def load_dataset(k):\n",
    "    from datasets import load_dataset\n",
    "\n",
    "    dataset = load_dataset(\"conll2003\")\n",
    "\n",
    "    # select random k% indices\n",
    "    indices = np.random.choice(len(dataset[\"train\"]), len(dataset['train'])*k//100, replace=False)\n",
    "\n",
    "    dataset['train'] = dataset['train'].select(indices)\n",
    "    # convert dataset to ids\n",
    "    for name in ['train', 'validation', 'test']:\n",
    "        dataset[name] = dataset[name].map(tokenize_and_align_labels, batched=True)\n",
    "    return dataset"
   ]
  },
  {
   "cell_type": "code",
   "execution_count": 5,
   "metadata": {},
   "outputs": [
    {
     "name": "stderr",
     "output_type": "stream",
     "text": [
      "Found cached dataset conll2003 (/home/ronen/.cache/huggingface/datasets/conll2003/conll2003/1.0.0/9a4d16a94f8674ba3466315300359b0acd891b68b6c8743ddf60b9c702adce98)\n",
      "100%|██████████| 3/3 [00:00<00:00, 484.98it/s]\n",
      "Loading cached processed dataset at /home/ronen/.cache/huggingface/datasets/conll2003/conll2003/1.0.0/9a4d16a94f8674ba3466315300359b0acd891b68b6c8743ddf60b9c702adce98/cache-6b40c29a6848521b.arrow\n",
      "Loading cached processed dataset at /home/ronen/.cache/huggingface/datasets/conll2003/conll2003/1.0.0/9a4d16a94f8674ba3466315300359b0acd891b68b6c8743ddf60b9c702adce98/cache-437cb2368803ba37.arrow\n"
     ]
    }
   ],
   "source": [
    "dataset = load_dataset(1)"
   ]
  },
  {
   "cell_type": "code",
   "execution_count": 6,
   "metadata": {},
   "outputs": [
    {
     "name": "stdout",
     "output_type": "stream",
     "text": [
      "\n",
      "dataset size: 140 example {'id': '7412', 'tokens': ['Interacciones', 'brokerage', 'on', 'Monday', 'raised', 'its', 'forecasts', 'for', '1996', 'gross', 'domestic', 'product', 'growth', 'to', '4.3', 'percent', 'from', '3.8', 'percent', ',', 'but', 'it', 'kept', 'its', '1997', 'projection', 'unchanged', 'at', '4.5', 'percent', ',', 'a', 'statement', 'said', '.'], 'pos_tags': [24, 21, 15, 22, 38, 29, 24, 15, 11, 16, 16, 21, 21, 35, 11, 21, 15, 11, 21, 6, 10, 28, 38, 29, 11, 21, 16, 15, 11, 21, 6, 12, 21, 38, 7], 'chunk_tags': [11, 12, 13, 11, 21, 11, 12, 13, 11, 12, 12, 12, 12, 13, 11, 12, 13, 11, 12, 0, 0, 11, 21, 11, 12, 12, 1, 13, 11, 12, 0, 11, 12, 21, 0], 'ner_tags': [3, 0, 0, 0, 0, 0, 0, 0, 0, 0, 0, 0, 0, 0, 0, 0, 0, 0, 0, 0, 0, 0, 0, 0, 0, 0, 0, 0, 0, 0, 0, 0, 0, 0, 0], 'input_ids': [101, 11300, 7409, 16012, 1279, 24535, 2553, 1113, 6356, 2120, 1157, 24647, 1116, 1111, 1820, 10272, 4500, 3317, 3213, 1106, 125, 119, 124, 3029, 1121, 124, 119, 129, 3029, 117, 1133, 1122, 2023, 1157, 1816, 15178, 16684, 1120, 125, 119, 126, 3029, 117, 170, 4195, 1163, 119, 102], 'token_type_ids': [0, 0, 0, 0, 0, 0, 0, 0, 0, 0, 0, 0, 0, 0, 0, 0, 0, 0, 0, 0, 0, 0, 0, 0, 0, 0, 0, 0, 0, 0, 0, 0, 0, 0, 0, 0, 0, 0, 0, 0, 0, 0, 0, 0, 0, 0, 0, 0], 'attention_mask': [1, 1, 1, 1, 1, 1, 1, 1, 1, 1, 1, 1, 1, 1, 1, 1, 1, 1, 1, 1, 1, 1, 1, 1, 1, 1, 1, 1, 1, 1, 1, 1, 1, 1, 1, 1, 1, 1, 1, 1, 1, 1, 1, 1, 1, 1, 1, 1], 'labels': [-100, 3, -100, -100, -100, 0, -100, 0, 0, 0, 0, 0, -100, 0, 0, 0, 0, 0, 0, 0, 0, -100, -100, 0, 0, 0, -100, -100, 0, 0, 0, 0, 0, 0, 0, 0, 0, 0, 0, -100, -100, 0, 0, 0, 0, 0, 0, -100]}\n"
     ]
    }
   ],
   "source": [
    "print()\n",
    "print(\"dataset size:\",str(len(dataset['train'])),\"example\", dataset[\"train\"][0])"
   ]
  },
  {
   "cell_type": "markdown",
   "metadata": {},
   "source": [
    "### Model"
   ]
  },
  {
   "cell_type": "code",
   "execution_count": 7,
   "metadata": {},
   "outputs": [
    {
     "data": {
      "text/plain": [
       "['O', 'B-PER', 'I-PER', 'B-ORG', 'I-ORG', 'B-LOC', 'I-LOC', 'B-MISC', 'I-MISC']"
      ]
     },
     "execution_count": 7,
     "metadata": {},
     "output_type": "execute_result"
    }
   ],
   "source": [
    "label_list = dataset[\"train\"].features[\"ner_tags\"].feature.names\n",
    "label_list"
   ]
  },
  {
   "cell_type": "code",
   "execution_count": 8,
   "metadata": {},
   "outputs": [],
   "source": [
    "from transformers import DataCollatorForTokenClassification\n",
    "from transformers import AutoModelForTokenClassification\n",
    "data_collator = DataCollatorForTokenClassification(tokenizer=tokenizer)\n",
    "\n",
    "def reload_model():\n",
    "    return AutoModelForTokenClassification.from_pretrained(model_name, num_labels=len(label_list))"
   ]
  },
  {
   "cell_type": "code",
   "execution_count": 9,
   "metadata": {},
   "outputs": [
    {
     "name": "stderr",
     "output_type": "stream",
     "text": [
      "/tmp/ipykernel_116422/3224873647.py:2: FutureWarning: load_metric is deprecated and will be removed in the next major version of datasets. Use 'evaluate.load' instead, from the new library 🤗 Evaluate: https://huggingface.co/docs/evaluate\n",
      "  metric_seqeval = load_metric(\"seqeval\")\n"
     ]
    },
    {
     "data": {
      "text/plain": [
       "{'ORG': {'precision': 1.0, 'recall': 1.0, 'f1': 1.0, 'number': 1},\n",
       " 'overall_precision': 1.0,\n",
       " 'overall_recall': 1.0,\n",
       " 'overall_f1': 1.0,\n",
       " 'overall_accuracy': 1.0}"
      ]
     },
     "execution_count": 9,
     "metadata": {},
     "output_type": "execute_result"
    }
   ],
   "source": [
    "from datasets import load_metric\n",
    "metric_seqeval = load_metric(\"seqeval\")\n",
    "example = dataset[\"train\"][0]\n",
    "\n",
    "labels = [label_list[i] for i in example[\"ner_tags\"]]\n",
    "metric_seqeval.compute(predictions=[labels], references=[labels])"
   ]
  },
  {
   "cell_type": "code",
   "execution_count": 10,
   "metadata": {},
   "outputs": [],
   "source": [
    "def compute_metrics(p):\n",
    "    predictions, labels = p\n",
    "    predictions = np.argmax(predictions, axis=2)\n",
    "\n",
    "    # Remove ignored index (special tokens)\n",
    "    true_predictions = [\n",
    "        [label_list[p] for (p, l) in zip(prediction, label) if l != -100]\n",
    "        for prediction, label in zip(predictions, labels)\n",
    "    ]\n",
    "    true_labels = [\n",
    "        [label_list[l] for (p, l) in zip(prediction, label) if l != -100]\n",
    "        for prediction, label in zip(predictions, labels)\n",
    "    ]\n",
    "\n",
    "    results = metric_seqeval.compute(predictions=true_predictions, references=true_labels)\n",
    "    return {\n",
    "        \"precision\": results[\"overall_precision\"],\n",
    "        \"recall\": results[\"overall_recall\"],\n",
    "        \"f1\": results[\"overall_f1\"],\n",
    "        \"accuracy\": results[\"overall_accuracy\"],\n",
    "    }"
   ]
  },
  {
   "cell_type": "markdown",
   "metadata": {},
   "source": [
    "### Trainer"
   ]
  },
  {
   "cell_type": "code",
   "execution_count": 11,
   "metadata": {},
   "outputs": [],
   "source": [
    "from transformers import EarlyStoppingCallback\n",
    "from transformers import TrainingArguments\n",
    "from transformers import Trainer\n",
    "\n",
    "def reload_trainer(log_dir, dataset, model):\n",
    "\n",
    "    training_args = TrainingArguments(\n",
    "        output_dir=log_dir,\n",
    "        num_train_epochs=5,\n",
    "        learning_rate=2e-5,\n",
    "        per_device_train_batch_size=16,   \n",
    "        per_device_eval_batch_size=64,\n",
    "        weight_decay=0.01,\n",
    "        warmup_steps=500, \n",
    "        eval_steps=60,\n",
    "        save_steps=60,\n",
    "        evaluation_strategy=\"steps\",\n",
    "        load_best_model_at_end=True\n",
    "    )\n",
    "\n",
    "    trainer = Trainer(\n",
    "        model=model,\n",
    "        args=training_args,\n",
    "        train_dataset=dataset['train'],\n",
    "        eval_dataset=dataset[\"test\"],\n",
    "        tokenizer=tokenizer,\n",
    "        data_collator=data_collator,\n",
    "        compute_metrics=compute_metrics,\n",
    "        callbacks = [EarlyStoppingCallback(early_stopping_patience = 6)]\n",
    "    )\n",
    "    return trainer"
   ]
  },
  {
   "cell_type": "markdown",
   "metadata": {},
   "source": [
    "### Evaluation\n"
   ]
  },
  {
   "cell_type": "code",
   "execution_count": 12,
   "metadata": {},
   "outputs": [],
   "source": [
    "def output_confusion_matrix(true_labels, true_predictions):\n",
    "    true_labels = [label for lst in true_labels for label in lst]\n",
    "    true_predictions = [label for lst in true_predictions for label in lst]\n",
    "    from sklearn.metrics import confusion_matrix\n",
    "    cm = confusion_matrix(true_labels, true_predictions)\n",
    "    cm = cm / cm.sum(axis=-1, keepdims=True)\n",
    "    import matplotlib.pyplot as plt\n",
    "\n",
    "    # Print the confusion matrix\n",
    "    plt.matshow(cm, cmap=\"Blues\")\n",
    "    plt.title(\"Confusion Matrix\")\n",
    "    plt.xlabel(\"Predicted\")\n",
    "    plt.ylabel(\"True\")\n",
    "    plt.show()"
   ]
  },
  {
   "cell_type": "code",
   "execution_count": 13,
   "metadata": {},
   "outputs": [],
   "source": [
    "def eval(trainer, dataset):\n",
    "    predictions, labels, _ = trainer.predict(dataset[\"test\"])\n",
    "    predictions = np.argmax(predictions, axis=2)\n",
    "\n",
    "    # Remove ignored index (special tokens)\n",
    "    true_predictions = [\n",
    "        [label_list[p] for (p, l) in zip(prediction, label) if l != -100]\n",
    "        for prediction, label in zip(predictions, labels)\n",
    "    ]\n",
    "    true_labels = [\n",
    "        [label_list[l] for (p, l) in zip(prediction, label) if l != -100]\n",
    "        for prediction, label in zip(predictions, labels)\n",
    "    ]\n",
    "\n",
    "    results = metric_seqeval.compute(predictions=true_predictions, references=true_labels)\n",
    "\n",
    "    output_confusion_matrix(true_labels, true_predictions)\n",
    "    return results"
   ]
  },
  {
   "cell_type": "code",
   "execution_count": 14,
   "metadata": {},
   "outputs": [],
   "source": [
    "import pandas as pd\n",
    "def pretty_print(results:dict):\n",
    "    overall = {\n",
    "        'overall_precision': [results['overall_precision']],\n",
    "        'overall_recall': [results['overall_recall']],\n",
    "        'overall_f1': [results['overall_f1']],\n",
    "        'overall_accuracy': [results['overall_accuracy']]\n",
    "    }\n",
    "    print(pd.DataFrame(overall))\n",
    "\n",
    "    print()\n",
    "\n",
    "    del results['overall_accuracy']\n",
    "    del results['overall_f1']\n",
    "    del results['overall_recall']\n",
    "    del results['overall_precision']\n",
    "\n",
    "    print(pd.DataFrame(results))    "
   ]
  },
  {
   "cell_type": "code",
   "execution_count": 15,
   "metadata": {},
   "outputs": [
    {
     "name": "stdout",
     "output_type": "stream",
     "text": [
      "---------------------------------------------------\n",
      "starting run on training set of 1%\n",
      "\n"
     ]
    },
    {
     "name": "stderr",
     "output_type": "stream",
     "text": [
      "Some weights of the model checkpoint at bert-base-cased were not used when initializing BertForTokenClassification: ['cls.predictions.transform.LayerNorm.weight', 'cls.predictions.transform.dense.weight', 'cls.predictions.transform.dense.bias', 'cls.predictions.bias', 'cls.seq_relationship.weight', 'cls.seq_relationship.bias', 'cls.predictions.transform.LayerNorm.bias']\n",
      "- This IS expected if you are initializing BertForTokenClassification from the checkpoint of a model trained on another task or with another architecture (e.g. initializing a BertForSequenceClassification model from a BertForPreTraining model).\n",
      "- This IS NOT expected if you are initializing BertForTokenClassification from the checkpoint of a model that you expect to be exactly identical (initializing a BertForSequenceClassification model from a BertForSequenceClassification model).\n",
      "Some weights of BertForTokenClassification were not initialized from the model checkpoint at bert-base-cased and are newly initialized: ['classifier.bias', 'classifier.weight']\n",
      "You should probably TRAIN this model on a down-stream task to be able to use it for predictions and inference.\n",
      "Found cached dataset conll2003 (/home/ronen/.cache/huggingface/datasets/conll2003/conll2003/1.0.0/9a4d16a94f8674ba3466315300359b0acd891b68b6c8743ddf60b9c702adce98)\n",
      "100%|██████████| 3/3 [00:00<00:00, 645.74it/s]\n",
      "Loading cached processed dataset at /home/ronen/.cache/huggingface/datasets/conll2003/conll2003/1.0.0/9a4d16a94f8674ba3466315300359b0acd891b68b6c8743ddf60b9c702adce98/cache-6b40c29a6848521b.arrow\n",
      "Loading cached processed dataset at /home/ronen/.cache/huggingface/datasets/conll2003/conll2003/1.0.0/9a4d16a94f8674ba3466315300359b0acd891b68b6c8743ddf60b9c702adce98/cache-437cb2368803ba37.arrow\n",
      "/home/ronen/Documents/college/NNForNLP/workshop_1/.conda/lib/python3.10/site-packages/transformers/optimization.py:411: FutureWarning: This implementation of AdamW is deprecated and will be removed in a future version. Use the PyTorch implementation torch.optim.AdamW instead, or set `no_deprecation_warning=True` to disable this warning\n",
      "  warnings.warn(\n",
      "  0%|          | 0/45 [00:00<?, ?it/s]You're using a BertTokenizerFast tokenizer. Please note that with a fast tokenizer, using the `__call__` method is faster than using a method to encode the text followed by a call to the `pad` method to get a padded encoding.\n",
      "100%|██████████| 45/45 [00:05<00:00,  8.89it/s]\n"
     ]
    },
    {
     "name": "stdout",
     "output_type": "stream",
     "text": [
      "{'train_runtime': 5.0608, 'train_samples_per_second': 138.318, 'train_steps_per_second': 8.892, 'train_loss': 2.3458309597439237, 'epoch': 5.0}\n"
     ]
    },
    {
     "name": "stderr",
     "output_type": "stream",
     "text": [
      "100%|██████████| 54/54 [00:06<00:00,  8.02it/s]\n"
     ]
    },
    {
     "data": {
      "image/png": "[encoded data removed]",
      "text/plain": [
       "<Figure size 480x480 with 1 Axes>"
      ]
     },
     "metadata": {},
     "output_type": "display_data"
    },
    {
     "name": "stdout",
     "output_type": "stream",
     "text": [
      "   overall_precision  overall_recall  overall_f1  overall_accuracy\n",
      "0           0.015728        0.069936     0.02568          0.205384\n",
      "\n",
      "                   LOC        MISC          ORG          PER\n",
      "precision     0.024528    0.008549     0.045104     0.012559\n",
      "recall        0.054556    0.149573     0.070439     0.050711\n",
      "f1            0.033842    0.016174     0.054994     0.020133\n",
      "number     1668.000000  702.000000  1661.000000  1617.000000\n",
      "\n",
      "end of run\n",
      "---------------------------------------------------\n",
      "---------------------------------------------------\n",
      "starting run on training set of 3%\n",
      "\n"
     ]
    },
    {
     "name": "stderr",
     "output_type": "stream",
     "text": [
      "Some weights of the model checkpoint at bert-base-cased were not used when initializing BertForTokenClassification: ['cls.predictions.transform.LayerNorm.weight', 'cls.predictions.transform.dense.weight', 'cls.predictions.transform.dense.bias', 'cls.predictions.bias', 'cls.seq_relationship.weight', 'cls.seq_relationship.bias', 'cls.predictions.transform.LayerNorm.bias']\n",
      "- This IS expected if you are initializing BertForTokenClassification from the checkpoint of a model trained on another task or with another architecture (e.g. initializing a BertForSequenceClassification model from a BertForPreTraining model).\n",
      "- This IS NOT expected if you are initializing BertForTokenClassification from the checkpoint of a model that you expect to be exactly identical (initializing a BertForSequenceClassification model from a BertForSequenceClassification model).\n",
      "Some weights of BertForTokenClassification were not initialized from the model checkpoint at bert-base-cased and are newly initialized: ['classifier.bias', 'classifier.weight']\n",
      "You should probably TRAIN this model on a down-stream task to be able to use it for predictions and inference.\n",
      "Found cached dataset conll2003 (/home/ronen/.cache/huggingface/datasets/conll2003/conll2003/1.0.0/9a4d16a94f8674ba3466315300359b0acd891b68b6c8743ddf60b9c702adce98)\n",
      "100%|██████████| 3/3 [00:00<00:00, 710.22it/s]\n",
      "Loading cached processed dataset at /home/ronen/.cache/huggingface/datasets/conll2003/conll2003/1.0.0/9a4d16a94f8674ba3466315300359b0acd891b68b6c8743ddf60b9c702adce98/cache-33d77269e8c83b42.arrow\n",
      "Loading cached processed dataset at /home/ronen/.cache/huggingface/datasets/conll2003/conll2003/1.0.0/9a4d16a94f8674ba3466315300359b0acd891b68b6c8743ddf60b9c702adce98/cache-e404aa9a2bdfb159.arrow\n",
      "/home/ronen/Documents/college/NNForNLP/workshop_1/.conda/lib/python3.10/site-packages/transformers/optimization.py:411: FutureWarning: This implementation of AdamW is deprecated and will be removed in a future version. Use the PyTorch implementation torch.optim.AdamW instead, or set `no_deprecation_warning=True` to disable this warning\n",
      "  warnings.warn(\n",
      "                                                \n",
      " 44%|████▍     | 60/135 [00:13<00:07, 10.28it/s]"
     ]
    },
    {
     "name": "stdout",
     "output_type": "stream",
     "text": [
      "{'eval_loss': 1.6281932592391968, 'eval_precision': 0.0037220843672456576, 'eval_recall': 0.0010623229461756375, 'eval_f1': 0.0016528925619834713, 'eval_accuracy': 0.7954990847421126, 'eval_runtime': 7.0396, 'eval_samples_per_second': 490.513, 'eval_steps_per_second': 7.671, 'epoch': 2.22}\n"
     ]
    },
    {
     "name": "stderr",
     "output_type": "stream",
     "text": [
      " 89%|████████▉ | 120/135 [00:20<00:01,  9.39it/s]/home/ronen/Documents/college/NNForNLP/workshop_1/.conda/lib/python3.10/site-packages/seqeval/metrics/v1.py:57: UndefinedMetricWarning: Precision and F-score are ill-defined and being set to 0.0 in labels with no predicted samples. Use `zero_division` parameter to control this behavior.\n",
      "  _warn_prf(average, modifier, msg_start, len(result))\n",
      "/home/ronen/Documents/college/NNForNLP/workshop_1/.conda/lib/python3.10/site-packages/seqeval/metrics/v1.py:57: UndefinedMetricWarning: Precision and F-score are ill-defined and being set to 0.0 due to no predicted samples. Use `zero_division` parameter to control this behavior.\n",
      "  _warn_prf(average, modifier, msg_start, len(result))\n",
      "                                                 \n",
      " 89%|████████▉ | 120/135 [00:27<00:01,  9.39it/s]"
     ]
    },
    {
     "name": "stdout",
     "output_type": "stream",
     "text": [
      "{'eval_loss': 0.6362273693084717, 'eval_precision': 0.0, 'eval_recall': 0.0, 'eval_f1': 0.0, 'eval_accuracy': 0.8253041886508022, 'eval_runtime': 7.0715, 'eval_samples_per_second': 488.296, 'eval_steps_per_second': 7.636, 'epoch': 4.44}\n"
     ]
    },
    {
     "name": "stderr",
     "output_type": "stream",
     "text": [
      "100%|██████████| 135/135 [00:31<00:00,  4.31it/s]\n"
     ]
    },
    {
     "name": "stdout",
     "output_type": "stream",
     "text": [
      "{'train_runtime': 31.3255, 'train_samples_per_second': 67.198, 'train_steps_per_second': 4.31, 'train_loss': 1.4195057056568288, 'epoch': 5.0}\n"
     ]
    },
    {
     "name": "stderr",
     "output_type": "stream",
     "text": [
      "100%|██████████| 54/54 [00:06<00:00, 10.08it/s]/home/ronen/Documents/college/NNForNLP/workshop_1/.conda/lib/python3.10/site-packages/seqeval/metrics/v1.py:57: UndefinedMetricWarning: Precision and F-score are ill-defined and being set to 0.0 in labels with no predicted samples. Use `zero_division` parameter to control this behavior.\n",
      "  _warn_prf(average, modifier, msg_start, len(result))\n",
      "/home/ronen/Documents/college/NNForNLP/workshop_1/.conda/lib/python3.10/site-packages/seqeval/metrics/v1.py:57: UndefinedMetricWarning: Precision and F-score are ill-defined and being set to 0.0 due to no predicted samples. Use `zero_division` parameter to control this behavior.\n",
      "  _warn_prf(average, modifier, msg_start, len(result))\n",
      "100%|██████████| 54/54 [00:06<00:00,  7.89it/s]\n"
     ]
    },
    {
     "data": {
      "image/png": "[encoded data removed]",
      "text/plain": [
       "<Figure size 480x480 with 1 Axes>"
      ]
     },
     "metadata": {},
     "output_type": "display_data"
    },
    {
     "name": "stdout",
     "output_type": "stream",
     "text": [
      "   overall_precision  overall_recall  overall_f1  overall_accuracy\n",
      "0                0.0             0.0         0.0          0.825304\n",
      "\n",
      "              LOC   MISC     ORG     PER\n",
      "precision     0.0    0.0     0.0     0.0\n",
      "recall        0.0    0.0     0.0     0.0\n",
      "f1            0.0    0.0     0.0     0.0\n",
      "number     1668.0  702.0  1661.0  1617.0\n",
      "\n",
      "end of run\n",
      "---------------------------------------------------\n",
      "---------------------------------------------------\n",
      "starting run on training set of 5%\n",
      "\n"
     ]
    },
    {
     "name": "stderr",
     "output_type": "stream",
     "text": [
      "Some weights of the model checkpoint at bert-base-cased were not used when initializing BertForTokenClassification: ['cls.predictions.transform.LayerNorm.weight', 'cls.predictions.transform.dense.weight', 'cls.predictions.transform.dense.bias', 'cls.predictions.bias', 'cls.seq_relationship.weight', 'cls.seq_relationship.bias', 'cls.predictions.transform.LayerNorm.bias']\n",
      "- This IS expected if you are initializing BertForTokenClassification from the checkpoint of a model trained on another task or with another architecture (e.g. initializing a BertForSequenceClassification model from a BertForPreTraining model).\n",
      "- This IS NOT expected if you are initializing BertForTokenClassification from the checkpoint of a model that you expect to be exactly identical (initializing a BertForSequenceClassification model from a BertForSequenceClassification model).\n",
      "Some weights of BertForTokenClassification were not initialized from the model checkpoint at bert-base-cased and are newly initialized: ['classifier.bias', 'classifier.weight']\n",
      "You should probably TRAIN this model on a down-stream task to be able to use it for predictions and inference.\n",
      "Found cached dataset conll2003 (/home/ronen/.cache/huggingface/datasets/conll2003/conll2003/1.0.0/9a4d16a94f8674ba3466315300359b0acd891b68b6c8743ddf60b9c702adce98)\n",
      "100%|██████████| 3/3 [00:00<00:00, 535.60it/s]\n",
      "Loading cached processed dataset at /home/ronen/.cache/huggingface/datasets/conll2003/conll2003/1.0.0/9a4d16a94f8674ba3466315300359b0acd891b68b6c8743ddf60b9c702adce98/cache-33d77269e8c83b42.arrow\n",
      "Loading cached processed dataset at /home/ronen/.cache/huggingface/datasets/conll2003/conll2003/1.0.0/9a4d16a94f8674ba3466315300359b0acd891b68b6c8743ddf60b9c702adce98/cache-e404aa9a2bdfb159.arrow\n",
      "/home/ronen/Documents/college/NNForNLP/workshop_1/.conda/lib/python3.10/site-packages/transformers/optimization.py:411: FutureWarning: This implementation of AdamW is deprecated and will be removed in a future version. Use the PyTorch implementation torch.optim.AdamW instead, or set `no_deprecation_warning=True` to disable this warning\n",
      "  warnings.warn(\n",
      " 27%|██▋       | 60/220 [00:06<00:16,  9.88it/s]\n",
      " 27%|██▋       | 60/220 [00:13<00:16,  9.88it/s]"
     ]
    },
    {
     "name": "stdout",
     "output_type": "stream",
     "text": [
      "{'eval_loss': 1.3708831071853638, 'eval_precision': 0.021212121212121213, 'eval_recall': 0.003718130311614731, 'eval_f1': 0.006327206990057246, 'eval_accuracy': 0.8086787983202326, 'eval_runtime': 7.1941, 'eval_samples_per_second': 479.976, 'eval_steps_per_second': 7.506, 'epoch': 1.36}\n"
     ]
    },
    {
     "name": "stderr",
     "output_type": "stream",
     "text": [
      " 55%|█████▍    | 120/220 [00:21<00:10,  9.47it/s]/home/ronen/Documents/college/NNForNLP/workshop_1/.conda/lib/python3.10/site-packages/seqeval/metrics/v1.py:57: UndefinedMetricWarning: Precision and F-score are ill-defined and being set to 0.0 in labels with no predicted samples. Use `zero_division` parameter to control this behavior.\n",
      "  _warn_prf(average, modifier, msg_start, len(result))\n",
      "\n",
      " 55%|█████▍    | 120/220 [00:28<00:10,  9.47it/s]"
     ]
    },
    {
     "name": "stdout",
     "output_type": "stream",
     "text": [
      "{'eval_loss': 0.611586332321167, 'eval_precision': 0.0, 'eval_recall': 0.0, 'eval_f1': 0.0, 'eval_accuracy': 0.8253041886508022, 'eval_runtime': 7.2348, 'eval_samples_per_second': 477.279, 'eval_steps_per_second': 7.464, 'epoch': 2.73}\n"
     ]
    },
    {
     "name": "stderr",
     "output_type": "stream",
     "text": [
      " 82%|████████▏ | 180/220 [00:35<00:04,  8.85it/s]\n",
      " 82%|████████▏ | 180/220 [00:42<00:04,  8.85it/s]"
     ]
    },
    {
     "name": "stdout",
     "output_type": "stream",
     "text": [
      "{'eval_loss': 0.3104669451713562, 'eval_precision': 0.5097560975609756, 'eval_recall': 0.5550637393767706, 'eval_f1': 0.5314460077979319, 'eval_accuracy': 0.9268439754495531, 'eval_runtime': 7.1507, 'eval_samples_per_second': 482.886, 'eval_steps_per_second': 7.552, 'epoch': 4.09}\n"
     ]
    },
    {
     "name": "stderr",
     "output_type": "stream",
     "text": [
      "100%|██████████| 220/220 [00:49<00:00,  4.48it/s]\n"
     ]
    },
    {
     "name": "stdout",
     "output_type": "stream",
     "text": [
      "{'train_runtime': 49.1249, 'train_samples_per_second': 71.451, 'train_steps_per_second': 4.478, 'train_loss': 0.8545691056685014, 'epoch': 5.0}\n"
     ]
    },
    {
     "name": "stderr",
     "output_type": "stream",
     "text": [
      "100%|██████████| 54/54 [00:06<00:00,  7.84it/s]\n"
     ]
    },
    {
     "data": {
      "image/png": "[encoded data removed]",
      "text/plain": [
       "<Figure size 480x480 with 1 Axes>"
      ]
     },
     "metadata": {},
     "output_type": "display_data"
    },
    {
     "name": "stdout",
     "output_type": "stream",
     "text": [
      "   overall_precision  overall_recall  overall_f1  overall_accuracy\n",
      "0           0.509756        0.555064    0.531446          0.926844\n",
      "\n",
      "                   LOC        MISC          ORG          PER\n",
      "precision     0.500426    0.366667     0.398301     0.650650\n",
      "recall        0.705036    0.015670     0.479831     0.711812\n",
      "f1            0.585366    0.030055     0.435281     0.679858\n",
      "number     1668.000000  702.000000  1661.000000  1617.000000\n",
      "\n",
      "end of run\n",
      "---------------------------------------------------\n",
      "---------------------------------------------------\n",
      "starting run on training set of 7%\n",
      "\n"
     ]
    },
    {
     "name": "stderr",
     "output_type": "stream",
     "text": [
      "Some weights of the model checkpoint at bert-base-cased were not used when initializing BertForTokenClassification: ['cls.predictions.transform.LayerNorm.weight', 'cls.predictions.transform.dense.weight', 'cls.predictions.transform.dense.bias', 'cls.predictions.bias', 'cls.seq_relationship.weight', 'cls.seq_relationship.bias', 'cls.predictions.transform.LayerNorm.bias']\n",
      "- This IS expected if you are initializing BertForTokenClassification from the checkpoint of a model trained on another task or with another architecture (e.g. initializing a BertForSequenceClassification model from a BertForPreTraining model).\n",
      "- This IS NOT expected if you are initializing BertForTokenClassification from the checkpoint of a model that you expect to be exactly identical (initializing a BertForSequenceClassification model from a BertForSequenceClassification model).\n",
      "Some weights of BertForTokenClassification were not initialized from the model checkpoint at bert-base-cased and are newly initialized: ['classifier.bias', 'classifier.weight']\n",
      "You should probably TRAIN this model on a down-stream task to be able to use it for predictions and inference.\n",
      "Found cached dataset conll2003 (/home/ronen/.cache/huggingface/datasets/conll2003/conll2003/1.0.0/9a4d16a94f8674ba3466315300359b0acd891b68b6c8743ddf60b9c702adce98)\n",
      "100%|██████████| 3/3 [00:00<00:00, 883.94it/s]\n",
      "Loading cached processed dataset at /home/ronen/.cache/huggingface/datasets/conll2003/conll2003/1.0.0/9a4d16a94f8674ba3466315300359b0acd891b68b6c8743ddf60b9c702adce98/cache-33d77269e8c83b42.arrow\n",
      "Loading cached processed dataset at /home/ronen/.cache/huggingface/datasets/conll2003/conll2003/1.0.0/9a4d16a94f8674ba3466315300359b0acd891b68b6c8743ddf60b9c702adce98/cache-e404aa9a2bdfb159.arrow\n",
      "/home/ronen/Documents/college/NNForNLP/workshop_1/.conda/lib/python3.10/site-packages/transformers/optimization.py:411: FutureWarning: This implementation of AdamW is deprecated and will be removed in a future version. Use the PyTorch implementation torch.optim.AdamW instead, or set `no_deprecation_warning=True` to disable this warning\n",
      "  warnings.warn(\n",
      " 19%|█▉        | 60/310 [00:06<00:26,  9.32it/s]\n",
      " 19%|█▉        | 60/310 [00:13<00:26,  9.32it/s]"
     ]
    },
    {
     "name": "stdout",
     "output_type": "stream",
     "text": [
      "{'eval_loss': 1.7831087112426758, 'eval_precision': 0.02294813253717363, 'eval_recall': 0.034702549575070823, 'eval_f1': 0.027627035027133692, 'eval_accuracy': 0.6626036394960698, 'eval_runtime': 7.2085, 'eval_samples_per_second': 479.017, 'eval_steps_per_second': 7.491, 'epoch': 0.97}\n"
     ]
    },
    {
     "name": "stderr",
     "output_type": "stream",
     "text": [
      " 39%|███▊      | 120/310 [00:20<00:19,  9.73it/s]/home/ronen/Documents/college/NNForNLP/workshop_1/.conda/lib/python3.10/site-packages/seqeval/metrics/v1.py:57: UndefinedMetricWarning: Precision and F-score are ill-defined and being set to 0.0 in labels with no predicted samples. Use `zero_division` parameter to control this behavior.\n",
      "  _warn_prf(average, modifier, msg_start, len(result))\n",
      "/home/ronen/Documents/college/NNForNLP/workshop_1/.conda/lib/python3.10/site-packages/seqeval/metrics/v1.py:57: UndefinedMetricWarning: Precision and F-score are ill-defined and being set to 0.0 due to no predicted samples. Use `zero_division` parameter to control this behavior.\n",
      "  _warn_prf(average, modifier, msg_start, len(result))\n",
      "\n",
      " 39%|███▊      | 120/310 [00:28<00:19,  9.73it/s]"
     ]
    },
    {
     "name": "stdout",
     "output_type": "stream",
     "text": [
      "{'eval_loss': 0.6534881591796875, 'eval_precision': 0.0, 'eval_recall': 0.0, 'eval_f1': 0.0, 'eval_accuracy': 0.8253041886508022, 'eval_runtime': 7.0676, 'eval_samples_per_second': 488.571, 'eval_steps_per_second': 7.641, 'epoch': 1.94}\n"
     ]
    },
    {
     "name": "stderr",
     "output_type": "stream",
     "text": [
      " 58%|█████▊    | 180/310 [00:35<00:13,  9.38it/s]\n",
      " 58%|█████▊    | 180/310 [00:42<00:13,  9.38it/s]"
     ]
    },
    {
     "name": "stdout",
     "output_type": "stream",
     "text": [
      "{'eval_loss': 0.34523889422416687, 'eval_precision': 0.40427553444180525, 'eval_recall': 0.4520184135977337, 'eval_f1': 0.42681601604948594, 'eval_accuracy': 0.9084526757833531, 'eval_runtime': 7.1501, 'eval_samples_per_second': 482.927, 'eval_steps_per_second': 7.552, 'epoch': 2.9}\n"
     ]
    },
    {
     "name": "stderr",
     "output_type": "stream",
     "text": [
      " 77%|███████▋  | 239/310 [00:49<00:07,  9.69it/s]\n",
      " 77%|███████▋  | 240/310 [00:56<00:07,  9.69it/s]"
     ]
    },
    {
     "name": "stdout",
     "output_type": "stream",
     "text": [
      "{'eval_loss': 0.19433164596557617, 'eval_precision': 0.6890305266689031, 'eval_recall': 0.7273371104815864, 'eval_f1': 0.707665805340224, 'eval_accuracy': 0.9536771831592549, 'eval_runtime': 7.1305, 'eval_samples_per_second': 484.257, 'eval_steps_per_second': 7.573, 'epoch': 3.87}\n"
     ]
    },
    {
     "name": "stderr",
     "output_type": "stream",
     "text": [
      " 96%|█████████▋| 299/310 [01:04<00:01,  9.45it/s]\n",
      " 97%|█████████▋| 300/310 [01:12<00:01,  9.45it/s]"
     ]
    },
    {
     "name": "stdout",
     "output_type": "stream",
     "text": [
      "{'eval_loss': 0.1458546370267868, 'eval_precision': 0.7901150981719702, 'eval_recall': 0.8264872521246459, 'eval_f1': 0.8078920041536866, 'eval_accuracy': 0.9658447291913428, 'eval_runtime': 7.1998, 'eval_samples_per_second': 479.597, 'eval_steps_per_second': 7.5, 'epoch': 4.84}\n"
     ]
    },
    {
     "name": "stderr",
     "output_type": "stream",
     "text": [
      "100%|██████████| 310/310 [01:14<00:00,  4.17it/s]\n"
     ]
    },
    {
     "name": "stdout",
     "output_type": "stream",
     "text": [
      "{'train_runtime': 74.4056, 'train_samples_per_second': 65.99, 'train_steps_per_second': 4.166, 'train_loss': 0.7915849254977319, 'epoch': 5.0}\n"
     ]
    },
    {
     "name": "stderr",
     "output_type": "stream",
     "text": [
      "100%|██████████| 54/54 [00:07<00:00,  7.54it/s]\n"
     ]
    },
    {
     "data": {
      "image/png": "[encoded data removed]",
      "text/plain": [
       "<Figure size 480x480 with 1 Axes>"
      ]
     },
     "metadata": {},
     "output_type": "display_data"
    },
    {
     "name": "stdout",
     "output_type": "stream",
     "text": [
      "   overall_precision  overall_recall  overall_f1  overall_accuracy\n",
      "0           0.790115        0.826487    0.807892          0.965845\n",
      "\n",
      "                   LOC        MISC          ORG          PER\n",
      "precision     0.766435    0.629683     0.733857     0.953905\n",
      "recall        0.859712    0.622507     0.786875     0.921459\n",
      "f1            0.810398    0.626074     0.759442     0.937402\n",
      "number     1668.000000  702.000000  1661.000000  1617.000000\n",
      "\n",
      "end of run\n",
      "---------------------------------------------------\n",
      "---------------------------------------------------\n",
      "starting run on training set of 9%\n",
      "\n"
     ]
    },
    {
     "name": "stderr",
     "output_type": "stream",
     "text": [
      "Some weights of the model checkpoint at bert-base-cased were not used when initializing BertForTokenClassification: ['cls.predictions.transform.LayerNorm.weight', 'cls.predictions.transform.dense.weight', 'cls.predictions.transform.dense.bias', 'cls.predictions.bias', 'cls.seq_relationship.weight', 'cls.seq_relationship.bias', 'cls.predictions.transform.LayerNorm.bias']\n",
      "- This IS expected if you are initializing BertForTokenClassification from the checkpoint of a model trained on another task or with another architecture (e.g. initializing a BertForSequenceClassification model from a BertForPreTraining model).\n",
      "- This IS NOT expected if you are initializing BertForTokenClassification from the checkpoint of a model that you expect to be exactly identical (initializing a BertForSequenceClassification model from a BertForSequenceClassification model).\n",
      "Some weights of BertForTokenClassification were not initialized from the model checkpoint at bert-base-cased and are newly initialized: ['classifier.bias', 'classifier.weight']\n",
      "You should probably TRAIN this model on a down-stream task to be able to use it for predictions and inference.\n",
      "Found cached dataset conll2003 (/home/ronen/.cache/huggingface/datasets/conll2003/conll2003/1.0.0/9a4d16a94f8674ba3466315300359b0acd891b68b6c8743ddf60b9c702adce98)\n",
      "100%|██████████| 3/3 [00:00<00:00, 634.92it/s]\n",
      "Loading cached processed dataset at /home/ronen/.cache/huggingface/datasets/conll2003/conll2003/1.0.0/9a4d16a94f8674ba3466315300359b0acd891b68b6c8743ddf60b9c702adce98/cache-33d77269e8c83b42.arrow\n",
      "Loading cached processed dataset at /home/ronen/.cache/huggingface/datasets/conll2003/conll2003/1.0.0/9a4d16a94f8674ba3466315300359b0acd891b68b6c8743ddf60b9c702adce98/cache-e404aa9a2bdfb159.arrow\n",
      "/home/ronen/Documents/college/NNForNLP/workshop_1/.conda/lib/python3.10/site-packages/transformers/optimization.py:411: FutureWarning: This implementation of AdamW is deprecated and will be removed in a future version. Use the PyTorch implementation torch.optim.AdamW instead, or set `no_deprecation_warning=True` to disable this warning\n",
      "  warnings.warn(\n",
      "                                                \n",
      " 15%|█▌        | 60/395 [00:13<00:33, 10.09it/s]"
     ]
    },
    {
     "name": "stdout",
     "output_type": "stream",
     "text": [
      "{'eval_loss': 1.633639931678772, 'eval_precision': 0.010123734533183352, 'eval_recall': 0.0047804532577903685, 'eval_f1': 0.006494287432351174, 'eval_accuracy': 0.7801658231937116, 'eval_runtime': 7.184, 'eval_samples_per_second': 480.649, 'eval_steps_per_second': 7.517, 'epoch': 0.76}\n"
     ]
    },
    {
     "name": "stderr",
     "output_type": "stream",
     "text": [
      " 30%|███       | 120/395 [00:20<00:28,  9.53it/s]/home/ronen/Documents/college/NNForNLP/workshop_1/.conda/lib/python3.10/site-packages/seqeval/metrics/v1.py:57: UndefinedMetricWarning: Precision and F-score are ill-defined and being set to 0.0 in labels with no predicted samples. Use `zero_division` parameter to control this behavior.\n",
      "  _warn_prf(average, modifier, msg_start, len(result))\n",
      "                                                 \n",
      " 30%|███       | 120/395 [00:27<00:28,  9.53it/s]"
     ]
    },
    {
     "name": "stdout",
     "output_type": "stream",
     "text": [
      "{'eval_loss': 0.6191298961639404, 'eval_precision': 1.0, 'eval_recall': 0.00017705382436260624, 'eval_f1': 0.00035404496371039125, 'eval_accuracy': 0.825325724130505, 'eval_runtime': 7.0481, 'eval_samples_per_second': 489.923, 'eval_steps_per_second': 7.662, 'epoch': 1.52}\n"
     ]
    },
    {
     "name": "stderr",
     "output_type": "stream",
     "text": [
      "                                                 \n",
      " 46%|████▌     | 180/395 [00:41<00:23,  9.28it/s]"
     ]
    },
    {
     "name": "stdout",
     "output_type": "stream",
     "text": [
      "{'eval_loss': 0.30599939823150635, 'eval_precision': 0.4979325699745547, 'eval_recall': 0.5543555240793201, 'eval_f1': 0.5246313672922251, 'eval_accuracy': 0.9250134596748143, 'eval_runtime': 6.9404, 'eval_samples_per_second': 497.523, 'eval_steps_per_second': 7.781, 'epoch': 2.28}\n"
     ]
    },
    {
     "name": "stderr",
     "output_type": "stream",
     "text": [
      "                                                 \n",
      " 61%|██████    | 240/395 [00:56<00:15, 10.07it/s]"
     ]
    },
    {
     "name": "stdout",
     "output_type": "stream",
     "text": [
      "{'eval_loss': 0.19309137761592865, 'eval_precision': 0.6471249598458079, 'eval_recall': 0.7133498583569405, 'eval_f1': 0.6786255684689237, 'eval_accuracy': 0.9473457521266286, 'eval_runtime': 7.185, 'eval_samples_per_second': 480.584, 'eval_steps_per_second': 7.516, 'epoch': 3.04}\n"
     ]
    },
    {
     "name": "stderr",
     "output_type": "stream",
     "text": [
      "                                                 \n",
      " 76%|███████▌  | 300/395 [01:11<00:09,  9.55it/s]"
     ]
    },
    {
     "name": "stdout",
     "output_type": "stream",
     "text": [
      "{'eval_loss': 0.14118090271949768, 'eval_precision': 0.8022560246111776, 'eval_recall': 0.8310906515580736, 'eval_f1': 0.8164188190277415, 'eval_accuracy': 0.9668784322170776, 'eval_runtime': 7.3591, 'eval_samples_per_second': 469.214, 'eval_steps_per_second': 7.338, 'epoch': 3.8}\n"
     ]
    },
    {
     "name": "stderr",
     "output_type": "stream",
     "text": [
      "                                                 \n",
      " 91%|█████████ | 360/395 [01:26<00:03,  9.27it/s]"
     ]
    },
    {
     "name": "stdout",
     "output_type": "stream",
     "text": [
      "{'eval_loss': 0.1309792697429657, 'eval_precision': 0.8153038767563907, 'eval_recall': 0.8526912181303116, 'eval_f1': 0.833578537429684, 'eval_accuracy': 0.9692473349843868, 'eval_runtime': 7.0006, 'eval_samples_per_second': 493.244, 'eval_steps_per_second': 7.714, 'epoch': 4.56}\n"
     ]
    },
    {
     "name": "stderr",
     "output_type": "stream",
     "text": [
      "100%|██████████| 395/395 [01:31<00:00,  4.34it/s]\n"
     ]
    },
    {
     "name": "stdout",
     "output_type": "stream",
     "text": [
      "{'train_runtime': 91.1132, 'train_samples_per_second': 69.309, 'train_steps_per_second': 4.335, 'train_loss': 0.5926385034488726, 'epoch': 5.0}\n"
     ]
    },
    {
     "name": "stderr",
     "output_type": "stream",
     "text": [
      "100%|██████████| 54/54 [00:06<00:00,  8.09it/s]\n"
     ]
    },
    {
     "data": {
      "image/png": "[encoded data removed]",
      "text/plain": [
       "<Figure size 480x480 with 1 Axes>"
      ]
     },
     "metadata": {},
     "output_type": "display_data"
    },
    {
     "name": "stdout",
     "output_type": "stream",
     "text": [
      "   overall_precision  overall_recall  overall_f1  overall_accuracy\n",
      "0           0.815304        0.852691    0.833579          0.969247\n",
      "\n",
      "                   LOC        MISC          ORG          PER\n",
      "precision     0.789668    0.636765     0.793246     0.941535\n",
      "recall        0.898082    0.616809     0.806141     0.956092\n",
      "f1            0.840393    0.626628     0.799642     0.948757\n",
      "number     1668.000000  702.000000  1661.000000  1617.000000\n",
      "\n",
      "end of run\n",
      "---------------------------------------------------\n",
      "---------------------------------------------------\n",
      "starting run on training set of 11%\n",
      "\n"
     ]
    },
    {
     "name": "stderr",
     "output_type": "stream",
     "text": [
      "Some weights of the model checkpoint at bert-base-cased were not used when initializing BertForTokenClassification: ['cls.predictions.transform.LayerNorm.weight', 'cls.predictions.transform.dense.weight', 'cls.predictions.transform.dense.bias', 'cls.predictions.bias', 'cls.seq_relationship.weight', 'cls.seq_relationship.bias', 'cls.predictions.transform.LayerNorm.bias']\n",
      "- This IS expected if you are initializing BertForTokenClassification from the checkpoint of a model trained on another task or with another architecture (e.g. initializing a BertForSequenceClassification model from a BertForPreTraining model).\n",
      "- This IS NOT expected if you are initializing BertForTokenClassification from the checkpoint of a model that you expect to be exactly identical (initializing a BertForSequenceClassification model from a BertForSequenceClassification model).\n",
      "Some weights of BertForTokenClassification were not initialized from the model checkpoint at bert-base-cased and are newly initialized: ['classifier.bias', 'classifier.weight']\n",
      "You should probably TRAIN this model on a down-stream task to be able to use it for predictions and inference.\n",
      "Found cached dataset conll2003 (/home/ronen/.cache/huggingface/datasets/conll2003/conll2003/1.0.0/9a4d16a94f8674ba3466315300359b0acd891b68b6c8743ddf60b9c702adce98)\n",
      "100%|██████████| 3/3 [00:00<00:00, 563.35it/s]\n",
      "Loading cached processed dataset at /home/ronen/.cache/huggingface/datasets/conll2003/conll2003/1.0.0/9a4d16a94f8674ba3466315300359b0acd891b68b6c8743ddf60b9c702adce98/cache-33d77269e8c83b42.arrow\n",
      "Loading cached processed dataset at /home/ronen/.cache/huggingface/datasets/conll2003/conll2003/1.0.0/9a4d16a94f8674ba3466315300359b0acd891b68b6c8743ddf60b9c702adce98/cache-e404aa9a2bdfb159.arrow\n",
      "/home/ronen/Documents/college/NNForNLP/workshop_1/.conda/lib/python3.10/site-packages/transformers/optimization.py:411: FutureWarning: This implementation of AdamW is deprecated and will be removed in a future version. Use the PyTorch implementation torch.optim.AdamW instead, or set `no_deprecation_warning=True` to disable this warning\n",
      "  warnings.warn(\n",
      " 12%|█▏        | 59/485 [00:06<00:42, 10.08it/s]\n",
      " 12%|█▏        | 60/485 [00:13<00:42, 10.08it/s]"
     ]
    },
    {
     "name": "stdout",
     "output_type": "stream",
     "text": [
      "{'eval_loss': 1.471448302268982, 'eval_precision': 0.0398936170212766, 'eval_recall': 0.0026558073654390935, 'eval_f1': 0.0049800796812749, 'eval_accuracy': 0.8184774415850113, 'eval_runtime': 7.3105, 'eval_samples_per_second': 472.333, 'eval_steps_per_second': 7.387, 'epoch': 0.62}\n"
     ]
    },
    {
     "name": "stderr",
     "output_type": "stream",
     "text": [
      " 25%|██▍       | 120/485 [00:20<00:37,  9.71it/s]/home/ronen/Documents/college/NNForNLP/workshop_1/.conda/lib/python3.10/site-packages/seqeval/metrics/v1.py:57: UndefinedMetricWarning: Precision and F-score are ill-defined and being set to 0.0 in labels with no predicted samples. Use `zero_division` parameter to control this behavior.\n",
      "  _warn_prf(average, modifier, msg_start, len(result))\n",
      "/home/ronen/Documents/college/NNForNLP/workshop_1/.conda/lib/python3.10/site-packages/seqeval/metrics/v1.py:57: UndefinedMetricWarning: Precision and F-score are ill-defined and being set to 0.0 due to no predicted samples. Use `zero_division` parameter to control this behavior.\n",
      "  _warn_prf(average, modifier, msg_start, len(result))\n",
      "\n",
      " 25%|██▍       | 120/485 [00:28<00:37,  9.71it/s]"
     ]
    },
    {
     "name": "stdout",
     "output_type": "stream",
     "text": [
      "{'eval_loss': 0.6558875441551208, 'eval_precision': 0.0, 'eval_recall': 0.0, 'eval_f1': 0.0, 'eval_accuracy': 0.8253041886508022, 'eval_runtime': 7.3409, 'eval_samples_per_second': 470.38, 'eval_steps_per_second': 7.356, 'epoch': 1.24}\n"
     ]
    },
    {
     "name": "stderr",
     "output_type": "stream",
     "text": [
      " 37%|███▋      | 179/485 [00:37<00:34,  8.90it/s]\n",
      " 37%|███▋      | 180/485 [00:44<00:34,  8.90it/s]"
     ]
    },
    {
     "name": "stdout",
     "output_type": "stream",
     "text": [
      "{'eval_loss': 0.30554288625717163, 'eval_precision': 0.45444866920152094, 'eval_recall': 0.5290368271954674, 'eval_f1': 0.48891434181461185, 'eval_accuracy': 0.9211370733283084, 'eval_runtime': 7.3088, 'eval_samples_per_second': 472.445, 'eval_steps_per_second': 7.388, 'epoch': 1.86}\n"
     ]
    },
    {
     "name": "stderr",
     "output_type": "stream",
     "text": [
      " 49%|████▉     | 240/485 [00:51<00:24, 10.20it/s]\n",
      " 49%|████▉     | 240/485 [00:59<00:24, 10.20it/s]"
     ]
    },
    {
     "name": "stdout",
     "output_type": "stream",
     "text": [
      "{'eval_loss': 0.17851009964942932, 'eval_precision': 0.7108190091001011, 'eval_recall': 0.7468130311614731, 'eval_f1': 0.7283716111207045, 'eval_accuracy': 0.9565414019597287, 'eval_runtime': 7.3695, 'eval_samples_per_second': 468.552, 'eval_steps_per_second': 7.327, 'epoch': 2.47}\n"
     ]
    },
    {
     "name": "stderr",
     "output_type": "stream",
     "text": [
      " 62%|██████▏   | 300/485 [01:06<00:18,  9.74it/s]\n",
      " 62%|██████▏   | 300/485 [01:13<00:18,  9.74it/s]"
     ]
    },
    {
     "name": "stdout",
     "output_type": "stream",
     "text": [
      "{'eval_loss': 0.139157235622406, 'eval_precision': 0.7811768639251087, 'eval_recall': 0.8273725212464589, 'eval_f1': 0.8036113499570077, 'eval_accuracy': 0.9651125228814472, 'eval_runtime': 7.2764, 'eval_samples_per_second': 474.545, 'eval_steps_per_second': 7.421, 'epoch': 3.09}\n"
     ]
    },
    {
     "name": "stderr",
     "output_type": "stream",
     "text": [
      " 74%|███████▍  | 360/485 [01:21<00:13,  9.50it/s]\n",
      " 74%|███████▍  | 360/485 [01:28<00:13,  9.50it/s]"
     ]
    },
    {
     "name": "stdout",
     "output_type": "stream",
     "text": [
      "{'eval_loss': 0.12652765214443207, 'eval_precision': 0.8143146522619852, 'eval_recall': 0.8541076487252125, 'eval_f1': 0.8337366055997235, 'eval_accuracy': 0.9692688704640896, 'eval_runtime': 7.531, 'eval_samples_per_second': 458.502, 'eval_steps_per_second': 7.17, 'epoch': 3.71}\n"
     ]
    },
    {
     "name": "stderr",
     "output_type": "stream",
     "text": [
      " 87%|████████▋ | 420/485 [01:37<00:07,  9.23it/s]\n",
      " 87%|████████▋ | 420/485 [01:45<00:07,  9.23it/s]"
     ]
    },
    {
     "name": "stdout",
     "output_type": "stream",
     "text": [
      "{'eval_loss': 0.1225847378373146, 'eval_precision': 0.8462074978204011, 'eval_recall': 0.859242209631728, 'eval_f1': 0.8526750417288939, 'eval_accuracy': 0.9727145472165393, 'eval_runtime': 7.2763, 'eval_samples_per_second': 474.556, 'eval_steps_per_second': 7.421, 'epoch': 4.33}\n"
     ]
    },
    {
     "name": "stderr",
     "output_type": "stream",
     "text": [
      " 99%|█████████▉| 479/485 [01:52<00:00, 10.15it/s]\n",
      " 99%|█████████▉| 480/485 [01:59<00:00, 10.15it/s]"
     ]
    },
    {
     "name": "stdout",
     "output_type": "stream",
     "text": [
      "{'eval_loss': 0.13548825681209564, 'eval_precision': 0.8318011576438543, 'eval_recall': 0.865084985835694, 'eval_f1': 0.848116646415553, 'eval_accuracy': 0.9704533218477441, 'eval_runtime': 7.2119, 'eval_samples_per_second': 478.789, 'eval_steps_per_second': 7.488, 'epoch': 4.95}\n"
     ]
    },
    {
     "name": "stderr",
     "output_type": "stream",
     "text": [
      "100%|██████████| 485/485 [02:02<00:00,  3.96it/s]\n"
     ]
    },
    {
     "name": "stdout",
     "output_type": "stream",
     "text": [
      "{'train_runtime': 122.34, 'train_samples_per_second': 63.103, 'train_steps_per_second': 3.964, 'train_loss': 0.4597133361187178, 'epoch': 5.0}\n"
     ]
    },
    {
     "name": "stderr",
     "output_type": "stream",
     "text": [
      "100%|██████████| 54/54 [00:07<00:00,  7.66it/s]\n"
     ]
    },
    {
     "data": {
      "image/png": "[encoded data removed]",
      "text/plain": [
       "<Figure size 480x480 with 1 Axes>"
      ]
     },
     "metadata": {},
     "output_type": "display_data"
    },
    {
     "name": "stdout",
     "output_type": "stream",
     "text": [
      "   overall_precision  overall_recall  overall_f1  overall_accuracy\n",
      "0           0.846207        0.859242    0.852675          0.972715\n",
      "\n",
      "                   LOC        MISC          ORG          PER\n",
      "precision     0.896154    0.690707     0.784768     0.934836\n",
      "recall        0.838129    0.709402     0.856111     0.949289\n",
      "f1            0.866171    0.699930     0.818889     0.942007\n",
      "number     1668.000000  702.000000  1661.000000  1617.000000\n",
      "\n",
      "end of run\n",
      "---------------------------------------------------\n",
      "---------------------------------------------------\n",
      "starting run on training set of 13%\n",
      "\n"
     ]
    },
    {
     "name": "stderr",
     "output_type": "stream",
     "text": [
      "Some weights of the model checkpoint at bert-base-cased were not used when initializing BertForTokenClassification: ['cls.predictions.transform.LayerNorm.weight', 'cls.predictions.transform.dense.weight', 'cls.predictions.transform.dense.bias', 'cls.predictions.bias', 'cls.seq_relationship.weight', 'cls.seq_relationship.bias', 'cls.predictions.transform.LayerNorm.bias']\n",
      "- This IS expected if you are initializing BertForTokenClassification from the checkpoint of a model trained on another task or with another architecture (e.g. initializing a BertForSequenceClassification model from a BertForPreTraining model).\n",
      "- This IS NOT expected if you are initializing BertForTokenClassification from the checkpoint of a model that you expect to be exactly identical (initializing a BertForSequenceClassification model from a BertForSequenceClassification model).\n",
      "Some weights of BertForTokenClassification were not initialized from the model checkpoint at bert-base-cased and are newly initialized: ['classifier.bias', 'classifier.weight']\n",
      "You should probably TRAIN this model on a down-stream task to be able to use it for predictions and inference.\n",
      "Found cached dataset conll2003 (/home/ronen/.cache/huggingface/datasets/conll2003/conll2003/1.0.0/9a4d16a94f8674ba3466315300359b0acd891b68b6c8743ddf60b9c702adce98)\n",
      "100%|██████████| 3/3 [00:00<00:00, 518.73it/s]\n",
      "Loading cached processed dataset at /home/ronen/.cache/huggingface/datasets/conll2003/conll2003/1.0.0/9a4d16a94f8674ba3466315300359b0acd891b68b6c8743ddf60b9c702adce98/cache-33d77269e8c83b42.arrow\n",
      "Loading cached processed dataset at /home/ronen/.cache/huggingface/datasets/conll2003/conll2003/1.0.0/9a4d16a94f8674ba3466315300359b0acd891b68b6c8743ddf60b9c702adce98/cache-e404aa9a2bdfb159.arrow\n",
      "/home/ronen/Documents/college/NNForNLP/workshop_1/.conda/lib/python3.10/site-packages/transformers/optimization.py:411: FutureWarning: This implementation of AdamW is deprecated and will be removed in a future version. Use the PyTorch implementation torch.optim.AdamW instead, or set `no_deprecation_warning=True` to disable this warning\n",
      "  warnings.warn(\n",
      " 10%|█         | 60/575 [00:06<00:55,  9.21it/s]\n",
      " 10%|█         | 60/575 [00:13<00:55,  9.21it/s]"
     ]
    },
    {
     "name": "stdout",
     "output_type": "stream",
     "text": [
      "{'eval_loss': 1.6224472522735596, 'eval_precision': 0.01710863986313088, 'eval_recall': 0.0035410764872521247, 'eval_f1': 0.005867683731846853, 'eval_accuracy': 0.8051685151286745, 'eval_runtime': 7.3094, 'eval_samples_per_second': 472.405, 'eval_steps_per_second': 7.388, 'epoch': 0.52}\n"
     ]
    },
    {
     "name": "stderr",
     "output_type": "stream",
     "text": [
      " 21%|██        | 119/575 [00:20<00:47,  9.70it/s]/home/ronen/Documents/college/NNForNLP/workshop_1/.conda/lib/python3.10/site-packages/seqeval/metrics/v1.py:57: UndefinedMetricWarning: Precision and F-score are ill-defined and being set to 0.0 in labels with no predicted samples. Use `zero_division` parameter to control this behavior.\n",
      "  _warn_prf(average, modifier, msg_start, len(result))\n",
      "/home/ronen/Documents/college/NNForNLP/workshop_1/.conda/lib/python3.10/site-packages/seqeval/metrics/v1.py:57: UndefinedMetricWarning: Precision and F-score are ill-defined and being set to 0.0 due to no predicted samples. Use `zero_division` parameter to control this behavior.\n",
      "  _warn_prf(average, modifier, msg_start, len(result))\n",
      "\n",
      " 21%|██        | 120/575 [00:28<00:46,  9.70it/s]"
     ]
    },
    {
     "name": "stdout",
     "output_type": "stream",
     "text": [
      "{'eval_loss': 0.699685275554657, 'eval_precision': 0.0, 'eval_recall': 0.0, 'eval_f1': 0.0, 'eval_accuracy': 0.8253041886508022, 'eval_runtime': 7.3474, 'eval_samples_per_second': 469.963, 'eval_steps_per_second': 7.35, 'epoch': 1.04}\n"
     ]
    },
    {
     "name": "stderr",
     "output_type": "stream",
     "text": [
      " 31%|███▏      | 180/575 [00:36<00:40,  9.85it/s]\n",
      " 31%|███▏      | 180/575 [00:44<00:40,  9.85it/s]"
     ]
    },
    {
     "name": "stdout",
     "output_type": "stream",
     "text": [
      "{'eval_loss': 0.34061717987060547, 'eval_precision': 0.5145001705902422, 'eval_recall': 0.5339943342776204, 'eval_f1': 0.5240660295395309, 'eval_accuracy': 0.9233121567782923, 'eval_runtime': 7.359, 'eval_samples_per_second': 469.221, 'eval_steps_per_second': 7.338, 'epoch': 1.57}\n"
     ]
    },
    {
     "name": "stderr",
     "output_type": "stream",
     "text": [
      " 42%|████▏     | 240/575 [00:51<00:34,  9.64it/s]\n",
      " 42%|████▏     | 240/575 [00:58<00:34,  9.64it/s]"
     ]
    },
    {
     "name": "stdout",
     "output_type": "stream",
     "text": [
      "{'eval_loss': 0.17855338752269745, 'eval_precision': 0.6898132983950213, 'eval_recall': 0.7457507082152974, 'eval_f1': 0.7166921898928024, 'eval_accuracy': 0.9558738020889416, 'eval_runtime': 7.2129, 'eval_samples_per_second': 478.725, 'eval_steps_per_second': 7.487, 'epoch': 2.09}\n"
     ]
    },
    {
     "name": "stderr",
     "output_type": "stream",
     "text": [
      " 52%|█████▏    | 300/575 [01:06<00:28,  9.58it/s]\n",
      " 52%|█████▏    | 300/575 [01:13<00:28,  9.58it/s]"
     ]
    },
    {
     "name": "stdout",
     "output_type": "stream",
     "text": [
      "{'eval_loss': 0.1306353658437729, 'eval_precision': 0.801287480941894, 'eval_recall': 0.8374645892351275, 'eval_f1': 0.8189767119729894, 'eval_accuracy': 0.9673952837299451, 'eval_runtime': 7.2287, 'eval_samples_per_second': 477.681, 'eval_steps_per_second': 7.47, 'epoch': 2.61}\n"
     ]
    },
    {
     "name": "stderr",
     "output_type": "stream",
     "text": [
      " 63%|██████▎   | 360/575 [01:21<00:22,  9.44it/s]\n",
      " 63%|██████▎   | 360/575 [01:28<00:22,  9.44it/s]"
     ]
    },
    {
     "name": "stdout",
     "output_type": "stream",
     "text": [
      "{'eval_loss': 0.11109016835689545, 'eval_precision': 0.8382069690071792, 'eval_recall': 0.847556657223796, 'eval_f1': 0.8428558852011621, 'eval_accuracy': 0.9716808441908044, 'eval_runtime': 7.3255, 'eval_samples_per_second': 471.369, 'eval_steps_per_second': 7.372, 'epoch': 3.13}\n"
     ]
    },
    {
     "name": "stderr",
     "output_type": "stream",
     "text": [
      " 73%|███████▎  | 420/575 [01:36<00:17,  9.00it/s]\n",
      " 73%|███████▎  | 420/575 [01:43<00:17,  9.00it/s]"
     ]
    },
    {
     "name": "stdout",
     "output_type": "stream",
     "text": [
      "{'eval_loss': 0.12631481885910034, 'eval_precision': 0.8439084076210452, 'eval_recall': 0.8548158640226629, 'eval_f1': 0.8493271176004925, 'eval_accuracy': 0.9726930117368364, 'eval_runtime': 7.2171, 'eval_samples_per_second': 478.45, 'eval_steps_per_second': 7.482, 'epoch': 3.65}\n"
     ]
    },
    {
     "name": "stderr",
     "output_type": "stream",
     "text": [
      " 83%|████████▎ | 480/575 [01:50<00:10,  9.15it/s]\n",
      " 83%|████████▎ | 480/575 [01:58<00:10,  9.15it/s]"
     ]
    },
    {
     "name": "stdout",
     "output_type": "stream",
     "text": [
      "{'eval_loss': 0.1259559690952301, 'eval_precision': 0.8527332298672184, 'eval_recall': 0.8755311614730878, 'eval_f1': 0.8639818293002534, 'eval_accuracy': 0.9735544309249489, 'eval_runtime': 7.2734, 'eval_samples_per_second': 474.743, 'eval_steps_per_second': 7.424, 'epoch': 4.17}\n"
     ]
    },
    {
     "name": "stderr",
     "output_type": "stream",
     "text": [
      " 87%|████████▋ | 500/575 [02:02<00:09,  8.11it/s]"
     ]
    },
    {
     "name": "stdout",
     "output_type": "stream",
     "text": [
      "{'loss': 0.4921, 'learning_rate': 2e-05, 'epoch': 4.35}\n"
     ]
    },
    {
     "name": "stderr",
     "output_type": "stream",
     "text": [
      " 94%|█████████▎| 539/575 [02:06<00:03,  9.64it/s]\n",
      " 94%|█████████▍| 540/575 [02:14<00:03,  9.64it/s]"
     ]
    },
    {
     "name": "stdout",
     "output_type": "stream",
     "text": [
      "{'eval_loss': 0.13092252612113953, 'eval_precision': 0.8520658263305322, 'eval_recall': 0.8617209631728046, 'eval_f1': 0.8568661971830986, 'eval_accuracy': 0.9735975018843545, 'eval_runtime': 7.2759, 'eval_samples_per_second': 474.583, 'eval_steps_per_second': 7.422, 'epoch': 4.7}\n"
     ]
    },
    {
     "name": "stderr",
     "output_type": "stream",
     "text": [
      "100%|██████████| 575/575 [02:19<00:00,  4.11it/s]\n"
     ]
    },
    {
     "name": "stdout",
     "output_type": "stream",
     "text": [
      "{'train_runtime': 139.8455, 'train_samples_per_second': 65.251, 'train_steps_per_second': 4.112, 'train_loss': 0.43197372270667034, 'epoch': 5.0}\n"
     ]
    },
    {
     "name": "stderr",
     "output_type": "stream",
     "text": [
      "100%|██████████| 54/54 [00:07<00:00,  7.68it/s]\n"
     ]
    },
    {
     "data": {
      "image/png": "[encoded data removed]",
      "text/plain": [
       "<Figure size 480x480 with 1 Axes>"
      ]
     },
     "metadata": {},
     "output_type": "display_data"
    },
    {
     "name": "stdout",
     "output_type": "stream",
     "text": [
      "   overall_precision  overall_recall  overall_f1  overall_accuracy\n",
      "0           0.838207        0.847557    0.842856          0.971681\n",
      "\n",
      "                   LOC        MISC          ORG          PER\n",
      "precision     0.833053    0.690226     0.783140     0.969500\n",
      "recall        0.891487    0.653846     0.810957     0.923933\n",
      "f1            0.861280    0.671544     0.796806     0.946168\n",
      "number     1668.000000  702.000000  1661.000000  1617.000000\n",
      "\n",
      "end of run\n",
      "---------------------------------------------------\n",
      "---------------------------------------------------\n",
      "starting run on training set of 15%\n",
      "\n"
     ]
    },
    {
     "name": "stderr",
     "output_type": "stream",
     "text": [
      "Some weights of the model checkpoint at bert-base-cased were not used when initializing BertForTokenClassification: ['cls.predictions.transform.LayerNorm.weight', 'cls.predictions.transform.dense.weight', 'cls.predictions.transform.dense.bias', 'cls.predictions.bias', 'cls.seq_relationship.weight', 'cls.seq_relationship.bias', 'cls.predictions.transform.LayerNorm.bias']\n",
      "- This IS expected if you are initializing BertForTokenClassification from the checkpoint of a model trained on another task or with another architecture (e.g. initializing a BertForSequenceClassification model from a BertForPreTraining model).\n",
      "- This IS NOT expected if you are initializing BertForTokenClassification from the checkpoint of a model that you expect to be exactly identical (initializing a BertForSequenceClassification model from a BertForSequenceClassification model).\n",
      "Some weights of BertForTokenClassification were not initialized from the model checkpoint at bert-base-cased and are newly initialized: ['classifier.bias', 'classifier.weight']\n",
      "You should probably TRAIN this model on a down-stream task to be able to use it for predictions and inference.\n",
      "Found cached dataset conll2003 (/home/ronen/.cache/huggingface/datasets/conll2003/conll2003/1.0.0/9a4d16a94f8674ba3466315300359b0acd891b68b6c8743ddf60b9c702adce98)\n",
      "100%|██████████| 3/3 [00:00<00:00, 558.25it/s]\n",
      "Loading cached processed dataset at /home/ronen/.cache/huggingface/datasets/conll2003/conll2003/1.0.0/9a4d16a94f8674ba3466315300359b0acd891b68b6c8743ddf60b9c702adce98/cache-33d77269e8c83b42.arrow\n",
      "Loading cached processed dataset at /home/ronen/.cache/huggingface/datasets/conll2003/conll2003/1.0.0/9a4d16a94f8674ba3466315300359b0acd891b68b6c8743ddf60b9c702adce98/cache-e404aa9a2bdfb159.arrow\n",
      "/home/ronen/Documents/college/NNForNLP/workshop_1/.conda/lib/python3.10/site-packages/transformers/optimization.py:411: FutureWarning: This implementation of AdamW is deprecated and will be removed in a future version. Use the PyTorch implementation torch.optim.AdamW instead, or set `no_deprecation_warning=True` to disable this warning\n",
      "  warnings.warn(\n",
      "  9%|▉         | 60/660 [00:06<01:03,  9.47it/s]\n",
      "  9%|▉         | 60/660 [00:13<01:03,  9.47it/s]"
     ]
    },
    {
     "name": "stdout",
     "output_type": "stream",
     "text": [
      "{'eval_loss': 1.477642297744751, 'eval_precision': 0.011363636363636364, 'eval_recall': 0.0008852691218130312, 'eval_f1': 0.00164257555847569, 'eval_accuracy': 0.8171207063637342, 'eval_runtime': 7.1646, 'eval_samples_per_second': 481.956, 'eval_steps_per_second': 7.537, 'epoch': 0.45}\n"
     ]
    },
    {
     "name": "stderr",
     "output_type": "stream",
     "text": [
      " 18%|█▊        | 120/660 [00:21<00:57,  9.31it/s]/home/ronen/Documents/college/NNForNLP/workshop_1/.conda/lib/python3.10/site-packages/seqeval/metrics/v1.py:57: UndefinedMetricWarning: Precision and F-score are ill-defined and being set to 0.0 in labels with no predicted samples. Use `zero_division` parameter to control this behavior.\n",
      "  _warn_prf(average, modifier, msg_start, len(result))\n",
      "/home/ronen/Documents/college/NNForNLP/workshop_1/.conda/lib/python3.10/site-packages/seqeval/metrics/v1.py:57: UndefinedMetricWarning: Precision and F-score are ill-defined and being set to 0.0 due to no predicted samples. Use `zero_division` parameter to control this behavior.\n",
      "  _warn_prf(average, modifier, msg_start, len(result))\n",
      "\n",
      " 18%|█▊        | 120/660 [00:28<00:57,  9.31it/s]"
     ]
    },
    {
     "name": "stdout",
     "output_type": "stream",
     "text": [
      "{'eval_loss': 0.6302682757377625, 'eval_precision': 0.0, 'eval_recall': 0.0, 'eval_f1': 0.0, 'eval_accuracy': 0.8253041886508022, 'eval_runtime': 7.1748, 'eval_samples_per_second': 481.265, 'eval_steps_per_second': 7.526, 'epoch': 0.91}\n"
     ]
    },
    {
     "name": "stderr",
     "output_type": "stream",
     "text": [
      " 27%|██▋       | 179/660 [00:35<00:51,  9.26it/s]\n",
      " 27%|██▋       | 180/660 [00:42<00:51,  9.26it/s]"
     ]
    },
    {
     "name": "stdout",
     "output_type": "stream",
     "text": [
      "{'eval_loss': 0.33567339181900024, 'eval_precision': 0.4072249589490969, 'eval_recall': 0.4830028328611898, 'eval_f1': 0.4418887179071839, 'eval_accuracy': 0.9148056422956822, 'eval_runtime': 7.2687, 'eval_samples_per_second': 475.048, 'eval_steps_per_second': 7.429, 'epoch': 1.36}\n"
     ]
    },
    {
     "name": "stderr",
     "output_type": "stream",
     "text": [
      " 36%|███▋      | 240/660 [00:51<00:45,  9.25it/s]\n",
      " 36%|███▋      | 240/660 [00:59<00:45,  9.25it/s]"
     ]
    },
    {
     "name": "stdout",
     "output_type": "stream",
     "text": [
      "{'eval_loss': 0.20542363822460175, 'eval_precision': 0.6278019674246089, 'eval_recall': 0.689270538243626, 'eval_f1': 0.6571018651362984, 'eval_accuracy': 0.9462689781414881, 'eval_runtime': 7.4291, 'eval_samples_per_second': 464.796, 'eval_steps_per_second': 7.269, 'epoch': 1.82}\n"
     ]
    },
    {
     "name": "stderr",
     "output_type": "stream",
     "text": [
      " 45%|████▌     | 300/660 [01:06<00:37,  9.65it/s]\n",
      " 45%|████▌     | 300/660 [01:13<00:37,  9.65it/s]"
     ]
    },
    {
     "name": "stdout",
     "output_type": "stream",
     "text": [
      "{'eval_loss': 0.14254127442836761, 'eval_precision': 0.7960980662983426, 'eval_recall': 0.8163951841359773, 'eval_f1': 0.8061188811188812, 'eval_accuracy': 0.9652848067190697, 'eval_runtime': 7.4124, 'eval_samples_per_second': 465.842, 'eval_steps_per_second': 7.285, 'epoch': 2.27}\n"
     ]
    },
    {
     "name": "stderr",
     "output_type": "stream",
     "text": [
      " 54%|█████▍    | 359/660 [01:21<00:30,  9.82it/s]\n",
      " 55%|█████▍    | 360/660 [01:29<00:30,  9.82it/s]"
     ]
    },
    {
     "name": "stdout",
     "output_type": "stream",
     "text": [
      "{'eval_loss': 0.12379676103591919, 'eval_precision': 0.8110749185667753, 'eval_recall': 0.8376416430594901, 'eval_f1': 0.8241442383067676, 'eval_accuracy': 0.9695272962205234, 'eval_runtime': 7.5294, 'eval_samples_per_second': 458.601, 'eval_steps_per_second': 7.172, 'epoch': 2.73}\n"
     ]
    },
    {
     "name": "stderr",
     "output_type": "stream",
     "text": [
      " 64%|██████▎   | 420/660 [01:38<00:25,  9.26it/s]\n",
      " 64%|██████▎   | 420/660 [01:45<00:25,  9.26it/s]"
     ]
    },
    {
     "name": "stdout",
     "output_type": "stream",
     "text": [
      "{'eval_loss': 0.11428847908973694, 'eval_precision': 0.8419693578929248, 'eval_recall': 0.8659702549575071, 'eval_f1': 0.8538011695906433, 'eval_accuracy': 0.973317540648218, 'eval_runtime': 7.3631, 'eval_samples_per_second': 468.96, 'eval_steps_per_second': 7.334, 'epoch': 3.18}\n"
     ]
    },
    {
     "name": "stderr",
     "output_type": "stream",
     "text": [
      " 73%|███████▎  | 480/660 [01:52<00:18,  9.72it/s]\n",
      " 73%|███████▎  | 480/660 [02:00<00:18,  9.72it/s]"
     ]
    },
    {
     "name": "stdout",
     "output_type": "stream",
     "text": [
      "{'eval_loss': 0.11468861252069473, 'eval_precision': 0.8453162806774974, 'eval_recall': 0.8659702549575071, 'eval_f1': 0.8555186286513905, 'eval_accuracy': 0.9736190373640573, 'eval_runtime': 7.3032, 'eval_samples_per_second': 472.805, 'eval_steps_per_second': 7.394, 'epoch': 3.64}\n"
     ]
    },
    {
     "name": "stderr",
     "output_type": "stream",
     "text": [
      " 76%|███████▌  | 501/660 [02:04<00:19,  8.20it/s]"
     ]
    },
    {
     "name": "stdout",
     "output_type": "stream",
     "text": [
      "{'loss': 0.4614, 'learning_rate': 2e-05, 'epoch': 3.79}\n"
     ]
    },
    {
     "name": "stderr",
     "output_type": "stream",
     "text": [
      " 82%|████████▏ | 540/660 [02:09<00:13,  8.62it/s]\n",
      " 82%|████████▏ | 540/660 [02:16<00:13,  8.62it/s]"
     ]
    },
    {
     "name": "stdout",
     "output_type": "stream",
     "text": [
      "{'eval_loss': 0.1124972477555275, 'eval_precision': 0.86223691076709, 'eval_recall': 0.8776558073654391, 'eval_f1': 0.8698780380801965, 'eval_accuracy': 0.9749327016259287, 'eval_runtime': 7.2327, 'eval_samples_per_second': 477.416, 'eval_steps_per_second': 7.466, 'epoch': 4.09}\n"
     ]
    },
    {
     "name": "stderr",
     "output_type": "stream",
     "text": [
      " 91%|█████████ | 600/660 [02:25<00:06,  9.35it/s]\n",
      " 91%|█████████ | 600/660 [02:32<00:06,  9.35it/s]"
     ]
    },
    {
     "name": "stdout",
     "output_type": "stream",
     "text": [
      "{'eval_loss': 0.1250215768814087, 'eval_precision': 0.8597952455318411, 'eval_recall': 0.8773016997167139, 'eval_f1': 0.8684602576461309, 'eval_accuracy': 0.9753849466996878, 'eval_runtime': 7.2084, 'eval_samples_per_second': 479.025, 'eval_steps_per_second': 7.491, 'epoch': 4.55}\n"
     ]
    },
    {
     "name": "stderr",
     "output_type": "stream",
     "text": [
      "100%|██████████| 660/660 [02:40<00:00, 10.74it/s]\n",
      "100%|██████████| 660/660 [02:47<00:00, 10.74it/s]"
     ]
    },
    {
     "name": "stdout",
     "output_type": "stream",
     "text": [
      "{'eval_loss': 0.11920807510614395, 'eval_precision': 0.8720727018524991, 'eval_recall': 0.8834985835694051, 'eval_f1': 0.8777484608619174, 'eval_accuracy': 0.9766555400021536, 'eval_runtime': 7.188, 'eval_samples_per_second': 480.383, 'eval_steps_per_second': 7.513, 'epoch': 5.0}\n"
     ]
    },
    {
     "name": "stderr",
     "output_type": "stream",
     "text": [
      "100%|██████████| 660/660 [02:49<00:00,  3.90it/s]\n"
     ]
    },
    {
     "name": "stdout",
     "output_type": "stream",
     "text": [
      "{'train_runtime': 169.314, 'train_samples_per_second': 62.192, 'train_steps_per_second': 3.898, 'train_loss': 0.35673225359483196, 'epoch': 5.0}\n"
     ]
    },
    {
     "name": "stderr",
     "output_type": "stream",
     "text": [
      "100%|██████████| 54/54 [00:07<00:00,  7.55it/s]\n"
     ]
    },
    {
     "data": {
      "image/png": "[encoded data removed]",
      "text/plain": [
       "<Figure size 480x480 with 1 Axes>"
      ]
     },
     "metadata": {},
     "output_type": "display_data"
    },
    {
     "name": "stdout",
     "output_type": "stream",
     "text": [
      "   overall_precision  overall_recall  overall_f1  overall_accuracy\n",
      "0           0.862237        0.877656    0.869878          0.974933\n",
      "\n",
      "                   LOC        MISC          ORG          PER\n",
      "precision     0.890616    0.703652     0.825086     0.942189\n",
      "recall        0.893285    0.713675     0.863335     0.947434\n",
      "f1            0.891949    0.708628     0.843778     0.944804\n",
      "number     1668.000000  702.000000  1661.000000  1617.000000\n",
      "\n",
      "end of run\n",
      "---------------------------------------------------\n",
      "---------------------------------------------------\n",
      "starting run on training set of 17%\n",
      "\n"
     ]
    },
    {
     "name": "stderr",
     "output_type": "stream",
     "text": [
      "Some weights of the model checkpoint at bert-base-cased were not used when initializing BertForTokenClassification: ['cls.predictions.transform.LayerNorm.weight', 'cls.predictions.transform.dense.weight', 'cls.predictions.transform.dense.bias', 'cls.predictions.bias', 'cls.seq_relationship.weight', 'cls.seq_relationship.bias', 'cls.predictions.transform.LayerNorm.bias']\n",
      "- This IS expected if you are initializing BertForTokenClassification from the checkpoint of a model trained on another task or with another architecture (e.g. initializing a BertForSequenceClassification model from a BertForPreTraining model).\n",
      "- This IS NOT expected if you are initializing BertForTokenClassification from the checkpoint of a model that you expect to be exactly identical (initializing a BertForSequenceClassification model from a BertForSequenceClassification model).\n",
      "Some weights of BertForTokenClassification were not initialized from the model checkpoint at bert-base-cased and are newly initialized: ['classifier.bias', 'classifier.weight']\n",
      "You should probably TRAIN this model on a down-stream task to be able to use it for predictions and inference.\n",
      "Found cached dataset conll2003 (/home/ronen/.cache/huggingface/datasets/conll2003/conll2003/1.0.0/9a4d16a94f8674ba3466315300359b0acd891b68b6c8743ddf60b9c702adce98)\n",
      "100%|██████████| 3/3 [00:00<00:00, 804.38it/s]\n",
      "Loading cached processed dataset at /home/ronen/.cache/huggingface/datasets/conll2003/conll2003/1.0.0/9a4d16a94f8674ba3466315300359b0acd891b68b6c8743ddf60b9c702adce98/cache-33d77269e8c83b42.arrow\n",
      "Loading cached processed dataset at /home/ronen/.cache/huggingface/datasets/conll2003/conll2003/1.0.0/9a4d16a94f8674ba3466315300359b0acd891b68b6c8743ddf60b9c702adce98/cache-e404aa9a2bdfb159.arrow\n",
      "/home/ronen/Documents/college/NNForNLP/workshop_1/.conda/lib/python3.10/site-packages/transformers/optimization.py:411: FutureWarning: This implementation of AdamW is deprecated and will be removed in a future version. Use the PyTorch implementation torch.optim.AdamW instead, or set `no_deprecation_warning=True` to disable this warning\n",
      "  warnings.warn(\n",
      "  8%|▊         | 60/750 [00:06<01:12,  9.54it/s]\n",
      "  8%|▊         | 60/750 [00:13<01:12,  9.54it/s]"
     ]
    },
    {
     "name": "stdout",
     "output_type": "stream",
     "text": [
      "{'eval_loss': 1.7369072437286377, 'eval_precision': 0.02598836781270706, 'eval_recall': 0.0625, 'eval_f1': 0.036711559461286465, 'eval_accuracy': 0.6124259717885215, 'eval_runtime': 7.3661, 'eval_samples_per_second': 468.772, 'eval_steps_per_second': 7.331, 'epoch': 0.4}\n"
     ]
    },
    {
     "name": "stderr",
     "output_type": "stream",
     "text": [
      " 16%|█▌        | 119/750 [00:21<01:09,  9.04it/s]/home/ronen/Documents/college/NNForNLP/workshop_1/.conda/lib/python3.10/site-packages/seqeval/metrics/v1.py:57: UndefinedMetricWarning: Precision and F-score are ill-defined and being set to 0.0 in labels with no predicted samples. Use `zero_division` parameter to control this behavior.\n",
      "  _warn_prf(average, modifier, msg_start, len(result))\n",
      "\n",
      " 16%|█▌        | 120/750 [00:28<01:09,  9.04it/s]"
     ]
    },
    {
     "name": "stdout",
     "output_type": "stream",
     "text": [
      "{'eval_loss': 0.6107040047645569, 'eval_precision': 0.10344827586206896, 'eval_recall': 0.0005311614730878187, 'eval_f1': 0.0010568962480183197, 'eval_accuracy': 0.8253903305696134, 'eval_runtime': 7.4323, 'eval_samples_per_second': 464.596, 'eval_steps_per_second': 7.266, 'epoch': 0.8}\n"
     ]
    },
    {
     "name": "stderr",
     "output_type": "stream",
     "text": [
      " 24%|██▍       | 180/750 [00:36<01:02,  9.12it/s]/home/ronen/Documents/college/NNForNLP/workshop_1/.conda/lib/python3.10/site-packages/seqeval/metrics/v1.py:57: UndefinedMetricWarning: Precision and F-score are ill-defined and being set to 0.0 in labels with no predicted samples. Use `zero_division` parameter to control this behavior.\n",
      "  _warn_prf(average, modifier, msg_start, len(result))\n",
      "\n",
      " 24%|██▍       | 180/750 [00:43<01:02,  9.12it/s]"
     ]
    },
    {
     "name": "stdout",
     "output_type": "stream",
     "text": [
      "{'eval_loss': 0.33055824041366577, 'eval_precision': 0.4640098856966327, 'eval_recall': 0.5318696883852692, 'eval_f1': 0.4956277841940274, 'eval_accuracy': 0.9198880155055453, 'eval_runtime': 7.242, 'eval_samples_per_second': 476.802, 'eval_steps_per_second': 7.457, 'epoch': 1.2}\n"
     ]
    },
    {
     "name": "stderr",
     "output_type": "stream",
     "text": [
      " 32%|███▏      | 239/750 [00:51<00:50, 10.04it/s]\n",
      " 32%|███▏      | 240/750 [00:58<00:50, 10.04it/s]"
     ]
    },
    {
     "name": "stdout",
     "output_type": "stream",
     "text": [
      "{'eval_loss': 0.18858592212200165, 'eval_precision': 0.6625355886786133, 'eval_recall': 0.7004249291784702, 'eval_f1': 0.6809536104656165, 'eval_accuracy': 0.9489824485840422, 'eval_runtime': 7.2077, 'eval_samples_per_second': 479.073, 'eval_steps_per_second': 7.492, 'epoch': 1.6}\n"
     ]
    },
    {
     "name": "stderr",
     "output_type": "stream",
     "text": [
      " 40%|███▉      | 299/750 [01:06<00:49,  9.17it/s]\n",
      " 40%|████      | 300/750 [01:13<00:49,  9.17it/s]"
     ]
    },
    {
     "name": "stdout",
     "output_type": "stream",
     "text": [
      "{'eval_loss': 0.13773928582668304, 'eval_precision': 0.7727041249363436, 'eval_recall': 0.8059490084985835, 'eval_f1': 0.7889765144293266, 'eval_accuracy': 0.9640572843760095, 'eval_runtime': 7.2825, 'eval_samples_per_second': 474.153, 'eval_steps_per_second': 7.415, 'epoch': 2.0}\n"
     ]
    },
    {
     "name": "stderr",
     "output_type": "stream",
     "text": [
      " 48%|████▊     | 360/750 [01:21<00:42,  9.25it/s]\n",
      " 48%|████▊     | 360/750 [01:28<00:42,  9.25it/s]"
     ]
    },
    {
     "name": "stdout",
     "output_type": "stream",
     "text": [
      "{'eval_loss': 0.1194927841424942, 'eval_precision': 0.8317724592438432, 'eval_recall': 0.8491501416430595, 'eval_f1': 0.8403714736288769, 'eval_accuracy': 0.9712932055561537, 'eval_runtime': 7.3191, 'eval_samples_per_second': 471.783, 'eval_steps_per_second': 7.378, 'epoch': 2.4}\n"
     ]
    },
    {
     "name": "stderr",
     "output_type": "stream",
     "text": [
      " 56%|█████▌    | 420/750 [01:36<00:36,  9.11it/s]\n",
      " 56%|█████▌    | 420/750 [01:44<00:36,  9.11it/s]"
     ]
    },
    {
     "name": "stdout",
     "output_type": "stream",
     "text": [
      "{'eval_loss': 0.11808677762746811, 'eval_precision': 0.811864406779661, 'eval_recall': 0.8480878186968839, 'eval_f1': 0.829580879806027, 'eval_accuracy': 0.970582534725961, 'eval_runtime': 7.4139, 'eval_samples_per_second': 465.748, 'eval_steps_per_second': 7.284, 'epoch': 2.8}\n"
     ]
    },
    {
     "name": "stderr",
     "output_type": "stream",
     "text": [
      " 64%|██████▍   | 480/750 [01:51<00:28,  9.49it/s]\n",
      " 64%|██████▍   | 480/750 [01:58<00:28,  9.49it/s]"
     ]
    },
    {
     "name": "stdout",
     "output_type": "stream",
     "text": [
      "{'eval_loss': 0.12384625524282455, 'eval_precision': 0.8407094885483037, 'eval_recall': 0.8643767705382436, 'eval_f1': 0.852378873854212, 'eval_accuracy': 0.9733821470873264, 'eval_runtime': 7.1204, 'eval_samples_per_second': 484.942, 'eval_steps_per_second': 7.584, 'epoch': 3.2}\n"
     ]
    },
    {
     "name": "stderr",
     "output_type": "stream",
     "text": [
      " 67%|██████▋   | 501/750 [02:01<00:28,  8.59it/s]"
     ]
    },
    {
     "name": "stdout",
     "output_type": "stream",
     "text": [
      "{'loss': 0.5179, 'learning_rate': 2e-05, 'epoch': 3.33}\n"
     ]
    },
    {
     "name": "stderr",
     "output_type": "stream",
     "text": [
      " 72%|███████▏  | 540/750 [02:05<00:20, 10.12it/s]\n",
      " 72%|███████▏  | 540/750 [02:12<00:20, 10.12it/s]"
     ]
    },
    {
     "name": "stdout",
     "output_type": "stream",
     "text": [
      "{'eval_loss': 0.11309953033924103, 'eval_precision': 0.8667596791070806, 'eval_recall': 0.8799575070821529, 'eval_f1': 0.8733087330873308, 'eval_accuracy': 0.9765693980833423, 'eval_runtime': 7.0641, 'eval_samples_per_second': 488.807, 'eval_steps_per_second': 7.644, 'epoch': 3.6}\n"
     ]
    },
    {
     "name": "stderr",
     "output_type": "stream",
     "text": [
      " 80%|████████  | 600/750 [02:20<00:13, 11.06it/s]\n",
      " 80%|████████  | 600/750 [02:27<00:13, 11.06it/s]"
     ]
    },
    {
     "name": "stdout",
     "output_type": "stream",
     "text": [
      "{'eval_loss': 0.1164088100194931, 'eval_precision': 0.8549072971593809, 'eval_recall': 0.8898725212464589, 'eval_f1': 0.8720395592955668, 'eval_accuracy': 0.9746096694303865, 'eval_runtime': 7.0785, 'eval_samples_per_second': 487.816, 'eval_steps_per_second': 7.629, 'epoch': 4.0}\n"
     ]
    },
    {
     "name": "stderr",
     "output_type": "stream",
     "text": [
      " 88%|████████▊ | 660/750 [02:34<00:09,  9.47it/s]\n",
      " 88%|████████▊ | 660/750 [02:41<00:09,  9.47it/s]"
     ]
    },
    {
     "name": "stdout",
     "output_type": "stream",
     "text": [
      "{'eval_loss': 0.1240091621875763, 'eval_precision': 0.8503250085528566, 'eval_recall': 0.8801345609065155, 'eval_f1': 0.8649730294066469, 'eval_accuracy': 0.9745235275115753, 'eval_runtime': 7.0811, 'eval_samples_per_second': 487.638, 'eval_steps_per_second': 7.626, 'epoch': 4.4}\n"
     ]
    },
    {
     "name": "stderr",
     "output_type": "stream",
     "text": [
      " 96%|█████████▌| 720/750 [02:48<00:03,  9.83it/s]\n",
      " 96%|█████████▌| 720/750 [02:55<00:03,  9.83it/s]"
     ]
    },
    {
     "name": "stdout",
     "output_type": "stream",
     "text": [
      "{'eval_loss': 0.11741720885038376, 'eval_precision': 0.8660096818810512, 'eval_recall': 0.8868626062322946, 'eval_f1': 0.8763121063680895, 'eval_accuracy': 0.9766770754818563, 'eval_runtime': 7.155, 'eval_samples_per_second': 482.598, 'eval_steps_per_second': 7.547, 'epoch': 4.8}\n"
     ]
    },
    {
     "name": "stderr",
     "output_type": "stream",
     "text": [
      "100%|██████████| 750/750 [03:00<00:00,  4.15it/s]\n"
     ]
    },
    {
     "name": "stdout",
     "output_type": "stream",
     "text": [
      "{'train_runtime': 180.5166, 'train_samples_per_second': 66.088, 'train_steps_per_second': 4.155, 'train_loss': 0.35480552291870115, 'epoch': 5.0}\n"
     ]
    },
    {
     "name": "stderr",
     "output_type": "stream",
     "text": [
      "100%|██████████| 54/54 [00:06<00:00,  8.00it/s]\n"
     ]
    },
    {
     "data": {
      "image/png": "[encoded data removed]",
      "text/plain": [
       "<Figure size 480x480 with 1 Axes>"
      ]
     },
     "metadata": {},
     "output_type": "display_data"
    },
    {
     "name": "stdout",
     "output_type": "stream",
     "text": [
      "   overall_precision  overall_recall  overall_f1  overall_accuracy\n",
      "0            0.86676        0.879958    0.873309          0.976569\n",
      "\n",
      "                   LOC        MISC          ORG          PER\n",
      "precision     0.895088    0.747748     0.801639     0.962240\n",
      "recall        0.884892    0.709402     0.883203     0.945578\n",
      "f1            0.889961    0.728070     0.840447     0.953837\n",
      "number     1668.000000  702.000000  1661.000000  1617.000000\n",
      "\n",
      "end of run\n",
      "---------------------------------------------------\n",
      "---------------------------------------------------\n",
      "starting run on training set of 19%\n",
      "\n"
     ]
    },
    {
     "name": "stderr",
     "output_type": "stream",
     "text": [
      "Some weights of the model checkpoint at bert-base-cased were not used when initializing BertForTokenClassification: ['cls.predictions.transform.LayerNorm.weight', 'cls.predictions.transform.dense.weight', 'cls.predictions.transform.dense.bias', 'cls.predictions.bias', 'cls.seq_relationship.weight', 'cls.seq_relationship.bias', 'cls.predictions.transform.LayerNorm.bias']\n",
      "- This IS expected if you are initializing BertForTokenClassification from the checkpoint of a model trained on another task or with another architecture (e.g. initializing a BertForSequenceClassification model from a BertForPreTraining model).\n",
      "- This IS NOT expected if you are initializing BertForTokenClassification from the checkpoint of a model that you expect to be exactly identical (initializing a BertForSequenceClassification model from a BertForSequenceClassification model).\n",
      "Some weights of BertForTokenClassification were not initialized from the model checkpoint at bert-base-cased and are newly initialized: ['classifier.bias', 'classifier.weight']\n",
      "You should probably TRAIN this model on a down-stream task to be able to use it for predictions and inference.\n",
      "Found cached dataset conll2003 (/home/ronen/.cache/huggingface/datasets/conll2003/conll2003/1.0.0/9a4d16a94f8674ba3466315300359b0acd891b68b6c8743ddf60b9c702adce98)\n",
      "100%|██████████| 3/3 [00:00<00:00, 742.79it/s]\n",
      "Loading cached processed dataset at /home/ronen/.cache/huggingface/datasets/conll2003/conll2003/1.0.0/9a4d16a94f8674ba3466315300359b0acd891b68b6c8743ddf60b9c702adce98/cache-33d77269e8c83b42.arrow\n",
      "Loading cached processed dataset at /home/ronen/.cache/huggingface/datasets/conll2003/conll2003/1.0.0/9a4d16a94f8674ba3466315300359b0acd891b68b6c8743ddf60b9c702adce98/cache-e404aa9a2bdfb159.arrow\n",
      "/home/ronen/Documents/college/NNForNLP/workshop_1/.conda/lib/python3.10/site-packages/transformers/optimization.py:411: FutureWarning: This implementation of AdamW is deprecated and will be removed in a future version. Use the PyTorch implementation torch.optim.AdamW instead, or set `no_deprecation_warning=True` to disable this warning\n",
      "  warnings.warn(\n",
      "  7%|▋         | 60/835 [00:06<01:18,  9.85it/s]\n",
      "  7%|▋         | 60/835 [00:13<01:18,  9.85it/s]"
     ]
    },
    {
     "name": "stdout",
     "output_type": "stream",
     "text": [
      "{'eval_loss': 1.4875688552856445, 'eval_precision': 0.04794520547945205, 'eval_recall': 0.007436260623229462, 'eval_f1': 0.012875536480686697, 'eval_accuracy': 0.8124475072682243, 'eval_runtime': 7.2386, 'eval_samples_per_second': 477.025, 'eval_steps_per_second': 7.46, 'epoch': 0.36}\n"
     ]
    },
    {
     "name": "stderr",
     "output_type": "stream",
     "text": [
      " 14%|█▍        | 119/835 [00:20<01:10, 10.10it/s]/home/ronen/Documents/college/NNForNLP/workshop_1/.conda/lib/python3.10/site-packages/seqeval/metrics/v1.py:57: UndefinedMetricWarning: Precision and F-score are ill-defined and being set to 0.0 in labels with no predicted samples. Use `zero_division` parameter to control this behavior.\n",
      "  _warn_prf(average, modifier, msg_start, len(result))\n",
      "\n",
      " 14%|█▍        | 120/835 [00:28<01:10, 10.10it/s]"
     ]
    },
    {
     "name": "stdout",
     "output_type": "stream",
     "text": [
      "{'eval_loss': 0.6266493797302246, 'eval_precision': 0.0, 'eval_recall': 0.0, 'eval_f1': 0.0, 'eval_accuracy': 0.8253041886508022, 'eval_runtime': 7.2884, 'eval_samples_per_second': 473.769, 'eval_steps_per_second': 7.409, 'epoch': 0.72}\n"
     ]
    },
    {
     "name": "stderr",
     "output_type": "stream",
     "text": [
      " 22%|██▏       | 180/835 [00:35<01:05, 10.02it/s]\n",
      " 22%|██▏       | 180/835 [00:42<01:05, 10.02it/s]"
     ]
    },
    {
     "name": "stdout",
     "output_type": "stream",
     "text": [
      "{'eval_loss': 0.3351520895957947, 'eval_precision': 0.43187622051975366, 'eval_recall': 0.5090297450424929, 'eval_f1': 0.4672897196261683, 'eval_accuracy': 0.918918918918919, 'eval_runtime': 7.3162, 'eval_samples_per_second': 471.967, 'eval_steps_per_second': 7.381, 'epoch': 1.08}\n"
     ]
    },
    {
     "name": "stderr",
     "output_type": "stream",
     "text": [
      " 29%|██▊       | 239/835 [00:50<01:02,  9.48it/s]\n",
      " 29%|██▊       | 240/835 [00:57<01:02,  9.48it/s]"
     ]
    },
    {
     "name": "stdout",
     "output_type": "stream",
     "text": [
      "{'eval_loss': 0.19075767695903778, 'eval_precision': 0.6719698212235525, 'eval_recall': 0.7253895184135978, 'eval_f1': 0.6976585781183483, 'eval_accuracy': 0.9514159577904597, 'eval_runtime': 7.2405, 'eval_samples_per_second': 476.904, 'eval_steps_per_second': 7.458, 'epoch': 1.44}\n"
     ]
    },
    {
     "name": "stderr",
     "output_type": "stream",
     "text": [
      " 36%|███▌      | 300/835 [01:05<00:57,  9.38it/s]\n",
      " 36%|███▌      | 300/835 [01:12<00:57,  9.38it/s]"
     ]
    },
    {
     "name": "stdout",
     "output_type": "stream",
     "text": [
      "{'eval_loss': 0.13467612862586975, 'eval_precision': 0.7762154836523801, 'eval_recall': 0.8112606232294618, 'eval_f1': 0.7933512250021644, 'eval_accuracy': 0.9652848067190697, 'eval_runtime': 7.3941, 'eval_samples_per_second': 466.995, 'eval_steps_per_second': 7.303, 'epoch': 1.8}\n"
     ]
    },
    {
     "name": "stderr",
     "output_type": "stream",
     "text": [
      " 43%|████▎     | 360/835 [01:21<00:54,  8.69it/s]\n",
      " 43%|████▎     | 360/835 [01:28<00:54,  8.69it/s]"
     ]
    },
    {
     "name": "stdout",
     "output_type": "stream",
     "text": [
      "{'eval_loss': 0.13395100831985474, 'eval_precision': 0.7940981432360743, 'eval_recall': 0.8480878186968839, 'eval_f1': 0.8202054794520549, 'eval_accuracy': 0.9670937870141058, 'eval_runtime': 7.4663, 'eval_samples_per_second': 462.476, 'eval_steps_per_second': 7.232, 'epoch': 2.16}\n"
     ]
    },
    {
     "name": "stderr",
     "output_type": "stream",
     "text": [
      " 50%|█████     | 420/835 [01:35<00:43,  9.57it/s]\n",
      " 50%|█████     | 420/835 [01:43<00:43,  9.57it/s]"
     ]
    },
    {
     "name": "stdout",
     "output_type": "stream",
     "text": [
      "{'eval_loss': 0.11578770726919174, 'eval_precision': 0.8378006872852234, 'eval_recall': 0.863314447592068, 'eval_f1': 0.8503662364841299, 'eval_accuracy': 0.9723915150209971, 'eval_runtime': 7.263, 'eval_samples_per_second': 475.422, 'eval_steps_per_second': 7.435, 'epoch': 2.51}\n"
     ]
    },
    {
     "name": "stderr",
     "output_type": "stream",
     "text": [
      " 57%|█████▋    | 480/835 [01:51<00:39,  8.98it/s]\n",
      " 57%|█████▋    | 480/835 [01:59<00:39,  8.98it/s]"
     ]
    },
    {
     "name": "stdout",
     "output_type": "stream",
     "text": [
      "{'eval_loss': 0.10862652212381363, 'eval_precision': 0.8418817934782609, 'eval_recall': 0.8776558073654391, 'eval_f1': 0.8593966712898753, 'eval_accuracy': 0.9735113599655433, 'eval_runtime': 7.2946, 'eval_samples_per_second': 473.365, 'eval_steps_per_second': 7.403, 'epoch': 2.87}\n"
     ]
    },
    {
     "name": "stderr",
     "output_type": "stream",
     "text": [
      " 60%|██████    | 502/835 [02:03<00:35,  9.25it/s]"
     ]
    },
    {
     "name": "stdout",
     "output_type": "stream",
     "text": [
      "{'loss': 0.4661, 'learning_rate': 2e-05, 'epoch': 2.99}\n"
     ]
    },
    {
     "name": "stderr",
     "output_type": "stream",
     "text": [
      " 65%|██████▍   | 540/835 [02:07<00:32,  8.97it/s]\n",
      " 65%|██████▍   | 540/835 [02:15<00:32,  8.97it/s]"
     ]
    },
    {
     "name": "stdout",
     "output_type": "stream",
     "text": [
      "{'eval_loss': 0.11162999272346497, 'eval_precision': 0.862731521550978, 'eval_recall': 0.8824362606232294, 'eval_f1': 0.872472647702407, 'eval_accuracy': 0.9753203402605793, 'eval_runtime': 7.3477, 'eval_samples_per_second': 469.94, 'eval_steps_per_second': 7.349, 'epoch': 3.23}\n"
     ]
    },
    {
     "name": "stderr",
     "output_type": "stream",
     "text": [
      " 72%|███████▏  | 599/835 [02:22<00:27,  8.44it/s]\n",
      " 72%|███████▏  | 600/835 [02:29<00:27,  8.44it/s]"
     ]
    },
    {
     "name": "stdout",
     "output_type": "stream",
     "text": [
      "{'eval_loss': 0.11341233551502228, 'eval_precision': 0.8686030428769018, 'eval_recall': 0.8895184135977338, 'eval_f1': 0.8789363191042688, 'eval_accuracy': 0.9768278238397761, 'eval_runtime': 7.25, 'eval_samples_per_second': 476.273, 'eval_steps_per_second': 7.448, 'epoch': 3.59}\n"
     ]
    },
    {
     "name": "stderr",
     "output_type": "stream",
     "text": [
      " 79%|███████▉  | 659/835 [02:38<00:17, 10.15it/s]\n",
      " 79%|███████▉  | 660/835 [02:45<00:17, 10.15it/s]"
     ]
    },
    {
     "name": "stdout",
     "output_type": "stream",
     "text": [
      "{'eval_loss': 0.1083892285823822, 'eval_precision': 0.8613452606227421, 'eval_recall': 0.8865084985835694, 'eval_f1': 0.8737457464444638, 'eval_accuracy': 0.9760956175298805, 'eval_runtime': 7.2407, 'eval_samples_per_second': 476.886, 'eval_steps_per_second': 7.458, 'epoch': 3.95}\n"
     ]
    },
    {
     "name": "stderr",
     "output_type": "stream",
     "text": [
      " 86%|████████▌ | 720/835 [02:53<00:12,  9.09it/s]\n",
      " 86%|████████▌ | 720/835 [03:00<00:12,  9.09it/s]"
     ]
    },
    {
     "name": "stdout",
     "output_type": "stream",
     "text": [
      "{'eval_loss': 0.11173135042190552, 'eval_precision': 0.8698523023457863, 'eval_recall': 0.8863314447592068, 'eval_f1': 0.8780145575725686, 'eval_accuracy': 0.9765909335630452, 'eval_runtime': 7.3895, 'eval_samples_per_second': 467.282, 'eval_steps_per_second': 7.308, 'epoch': 4.31}\n"
     ]
    },
    {
     "name": "stderr",
     "output_type": "stream",
     "text": [
      " 93%|█████████▎| 779/835 [03:08<00:05,  9.50it/s]\n",
      " 93%|█████████▎| 780/835 [03:15<00:05,  9.50it/s]"
     ]
    },
    {
     "name": "stdout",
     "output_type": "stream",
     "text": [
      "{'eval_loss': 0.1188024953007698, 'eval_precision': 0.8719819350356088, 'eval_recall': 0.8888101983002833, 'eval_f1': 0.8803156510302499, 'eval_accuracy': 0.9765047916442339, 'eval_runtime': 7.2422, 'eval_samples_per_second': 476.787, 'eval_steps_per_second': 7.456, 'epoch': 4.67}\n"
     ]
    },
    {
     "name": "stderr",
     "output_type": "stream",
     "text": [
      "100%|██████████| 835/835 [03:23<00:00,  4.10it/s]\n"
     ]
    },
    {
     "name": "stdout",
     "output_type": "stream",
     "text": [
      "{'train_runtime': 203.5244, 'train_samples_per_second': 65.52, 'train_steps_per_second': 4.103, 'train_loss': 0.28902196827049026, 'epoch': 5.0}\n"
     ]
    },
    {
     "name": "stderr",
     "output_type": "stream",
     "text": [
      "100%|██████████| 54/54 [00:07<00:00,  7.71it/s]\n"
     ]
    },
    {
     "data": {
      "image/png": "[encoded data removed]",
      "text/plain": [
       "<Figure size 480x480 with 1 Axes>"
      ]
     },
     "metadata": {},
     "output_type": "display_data"
    },
    {
     "name": "stdout",
     "output_type": "stream",
     "text": [
      "   overall_precision  overall_recall  overall_f1  overall_accuracy\n",
      "0           0.861345        0.886508    0.873746          0.976096\n",
      "\n",
      "                   LOC        MISC          ORG          PER\n",
      "precision     0.860034    0.707756     0.830167     0.967619\n",
      "recall        0.917266    0.727920     0.868152     0.942486\n",
      "f1            0.887728    0.717697     0.848735     0.954887\n",
      "number     1668.000000  702.000000  1661.000000  1617.000000\n",
      "\n",
      "end of run\n",
      "---------------------------------------------------\n"
     ]
    },
    {
     "name": "stderr",
     "output_type": "stream",
     "text": [
      "  7%|▋         | 60/835 [00:06<01:24,  9.19it/s]\n",
      "  7%|▋         | 60/835 [00:13<01:24,  9.19it/s]"
     ]
    },
    {
     "name": "stdout",
     "output_type": "stream",
     "text": [
      "{'eval_loss': 0.1083892285823822, 'eval_precision': 0.8613452606227421, 'eval_recall': 0.8865084985835694, 'eval_f1': 0.8737457464444638, 'eval_accuracy': 0.9760956175298805, 'eval_runtime': 7.2875, 'eval_samples_per_second': 473.828, 'eval_steps_per_second': 7.41, 'epoch': 0.36}\n"
     ]
    },
    {
     "name": "stderr",
     "output_type": "stream",
     "text": [
      " 14%|█▍        | 120/835 [00:21<01:19,  9.02it/s]\n",
      " 14%|█▍        | 120/835 [00:28<01:19,  9.02it/s]"
     ]
    },
    {
     "name": "stdout",
     "output_type": "stream",
     "text": [
      "{'eval_loss': 0.1083892285823822, 'eval_precision': 0.8613452606227421, 'eval_recall': 0.8865084985835694, 'eval_f1': 0.8737457464444638, 'eval_accuracy': 0.9760956175298805, 'eval_runtime': 7.3671, 'eval_samples_per_second': 468.705, 'eval_steps_per_second': 7.33, 'epoch': 0.72}\n"
     ]
    },
    {
     "name": "stderr",
     "output_type": "stream",
     "text": [
      " 22%|██▏       | 180/835 [00:36<01:12,  9.01it/s]\n",
      " 22%|██▏       | 180/835 [00:43<01:12,  9.01it/s]"
     ]
    },
    {
     "name": "stdout",
     "output_type": "stream",
     "text": [
      "{'eval_loss': 0.1083892285823822, 'eval_precision': 0.8613452606227421, 'eval_recall': 0.8865084985835694, 'eval_f1': 0.8737457464444638, 'eval_accuracy': 0.9760956175298805, 'eval_runtime': 7.2582, 'eval_samples_per_second': 475.74, 'eval_steps_per_second': 7.44, 'epoch': 1.08}\n"
     ]
    },
    {
     "name": "stderr",
     "output_type": "stream",
     "text": [
      " 29%|██▊       | 240/835 [00:51<01:02,  9.54it/s]\n",
      " 29%|██▊       | 240/835 [00:58<01:02,  9.54it/s]"
     ]
    },
    {
     "name": "stdout",
     "output_type": "stream",
     "text": [
      "{'eval_loss': 0.1083892285823822, 'eval_precision': 0.8613452606227421, 'eval_recall': 0.8865084985835694, 'eval_f1': 0.8737457464444638, 'eval_accuracy': 0.9760956175298805, 'eval_runtime': 7.2474, 'eval_samples_per_second': 476.447, 'eval_steps_per_second': 7.451, 'epoch': 1.44}\n"
     ]
    },
    {
     "name": "stderr",
     "output_type": "stream",
     "text": [
      " 36%|███▌      | 300/835 [01:06<00:58,  9.22it/s]\n",
      " 36%|███▌      | 300/835 [01:13<00:58,  9.22it/s]"
     ]
    },
    {
     "name": "stdout",
     "output_type": "stream",
     "text": [
      "{'eval_loss': 0.1083892285823822, 'eval_precision': 0.8613452606227421, 'eval_recall': 0.8865084985835694, 'eval_f1': 0.8737457464444638, 'eval_accuracy': 0.9760956175298805, 'eval_runtime': 7.2442, 'eval_samples_per_second': 476.656, 'eval_steps_per_second': 7.454, 'epoch': 1.8}\n"
     ]
    },
    {
     "name": "stderr",
     "output_type": "stream",
     "text": [
      " 43%|████▎     | 360/835 [01:20<00:52,  9.03it/s]\n",
      " 43%|████▎     | 360/835 [01:28<00:52,  9.03it/s]"
     ]
    },
    {
     "name": "stdout",
     "output_type": "stream",
     "text": [
      "{'eval_loss': 0.1083892285823822, 'eval_precision': 0.8613452606227421, 'eval_recall': 0.8865084985835694, 'eval_f1': 0.8737457464444638, 'eval_accuracy': 0.9760956175298805, 'eval_runtime': 7.4044, 'eval_samples_per_second': 466.347, 'eval_steps_per_second': 7.293, 'epoch': 2.16}\n"
     ]
    },
    {
     "name": "stderr",
     "output_type": "stream",
     "text": [
      " 50%|█████     | 420/835 [01:36<00:41, 10.06it/s]\n",
      " 50%|█████     | 420/835 [01:43<00:41, 10.06it/s]"
     ]
    },
    {
     "name": "stdout",
     "output_type": "stream",
     "text": [
      "{'eval_loss': 0.1083892285823822, 'eval_precision': 0.8613452606227421, 'eval_recall': 0.8865084985835694, 'eval_f1': 0.8737457464444638, 'eval_accuracy': 0.9760956175298805, 'eval_runtime': 7.2999, 'eval_samples_per_second': 473.022, 'eval_steps_per_second': 7.397, 'epoch': 2.51}\n"
     ]
    },
    {
     "name": "stderr",
     "output_type": "stream",
     "text": [
      " 50%|█████     | 420/835 [01:45<01:44,  3.98it/s]"
     ]
    },
    {
     "name": "stdout",
     "output_type": "stream",
     "text": [
      "{'train_runtime': 105.65, 'train_samples_per_second': 126.219, 'train_steps_per_second': 7.903, 'train_loss': 0.019532065164475212, 'epoch': 2.51}\n"
     ]
    },
    {
     "name": "stderr",
     "output_type": "stream",
     "text": [
      "\n"
     ]
    },
    {
     "data": {
      "text/plain": [
       "TrainOutput(global_step=420, training_loss=0.019532065164475212, metrics={'train_runtime': 105.65, 'train_samples_per_second': 126.219, 'train_steps_per_second': 7.903, 'train_loss': 0.019532065164475212, 'epoch': 2.51})"
      ]
     },
     "execution_count": 15,
     "metadata": {},
     "output_type": "execute_result"
    }
   ],
   "source": [
    "import numpy as np\n",
    "\n",
    "for k in range(1, 20, 2):\n",
    "    print(\"---------------------------------------------------\")\n",
    "    print(f\"starting run on training set of {k}%\")\n",
    "    print()\n",
    "    model = reload_model()\n",
    "    dataset = load_dataset(k)\n",
    "    trainer = reload_trainer(f\"./logs_results/run_{k}%_data/\", dataset, model)\n",
    "    trainer.train()\n",
    "    results = eval(trainer, dataset)\n",
    "    pretty_print(results)\n",
    "    print()\n",
    "    print(\"end of run\")\n",
    "    print(\"---------------------------------------------------\")\n",
    "\n",
    "trainer.train()"
   ]
  }
 ],
 "metadata": {
  "kernelspec": {
   "display_name": "Python 3",
   "language": "python",
   "name": "python3"
  },
  "language_info": {
   "codemirror_mode": {
    "name": "ipython",
    "version": 3
   },
   "file_extension": ".py",
   "mimetype": "text/x-python",
   "name": "python",
   "nbconvert_exporter": "python",
   "pygments_lexer": "ipython3",
   "version": "3.10.10"
  },
  "orig_nbformat": 4
 },
 "nbformat": 4,
 "nbformat_minor": 2
}
